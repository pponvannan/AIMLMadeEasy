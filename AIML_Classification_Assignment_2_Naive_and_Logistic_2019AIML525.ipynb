{
  "nbformat": 4,
  "nbformat_minor": 0,
  "metadata": {
    "colab": {
      "name": "AIML Classification Assignment_2_Naive and Logistic_2019AIML525.ipynb",
      "provenance": [],
      "collapsed_sections": [],
      "toc_visible": true,
      "authorship_tag": "ABX9TyMMmyKB4YJGNk46OqHTzkEg",
      "include_colab_link": true
    },
    "kernelspec": {
      "name": "python3",
      "display_name": "Python 3"
    }
  },
  "cells": [
    {
      "cell_type": "markdown",
      "metadata": {
        "id": "view-in-github",
        "colab_type": "text"
      },
      "source": [
        "<a href=\"https://colab.research.google.com/github/pponvannan/AIMLMadeEasy/blob/master/AIML_Classification_Assignment_2_Naive_and_Logistic_2019AIML525.ipynb\" target=\"_parent\"><img src=\"https://colab.research.google.com/assets/colab-badge.svg\" alt=\"Open In Colab\"/></a>"
      ]
    },
    {
      "cell_type": "markdown",
      "metadata": {
        "id": "jOscfTriJK1c",
        "colab_type": "text"
      },
      "source": [
        "# AIML Classification Assignment 2"
      ]
    },
    {
      "cell_type": "markdown",
      "metadata": {
        "id": "xvcDryx0JQHc",
        "colab_type": "text"
      },
      "source": [
        "## Build Logistic Regression & Naive Bayes  model which will predict whether a patient is susceptible to liver disease or not.\n",
        "\n",
        "### 1. Implementing the Naïve Bayes classifier using Python \n",
        "#### A.\tImport the libraries and Load the dataset and Remove/replace missing values (if any)\n",
        "\n",
        "Add the required libraries"
      ]
    },
    {
      "cell_type": "code",
      "metadata": {
        "id": "6Bs24w3YJf2f",
        "colab_type": "code",
        "colab": {}
      },
      "source": [
        "#Import all required libraries for reading data, analysing and visualizing data\n",
        "import pandas as pd\n",
        "import numpy as np\n",
        "import matplotlib.pyplot as plt\n",
        "import seaborn as sns\n",
        "%matplotlib inline\n",
        "from sklearn.preprocessing import LabelEncoder"
      ],
      "execution_count": 401,
      "outputs": []
    },
    {
      "cell_type": "markdown",
      "metadata": {
        "id": "_5YKYepzJ0di",
        "colab_type": "text"
      },
      "source": [
        "### Data Analysis\n",
        "Import the datasets"
      ]
    },
    {
      "cell_type": "code",
      "metadata": {
        "id": "NxSV4r41J5U3",
        "colab_type": "code",
        "colab": {}
      },
      "source": [
        "#import the data set (Liver Disease data set) \n",
        "liver_df = pd.read_csv(\"liver_disease_1.csv\")"
      ],
      "execution_count": 402,
      "outputs": []
    },
    {
      "cell_type": "markdown",
      "metadata": {
        "id": "vqUZlvrwJ9d9",
        "colab_type": "text"
      },
      "source": [
        "Displaying the column names and displaying the header"
      ]
    },
    {
      "cell_type": "code",
      "metadata": {
        "id": "poiNINzbJ_2H",
        "colab_type": "code",
        "colab": {
          "base_uri": "https://localhost:8080/",
          "height": 283
        },
        "outputId": "3c0b49c7-a10d-4c25-b799-e5e36a111069"
      },
      "source": [
        "print(liver_df.columns)\n",
        "# Displaying header\n",
        "liver_df.head()\n"
      ],
      "execution_count": 403,
      "outputs": [
        {
          "output_type": "stream",
          "text": [
            "Index(['Age', 'Total_Bilirubin', 'Direct_Bilirubin', 'Alkaline_Phosphotase',\n",
            "       'Alamine_Aminotransferase', 'Aspartate_Aminotransferase',\n",
            "       'Total_Protiens', 'Albumin', 'Albumin_and_Globulin_Ratio', 'Dataset'],\n",
            "      dtype='object')\n"
          ],
          "name": "stdout"
        },
        {
          "output_type": "execute_result",
          "data": {
            "text/html": [
              "<div>\n",
              "<style scoped>\n",
              "    .dataframe tbody tr th:only-of-type {\n",
              "        vertical-align: middle;\n",
              "    }\n",
              "\n",
              "    .dataframe tbody tr th {\n",
              "        vertical-align: top;\n",
              "    }\n",
              "\n",
              "    .dataframe thead th {\n",
              "        text-align: right;\n",
              "    }\n",
              "</style>\n",
              "<table border=\"1\" class=\"dataframe\">\n",
              "  <thead>\n",
              "    <tr style=\"text-align: right;\">\n",
              "      <th></th>\n",
              "      <th>Age</th>\n",
              "      <th>Total_Bilirubin</th>\n",
              "      <th>Direct_Bilirubin</th>\n",
              "      <th>Alkaline_Phosphotase</th>\n",
              "      <th>Alamine_Aminotransferase</th>\n",
              "      <th>Aspartate_Aminotransferase</th>\n",
              "      <th>Total_Protiens</th>\n",
              "      <th>Albumin</th>\n",
              "      <th>Albumin_and_Globulin_Ratio</th>\n",
              "      <th>Dataset</th>\n",
              "    </tr>\n",
              "  </thead>\n",
              "  <tbody>\n",
              "    <tr>\n",
              "      <th>0</th>\n",
              "      <td>65</td>\n",
              "      <td>0.7</td>\n",
              "      <td>0.1</td>\n",
              "      <td>187</td>\n",
              "      <td>16</td>\n",
              "      <td>18</td>\n",
              "      <td>6.8</td>\n",
              "      <td>3.3</td>\n",
              "      <td>0.90</td>\n",
              "      <td>Yes</td>\n",
              "    </tr>\n",
              "    <tr>\n",
              "      <th>1</th>\n",
              "      <td>62</td>\n",
              "      <td>10.9</td>\n",
              "      <td>5.5</td>\n",
              "      <td>699</td>\n",
              "      <td>64</td>\n",
              "      <td>100</td>\n",
              "      <td>7.5</td>\n",
              "      <td>3.2</td>\n",
              "      <td>0.74</td>\n",
              "      <td>Yes</td>\n",
              "    </tr>\n",
              "    <tr>\n",
              "      <th>2</th>\n",
              "      <td>62</td>\n",
              "      <td>7.3</td>\n",
              "      <td>4.1</td>\n",
              "      <td>490</td>\n",
              "      <td>60</td>\n",
              "      <td>68</td>\n",
              "      <td>7.0</td>\n",
              "      <td>3.3</td>\n",
              "      <td>0.89</td>\n",
              "      <td>Yes</td>\n",
              "    </tr>\n",
              "    <tr>\n",
              "      <th>3</th>\n",
              "      <td>58</td>\n",
              "      <td>1.0</td>\n",
              "      <td>0.4</td>\n",
              "      <td>182</td>\n",
              "      <td>14</td>\n",
              "      <td>20</td>\n",
              "      <td>6.8</td>\n",
              "      <td>3.4</td>\n",
              "      <td>1.00</td>\n",
              "      <td>Yes</td>\n",
              "    </tr>\n",
              "    <tr>\n",
              "      <th>4</th>\n",
              "      <td>72</td>\n",
              "      <td>3.9</td>\n",
              "      <td>2.0</td>\n",
              "      <td>195</td>\n",
              "      <td>27</td>\n",
              "      <td>59</td>\n",
              "      <td>7.3</td>\n",
              "      <td>2.4</td>\n",
              "      <td>0.40</td>\n",
              "      <td>Yes</td>\n",
              "    </tr>\n",
              "  </tbody>\n",
              "</table>\n",
              "</div>"
            ],
            "text/plain": [
              "   Age  Total_Bilirubin  ...  Albumin_and_Globulin_Ratio  Dataset\n",
              "0   65              0.7  ...                        0.90      Yes\n",
              "1   62             10.9  ...                        0.74      Yes\n",
              "2   62              7.3  ...                        0.89      Yes\n",
              "3   58              1.0  ...                        1.00      Yes\n",
              "4   72              3.9  ...                        0.40      Yes\n",
              "\n",
              "[5 rows x 10 columns]"
            ]
          },
          "metadata": {
            "tags": []
          },
          "execution_count": 403
        }
      ]
    },
    {
      "cell_type": "code",
      "metadata": {
        "id": "Eacja0a8KLg2",
        "colab_type": "code",
        "colab": {
          "base_uri": "https://localhost:8080/",
          "height": 301
        },
        "outputId": "fb20bc6b-e2b4-41f0-e5bc-5072ce452502"
      },
      "source": [
        "liver_df.info()"
      ],
      "execution_count": 404,
      "outputs": [
        {
          "output_type": "stream",
          "text": [
            "<class 'pandas.core.frame.DataFrame'>\n",
            "RangeIndex: 583 entries, 0 to 582\n",
            "Data columns (total 10 columns):\n",
            " #   Column                      Non-Null Count  Dtype  \n",
            "---  ------                      --------------  -----  \n",
            " 0   Age                         583 non-null    int64  \n",
            " 1   Total_Bilirubin             583 non-null    float64\n",
            " 2   Direct_Bilirubin            583 non-null    float64\n",
            " 3   Alkaline_Phosphotase        583 non-null    int64  \n",
            " 4   Alamine_Aminotransferase    583 non-null    int64  \n",
            " 5   Aspartate_Aminotransferase  583 non-null    int64  \n",
            " 6   Total_Protiens              583 non-null    float64\n",
            " 7   Albumin                     583 non-null    float64\n",
            " 8   Albumin_and_Globulin_Ratio  579 non-null    float64\n",
            " 9   Dataset                     583 non-null    object \n",
            "dtypes: float64(5), int64(4), object(1)\n",
            "memory usage: 45.7+ KB\n"
          ],
          "name": "stdout"
        }
      ]
    },
    {
      "cell_type": "markdown",
      "metadata": {
        "id": "sW3304Jk10Rw",
        "colab_type": "text"
      },
      "source": [
        "Here is the observation from the dataset:   \n",
        "1) All fields are numeric Except  Dataset column. this has Yes and No.                   \n",
        "2) There are 9 features and 1 output - dataset. Value yes indicates that the patient has liver disease and No indicates the patient does not have liver disease.  "
      ]
    },
    {
      "cell_type": "code",
      "metadata": {
        "id": "17Z_12steTmw",
        "colab_type": "code",
        "colab": {
          "base_uri": "https://localhost:8080/",
          "height": 67
        },
        "outputId": "e749879e-c751-4a2a-fb81-f1b1a6f25107"
      },
      "source": [
        "# let's look on target variable - classes imbalanced?\n",
        "liver_df['Dataset'].value_counts()"
      ],
      "execution_count": 405,
      "outputs": [
        {
          "output_type": "execute_result",
          "data": {
            "text/plain": [
              "Yes    416\n",
              "No     167\n",
              "Name: Dataset, dtype: int64"
            ]
          },
          "metadata": {
            "tags": []
          },
          "execution_count": 405
        }
      ]
    },
    {
      "cell_type": "markdown",
      "metadata": {
        "id": "djAyAEgpvSNc",
        "colab_type": "text"
      },
      "source": [
        "this data is inbalanced.  but still we can continue."
      ]
    },
    {
      "cell_type": "markdown",
      "metadata": {
        "id": "gJmkol_hKSzr",
        "colab_type": "text"
      },
      "source": [
        "Getting min and max and maiden values across each attribute."
      ]
    },
    {
      "cell_type": "code",
      "metadata": {
        "id": "4jsN746LKZOg",
        "colab_type": "code",
        "colab": {
          "base_uri": "https://localhost:8080/",
          "height": 306
        },
        "outputId": "70eef0f8-1dad-4d27-ebd3-959a7990f805"
      },
      "source": [
        "#Describe gives statistical information about NUMERICAL columns in the dataset\n",
        "liver_df.describe()\n",
        "#We can see that there are missing values for Albumin_and_Globulin_Ratio as only 579 entries have valid values indicating 4 missing values.\n"
      ],
      "execution_count": 406,
      "outputs": [
        {
          "output_type": "execute_result",
          "data": {
            "text/html": [
              "<div>\n",
              "<style scoped>\n",
              "    .dataframe tbody tr th:only-of-type {\n",
              "        vertical-align: middle;\n",
              "    }\n",
              "\n",
              "    .dataframe tbody tr th {\n",
              "        vertical-align: top;\n",
              "    }\n",
              "\n",
              "    .dataframe thead th {\n",
              "        text-align: right;\n",
              "    }\n",
              "</style>\n",
              "<table border=\"1\" class=\"dataframe\">\n",
              "  <thead>\n",
              "    <tr style=\"text-align: right;\">\n",
              "      <th></th>\n",
              "      <th>Age</th>\n",
              "      <th>Total_Bilirubin</th>\n",
              "      <th>Direct_Bilirubin</th>\n",
              "      <th>Alkaline_Phosphotase</th>\n",
              "      <th>Alamine_Aminotransferase</th>\n",
              "      <th>Aspartate_Aminotransferase</th>\n",
              "      <th>Total_Protiens</th>\n",
              "      <th>Albumin</th>\n",
              "      <th>Albumin_and_Globulin_Ratio</th>\n",
              "    </tr>\n",
              "  </thead>\n",
              "  <tbody>\n",
              "    <tr>\n",
              "      <th>count</th>\n",
              "      <td>583.000000</td>\n",
              "      <td>583.000000</td>\n",
              "      <td>583.000000</td>\n",
              "      <td>583.000000</td>\n",
              "      <td>583.000000</td>\n",
              "      <td>583.000000</td>\n",
              "      <td>583.000000</td>\n",
              "      <td>583.000000</td>\n",
              "      <td>579.000000</td>\n",
              "    </tr>\n",
              "    <tr>\n",
              "      <th>mean</th>\n",
              "      <td>44.746141</td>\n",
              "      <td>3.298799</td>\n",
              "      <td>1.486106</td>\n",
              "      <td>290.576329</td>\n",
              "      <td>80.713551</td>\n",
              "      <td>109.910806</td>\n",
              "      <td>6.483190</td>\n",
              "      <td>3.141852</td>\n",
              "      <td>0.947064</td>\n",
              "    </tr>\n",
              "    <tr>\n",
              "      <th>std</th>\n",
              "      <td>16.189833</td>\n",
              "      <td>6.209522</td>\n",
              "      <td>2.808498</td>\n",
              "      <td>242.937989</td>\n",
              "      <td>182.620356</td>\n",
              "      <td>288.918529</td>\n",
              "      <td>1.085451</td>\n",
              "      <td>0.795519</td>\n",
              "      <td>0.319592</td>\n",
              "    </tr>\n",
              "    <tr>\n",
              "      <th>min</th>\n",
              "      <td>4.000000</td>\n",
              "      <td>0.400000</td>\n",
              "      <td>0.100000</td>\n",
              "      <td>63.000000</td>\n",
              "      <td>10.000000</td>\n",
              "      <td>10.000000</td>\n",
              "      <td>2.700000</td>\n",
              "      <td>0.900000</td>\n",
              "      <td>0.300000</td>\n",
              "    </tr>\n",
              "    <tr>\n",
              "      <th>25%</th>\n",
              "      <td>33.000000</td>\n",
              "      <td>0.800000</td>\n",
              "      <td>0.200000</td>\n",
              "      <td>175.500000</td>\n",
              "      <td>23.000000</td>\n",
              "      <td>25.000000</td>\n",
              "      <td>5.800000</td>\n",
              "      <td>2.600000</td>\n",
              "      <td>0.700000</td>\n",
              "    </tr>\n",
              "    <tr>\n",
              "      <th>50%</th>\n",
              "      <td>45.000000</td>\n",
              "      <td>1.000000</td>\n",
              "      <td>0.300000</td>\n",
              "      <td>208.000000</td>\n",
              "      <td>35.000000</td>\n",
              "      <td>42.000000</td>\n",
              "      <td>6.600000</td>\n",
              "      <td>3.100000</td>\n",
              "      <td>0.930000</td>\n",
              "    </tr>\n",
              "    <tr>\n",
              "      <th>75%</th>\n",
              "      <td>58.000000</td>\n",
              "      <td>2.600000</td>\n",
              "      <td>1.300000</td>\n",
              "      <td>298.000000</td>\n",
              "      <td>60.500000</td>\n",
              "      <td>87.000000</td>\n",
              "      <td>7.200000</td>\n",
              "      <td>3.800000</td>\n",
              "      <td>1.100000</td>\n",
              "    </tr>\n",
              "    <tr>\n",
              "      <th>max</th>\n",
              "      <td>90.000000</td>\n",
              "      <td>75.000000</td>\n",
              "      <td>19.700000</td>\n",
              "      <td>2110.000000</td>\n",
              "      <td>2000.000000</td>\n",
              "      <td>4929.000000</td>\n",
              "      <td>9.600000</td>\n",
              "      <td>5.500000</td>\n",
              "      <td>2.800000</td>\n",
              "    </tr>\n",
              "  </tbody>\n",
              "</table>\n",
              "</div>"
            ],
            "text/plain": [
              "              Age  Total_Bilirubin  ...     Albumin  Albumin_and_Globulin_Ratio\n",
              "count  583.000000       583.000000  ...  583.000000                  579.000000\n",
              "mean    44.746141         3.298799  ...    3.141852                    0.947064\n",
              "std     16.189833         6.209522  ...    0.795519                    0.319592\n",
              "min      4.000000         0.400000  ...    0.900000                    0.300000\n",
              "25%     33.000000         0.800000  ...    2.600000                    0.700000\n",
              "50%     45.000000         1.000000  ...    3.100000                    0.930000\n",
              "75%     58.000000         2.600000  ...    3.800000                    1.100000\n",
              "max     90.000000        75.000000  ...    5.500000                    2.800000\n",
              "\n",
              "[8 rows x 9 columns]"
            ]
          },
          "metadata": {
            "tags": []
          },
          "execution_count": 406
        }
      ]
    },
    {
      "cell_type": "markdown",
      "metadata": {
        "id": "EXtCg0oK4JLi",
        "colab_type": "text"
      },
      "source": [
        "We can see that there are missing values for Albumin_and_Globulin_Ratio as only 579 entries have valid values indicating 4 missing values.\n"
      ]
    },
    {
      "cell_type": "markdown",
      "metadata": {
        "id": "qpwdOa9Y4cG-",
        "colab_type": "text"
      },
      "source": [
        "**Finding NA values across data & filling them up with mean/median**"
      ]
    },
    {
      "cell_type": "code",
      "metadata": {
        "id": "kUSD9T0xKoKP",
        "colab_type": "code",
        "colab": {}
      },
      "source": [
        "def missing_values_tables(liver_df):\n",
        "    mis_val = liver_df.isnull().sum()\n",
        "    mis_val_percent = 100 * liver_df.isnull().sum() / len(liver_df)\n",
        "    mis_val_table = pd.concat([mis_val, mis_val_percent], axis=1)\n",
        "    mis_val_table_ren_columns = mis_val_table.rename(columns = {0 : 'Missing Values', 1 : '% of Total Values'})\n",
        "    mis_val_table_ren_columns = mis_val_table_ren_columns[mis_val_table_ren_columns.iloc[:,1] != 0].sort_values('% of Total Values', ascending=False).round(1)\n",
        "    print (\"Your selected dataframe has \" + str(liver_df.shape[1]) + \" columns.\\n There are \" + str(mis_val_table_ren_columns.shape[0]) +  \" columns that have missing values.\")\n",
        "    return mis_val_table_ren_columns"
      ],
      "execution_count": 407,
      "outputs": []
    },
    {
      "cell_type": "code",
      "metadata": {
        "id": "U-qDHFlUKtCl",
        "colab_type": "code",
        "colab": {
          "base_uri": "https://localhost:8080/",
          "height": 110
        },
        "outputId": "93ba57f8-dff8-4d0c-d490-5f632ac19ab8"
      },
      "source": [
        "missing_values_tables(liver_df)"
      ],
      "execution_count": 408,
      "outputs": [
        {
          "output_type": "stream",
          "text": [
            "Your selected dataframe has 10 columns.\n",
            " There are 1 columns that have missing values.\n"
          ],
          "name": "stdout"
        },
        {
          "output_type": "execute_result",
          "data": {
            "text/html": [
              "<div>\n",
              "<style scoped>\n",
              "    .dataframe tbody tr th:only-of-type {\n",
              "        vertical-align: middle;\n",
              "    }\n",
              "\n",
              "    .dataframe tbody tr th {\n",
              "        vertical-align: top;\n",
              "    }\n",
              "\n",
              "    .dataframe thead th {\n",
              "        text-align: right;\n",
              "    }\n",
              "</style>\n",
              "<table border=\"1\" class=\"dataframe\">\n",
              "  <thead>\n",
              "    <tr style=\"text-align: right;\">\n",
              "      <th></th>\n",
              "      <th>Missing Values</th>\n",
              "      <th>% of Total Values</th>\n",
              "    </tr>\n",
              "  </thead>\n",
              "  <tbody>\n",
              "    <tr>\n",
              "      <th>Albumin_and_Globulin_Ratio</th>\n",
              "      <td>4</td>\n",
              "      <td>0.7</td>\n",
              "    </tr>\n",
              "  </tbody>\n",
              "</table>\n",
              "</div>"
            ],
            "text/plain": [
              "                            Missing Values  % of Total Values\n",
              "Albumin_and_Globulin_Ratio               4                0.7"
            ]
          },
          "metadata": {
            "tags": []
          },
          "execution_count": 408
        }
      ]
    },
    {
      "cell_type": "code",
      "metadata": {
        "id": "WZmpanQWedgH",
        "colab_type": "code",
        "colab": {
          "base_uri": "https://localhost:8080/",
          "height": 186
        },
        "outputId": "b620cd04-a5c3-4745-9c24-a8fe55609682"
      },
      "source": [
        "# what are the missing values? \n",
        "liver_df[liver_df[\"Albumin_and_Globulin_Ratio\"].isnull()]"
      ],
      "execution_count": 409,
      "outputs": [
        {
          "output_type": "execute_result",
          "data": {
            "text/html": [
              "<div>\n",
              "<style scoped>\n",
              "    .dataframe tbody tr th:only-of-type {\n",
              "        vertical-align: middle;\n",
              "    }\n",
              "\n",
              "    .dataframe tbody tr th {\n",
              "        vertical-align: top;\n",
              "    }\n",
              "\n",
              "    .dataframe thead th {\n",
              "        text-align: right;\n",
              "    }\n",
              "</style>\n",
              "<table border=\"1\" class=\"dataframe\">\n",
              "  <thead>\n",
              "    <tr style=\"text-align: right;\">\n",
              "      <th></th>\n",
              "      <th>Age</th>\n",
              "      <th>Total_Bilirubin</th>\n",
              "      <th>Direct_Bilirubin</th>\n",
              "      <th>Alkaline_Phosphotase</th>\n",
              "      <th>Alamine_Aminotransferase</th>\n",
              "      <th>Aspartate_Aminotransferase</th>\n",
              "      <th>Total_Protiens</th>\n",
              "      <th>Albumin</th>\n",
              "      <th>Albumin_and_Globulin_Ratio</th>\n",
              "      <th>Dataset</th>\n",
              "    </tr>\n",
              "  </thead>\n",
              "  <tbody>\n",
              "    <tr>\n",
              "      <th>209</th>\n",
              "      <td>45</td>\n",
              "      <td>0.9</td>\n",
              "      <td>0.3</td>\n",
              "      <td>189</td>\n",
              "      <td>23</td>\n",
              "      <td>33</td>\n",
              "      <td>6.6</td>\n",
              "      <td>3.9</td>\n",
              "      <td>NaN</td>\n",
              "      <td>Yes</td>\n",
              "    </tr>\n",
              "    <tr>\n",
              "      <th>241</th>\n",
              "      <td>51</td>\n",
              "      <td>0.8</td>\n",
              "      <td>0.2</td>\n",
              "      <td>230</td>\n",
              "      <td>24</td>\n",
              "      <td>46</td>\n",
              "      <td>6.5</td>\n",
              "      <td>3.1</td>\n",
              "      <td>NaN</td>\n",
              "      <td>Yes</td>\n",
              "    </tr>\n",
              "    <tr>\n",
              "      <th>253</th>\n",
              "      <td>35</td>\n",
              "      <td>0.6</td>\n",
              "      <td>0.2</td>\n",
              "      <td>180</td>\n",
              "      <td>12</td>\n",
              "      <td>15</td>\n",
              "      <td>5.2</td>\n",
              "      <td>2.7</td>\n",
              "      <td>NaN</td>\n",
              "      <td>No</td>\n",
              "    </tr>\n",
              "    <tr>\n",
              "      <th>312</th>\n",
              "      <td>27</td>\n",
              "      <td>1.3</td>\n",
              "      <td>0.6</td>\n",
              "      <td>106</td>\n",
              "      <td>25</td>\n",
              "      <td>54</td>\n",
              "      <td>8.5</td>\n",
              "      <td>4.8</td>\n",
              "      <td>NaN</td>\n",
              "      <td>No</td>\n",
              "    </tr>\n",
              "  </tbody>\n",
              "</table>\n",
              "</div>"
            ],
            "text/plain": [
              "     Age  Total_Bilirubin  ...  Albumin_and_Globulin_Ratio  Dataset\n",
              "209   45              0.9  ...                         NaN      Yes\n",
              "241   51              0.8  ...                         NaN      Yes\n",
              "253   35              0.6  ...                         NaN       No\n",
              "312   27              1.3  ...                         NaN       No\n",
              "\n",
              "[4 rows x 10 columns]"
            ]
          },
          "metadata": {
            "tags": []
          },
          "execution_count": 409
        }
      ]
    },
    {
      "cell_type": "code",
      "metadata": {
        "id": "i8FUsdo6erMv",
        "colab_type": "code",
        "colab": {}
      },
      "source": [
        "# fill with median/mean/max/min or ?\n",
        "liver_df.Albumin_and_Globulin_Ratio.fillna(liver_df['Albumin_and_Globulin_Ratio'].median(), inplace=True)"
      ],
      "execution_count": 410,
      "outputs": []
    },
    {
      "cell_type": "markdown",
      "metadata": {
        "id": "0zlrUKdQLLMA",
        "colab_type": "text"
      },
      "source": [
        "Check for Null values again. if any zero values replace with null"
      ]
    },
    {
      "cell_type": "code",
      "metadata": {
        "id": "w3j-UcalLgdS",
        "colab_type": "code",
        "colab": {
          "base_uri": "https://localhost:8080/",
          "height": 201
        },
        "outputId": "cc033625-b579-4ae6-acc9-060f652d03b0"
      },
      "source": [
        "\n",
        "liver_df[['Age', 'Total_Bilirubin', 'Direct_Bilirubin', 'Alkaline_Phosphotase', 'Alamine_Aminotransferase', 'Aspartate_Aminotransferase', 'Total_Protiens', 'Albumin', 'Albumin_and_Globulin_Ratio', 'Dataset']] = liver_df[['Age', 'Total_Bilirubin', 'Direct_Bilirubin', 'Alkaline_Phosphotase', 'Alamine_Aminotransferase', 'Aspartate_Aminotransferase', 'Total_Protiens', 'Albumin', 'Albumin_and_Globulin_Ratio', 'Dataset']].replace(0,np.NaN)\n",
        "\n",
        "## showing the count of Nans\n",
        "print(liver_df.isnull().sum())"
      ],
      "execution_count": 411,
      "outputs": [
        {
          "output_type": "stream",
          "text": [
            "Age                           0\n",
            "Total_Bilirubin               0\n",
            "Direct_Bilirubin              0\n",
            "Alkaline_Phosphotase          0\n",
            "Alamine_Aminotransferase      0\n",
            "Aspartate_Aminotransferase    0\n",
            "Total_Protiens                0\n",
            "Albumin                       0\n",
            "Albumin_and_Globulin_Ratio    0\n",
            "Dataset                       0\n",
            "dtype: int64\n"
          ],
          "name": "stdout"
        }
      ]
    },
    {
      "cell_type": "markdown",
      "metadata": {
        "id": "IevtaxWWNYF_",
        "colab_type": "text"
      },
      "source": [
        "### Data Visualization"
      ]
    },
    {
      "cell_type": "code",
      "metadata": {
        "id": "Z-kwiAKdMTQQ",
        "colab_type": "code",
        "colab": {
          "base_uri": "https://localhost:8080/",
          "height": 318
        },
        "outputId": "29fb1d65-fc00-4773-a77b-490792a7d887"
      },
      "source": [
        "sns.countplot(data=liver_df, x = 'Dataset', label='Count')\n",
        "\n",
        "LD, NLD = liver_df['Dataset'].value_counts()\n",
        "print('Number of patients diagnosed with liver disease: ',LD)\n",
        "print('Number of patients not diagnosed with liver disease: ',NLD)"
      ],
      "execution_count": 412,
      "outputs": [
        {
          "output_type": "stream",
          "text": [
            "Number of patients diagnosed with liver disease:  416\n",
            "Number of patients not diagnosed with liver disease:  167\n"
          ],
          "name": "stdout"
        },
        {
          "output_type": "display_data",
          "data": {
            "image/png": "[encoded data removed]",
            "text/plain": [
              "<Figure size 432x288 with 1 Axes>"
            ]
          },
          "metadata": {
            "tags": [],
            "needs_background": "light"
          }
        }
      ]
    },
    {
      "cell_type": "markdown",
      "metadata": {
        "id": "LRKTET8gJpRS",
        "colab_type": "text"
      },
      "source": [
        "**The Data is slightly inbananced however we can proceed.**"
      ]
    },
    {
      "cell_type": "markdown",
      "metadata": {
        "id": "NqI6v9mCMcBe",
        "colab_type": "text"
      },
      "source": [
        "correlation plots"
      ]
    },
    {
      "cell_type": "code",
      "metadata": {
        "id": "NGOdx1bY7duU",
        "colab_type": "code",
        "colab": {}
      },
      "source": [
        "\n",
        "bin = [0,15,25,35,45,55,65,75]\n",
        "#use pd.cut function can attribute the values into its specific bins\n",
        "category = pd.cut(liver_df.Age,bin)\n",
        "category = category.to_frame()\n",
        "category.columns = ['Age_Range']\n",
        "#concatenate age and its bin\n",
        "liver_df = pd.concat([liver_df,category],axis = 1)"
      ],
      "execution_count": 413,
      "outputs": []
    },
    {
      "cell_type": "code",
      "metadata": {
        "id": "1Iv0ZkNS75OD",
        "colab_type": "code",
        "colab": {
          "base_uri": "https://localhost:8080/",
          "height": 302
        },
        "outputId": "f1a48f2c-a050-45f6-9afe-af589050d39f"
      },
      "source": [
        "import matplotlib.pyplot as plt \n",
        "import seaborn as sns\n",
        "sns.set(style=\"white\")\n",
        "sns.set(style=\"whitegrid\", color_codes=True)\n",
        "#draw histogram plot\n",
        "sns.countplot(x = 'Age_Range', data = liver_df, palette = 'hls')\n",
        "plt.figure(figsize=(10,10))\n",
        "plt.show()"
      ],
      "execution_count": 414,
      "outputs": [
        {
          "output_type": "display_data",
          "data": {
            "image/png": "[encoded data removed]",
            "text/plain": [
              "<Figure size 432x288 with 1 Axes>"
            ]
          },
          "metadata": {
            "tags": []
          }
        },
        {
          "output_type": "display_data",
          "data": {
            "text/plain": [
              "<Figure size 720x720 with 0 Axes>"
            ]
          },
          "metadata": {
            "tags": []
          }
        }
      ]
    },
    {
      "cell_type": "code",
      "metadata": {
        "id": "sj_9XfYcBsNx",
        "colab_type": "code",
        "colab": {
          "base_uri": "https://localhost:8080/",
          "height": 465
        },
        "outputId": "8127f68c-3930-4a35-9a47-b4dd11aa9404"
      },
      "source": [
        "liver_df[['Age_Range', 'Dataset','Age']].groupby(['Dataset','Age_Range'], as_index=False).mean().sort_values(by='Dataset', ascending=False)"
      ],
      "execution_count": 415,
      "outputs": [
        {
          "output_type": "execute_result",
          "data": {
            "text/html": [
              "<div>\n",
              "<style scoped>\n",
              "    .dataframe tbody tr th:only-of-type {\n",
              "        vertical-align: middle;\n",
              "    }\n",
              "\n",
              "    .dataframe tbody tr th {\n",
              "        vertical-align: top;\n",
              "    }\n",
              "\n",
              "    .dataframe thead th {\n",
              "        text-align: right;\n",
              "    }\n",
              "</style>\n",
              "<table border=\"1\" class=\"dataframe\">\n",
              "  <thead>\n",
              "    <tr style=\"text-align: right;\">\n",
              "      <th></th>\n",
              "      <th>Dataset</th>\n",
              "      <th>Age_Range</th>\n",
              "      <th>Age</th>\n",
              "    </tr>\n",
              "  </thead>\n",
              "  <tbody>\n",
              "    <tr>\n",
              "      <th>7</th>\n",
              "      <td>Yes</td>\n",
              "      <td>(0, 15]</td>\n",
              "      <td>11.666667</td>\n",
              "    </tr>\n",
              "    <tr>\n",
              "      <th>8</th>\n",
              "      <td>Yes</td>\n",
              "      <td>(15, 25]</td>\n",
              "      <td>20.148148</td>\n",
              "    </tr>\n",
              "    <tr>\n",
              "      <th>9</th>\n",
              "      <td>Yes</td>\n",
              "      <td>(25, 35]</td>\n",
              "      <td>30.987500</td>\n",
              "    </tr>\n",
              "    <tr>\n",
              "      <th>10</th>\n",
              "      <td>Yes</td>\n",
              "      <td>(35, 45]</td>\n",
              "      <td>40.975610</td>\n",
              "    </tr>\n",
              "    <tr>\n",
              "      <th>11</th>\n",
              "      <td>Yes</td>\n",
              "      <td>(45, 55]</td>\n",
              "      <td>50.178218</td>\n",
              "    </tr>\n",
              "    <tr>\n",
              "      <th>12</th>\n",
              "      <td>Yes</td>\n",
              "      <td>(55, 65]</td>\n",
              "      <td>60.338462</td>\n",
              "    </tr>\n",
              "    <tr>\n",
              "      <th>13</th>\n",
              "      <td>Yes</td>\n",
              "      <td>(65, 75]</td>\n",
              "      <td>71.080000</td>\n",
              "    </tr>\n",
              "    <tr>\n",
              "      <th>0</th>\n",
              "      <td>No</td>\n",
              "      <td>(0, 15]</td>\n",
              "      <td>8.875000</td>\n",
              "    </tr>\n",
              "    <tr>\n",
              "      <th>1</th>\n",
              "      <td>No</td>\n",
              "      <td>(15, 25]</td>\n",
              "      <td>20.923077</td>\n",
              "    </tr>\n",
              "    <tr>\n",
              "      <th>2</th>\n",
              "      <td>No</td>\n",
              "      <td>(25, 35]</td>\n",
              "      <td>30.321429</td>\n",
              "    </tr>\n",
              "    <tr>\n",
              "      <th>3</th>\n",
              "      <td>No</td>\n",
              "      <td>(35, 45]</td>\n",
              "      <td>39.925000</td>\n",
              "    </tr>\n",
              "    <tr>\n",
              "      <th>4</th>\n",
              "      <td>No</td>\n",
              "      <td>(45, 55]</td>\n",
              "      <td>50.541667</td>\n",
              "    </tr>\n",
              "    <tr>\n",
              "      <th>5</th>\n",
              "      <td>No</td>\n",
              "      <td>(55, 65]</td>\n",
              "      <td>61.545455</td>\n",
              "    </tr>\n",
              "    <tr>\n",
              "      <th>6</th>\n",
              "      <td>No</td>\n",
              "      <td>(65, 75]</td>\n",
              "      <td>68.833333</td>\n",
              "    </tr>\n",
              "  </tbody>\n",
              "</table>\n",
              "</div>"
            ],
            "text/plain": [
              "   Dataset Age_Range        Age\n",
              "7      Yes   (0, 15]  11.666667\n",
              "8      Yes  (15, 25]  20.148148\n",
              "9      Yes  (25, 35]  30.987500\n",
              "10     Yes  (35, 45]  40.975610\n",
              "11     Yes  (45, 55]  50.178218\n",
              "12     Yes  (55, 65]  60.338462\n",
              "13     Yes  (65, 75]  71.080000\n",
              "0       No   (0, 15]   8.875000\n",
              "1       No  (15, 25]  20.923077\n",
              "2       No  (25, 35]  30.321429\n",
              "3       No  (35, 45]  39.925000\n",
              "4       No  (45, 55]  50.541667\n",
              "5       No  (55, 65]  61.545455\n",
              "6       No  (65, 75]  68.833333"
            ]
          },
          "metadata": {
            "tags": []
          },
          "execution_count": 415
        }
      ]
    },
    {
      "cell_type": "code",
      "metadata": {
        "id": "_QIUZK1tMikQ",
        "colab_type": "code",
        "colab": {
          "base_uri": "https://localhost:8080/",
          "height": 437
        },
        "outputId": "b2a1904b-08b5-4faa-bcca-b88fe2d4c128"
      },
      "source": [
        "# correlation plots\n",
        "g = sns.jointplot(\"Total_Bilirubin\", \"Direct_Bilirubin\", data=liver_df, kind=\"reg\")"
      ],
      "execution_count": 416,
      "outputs": [
        {
          "output_type": "display_data",
          "data": {
            "image/png": "[encoded data removed]",
            "text/plain": [
              "<Figure size 432x432 with 3 Axes>"
            ]
          },
          "metadata": {
            "tags": []
          }
        }
      ]
    },
    {
      "cell_type": "markdown",
      "metadata": {
        "id": "NCtdRLXDQA2A",
        "colab_type": "text"
      },
      "source": [
        "**There is linear relationship between Total_Bilirubin and Direct_Bilirubin and the Dataset. We have the possibility of removing one of this feature.**"
      ]
    },
    {
      "cell_type": "code",
      "metadata": {
        "id": "2UxDqF9dRR6p",
        "colab_type": "code",
        "colab": {
          "base_uri": "https://localhost:8080/",
          "height": 454
        },
        "outputId": "386c07cf-2a9d-46b1-c4e9-b82f65e34331"
      },
      "source": [
        "sns.jointplot(\"Aspartate_Aminotransferase\", \"Alamine_Aminotransferase\", data=liver_df, kind=\"reg\")"
      ],
      "execution_count": 417,
      "outputs": [
        {
          "output_type": "execute_result",
          "data": {
            "text/plain": [
              "<seaborn.axisgrid.JointGrid at 0x7fbf2ac67668>"
            ]
          },
          "metadata": {
            "tags": []
          },
          "execution_count": 417
        },
        {
          "output_type": "display_data",
          "data": {
            "image/png": "[encoded data removed]",
            "text/plain": [
              "<Figure size 432x432 with 3 Axes>"
            ]
          },
          "metadata": {
            "tags": []
          }
        }
      ]
    },
    {
      "cell_type": "markdown",
      "metadata": {
        "id": "HXCDtVaZRh6W",
        "colab_type": "text"
      },
      "source": [
        "**There is linear relationship between Aspartate_Aminotransferase and Alamine_Aminotransferase and the gender. We have the possibility of removing one of this feature.**"
      ]
    },
    {
      "cell_type": "code",
      "metadata": {
        "id": "EcWrqWgpR4tI",
        "colab_type": "code",
        "colab": {
          "base_uri": "https://localhost:8080/",
          "height": 454
        },
        "outputId": "d15faa11-a5c9-4839-b6e2-19283909877c"
      },
      "source": [
        "sns.jointplot(\"Alkaline_Phosphotase\", \"Alamine_Aminotransferase\", data=liver_df, kind=\"reg\")"
      ],
      "execution_count": 418,
      "outputs": [
        {
          "output_type": "execute_result",
          "data": {
            "text/plain": [
              "<seaborn.axisgrid.JointGrid at 0x7fbf2f07f828>"
            ]
          },
          "metadata": {
            "tags": []
          },
          "execution_count": 418
        },
        {
          "output_type": "display_data",
          "data": {
            "image/png": "[encoded data removed]",
            "text/plain": [
              "<Figure size 432x432 with 3 Axes>"
            ]
          },
          "metadata": {
            "tags": []
          }
        }
      ]
    },
    {
      "cell_type": "markdown",
      "metadata": {
        "id": "uQlj8APDR-to",
        "colab_type": "text"
      },
      "source": [
        "**No linear correlation between Alkaline_Phosphotase and Alamine_Aminotransferase**"
      ]
    },
    {
      "cell_type": "code",
      "metadata": {
        "id": "5ZTVhtRYSJMz",
        "colab_type": "code",
        "colab": {
          "base_uri": "https://localhost:8080/",
          "height": 454
        },
        "outputId": "2c9f314f-708a-41c3-ed26-a315ca070b29"
      },
      "source": [
        "sns.jointplot(\"Total_Protiens\", \"Albumin\", data=liver_df, kind=\"reg\")"
      ],
      "execution_count": 419,
      "outputs": [
        {
          "output_type": "execute_result",
          "data": {
            "text/plain": [
              "<seaborn.axisgrid.JointGrid at 0x7fbf2780a7b8>"
            ]
          },
          "metadata": {
            "tags": []
          },
          "execution_count": 419
        },
        {
          "output_type": "display_data",
          "data": {
            "image/png": "[encoded data removed]",
            "text/plain": [
              "<Figure size 432x432 with 3 Axes>"
            ]
          },
          "metadata": {
            "tags": []
          }
        }
      ]
    },
    {
      "cell_type": "markdown",
      "metadata": {
        "id": "dOpGY99CSRjM",
        "colab_type": "text"
      },
      "source": [
        "**There is linear relationship between Total_Protiens and Albumin and the gender. We have the possibility of removing one of this feature.**"
      ]
    },
    {
      "cell_type": "code",
      "metadata": {
        "id": "pxJOu5YSSeRc",
        "colab_type": "code",
        "colab": {
          "base_uri": "https://localhost:8080/",
          "height": 454
        },
        "outputId": "46fe73ee-ceb7-4c65-eff4-33a7f08fa7c4"
      },
      "source": [
        "sns.jointplot(\"Albumin_and_Globulin_Ratio\", \"Albumin\", data=liver_df, kind=\"reg\")"
      ],
      "execution_count": 420,
      "outputs": [
        {
          "output_type": "execute_result",
          "data": {
            "text/plain": [
              "<seaborn.axisgrid.JointGrid at 0x7fbf26b04390>"
            ]
          },
          "metadata": {
            "tags": []
          },
          "execution_count": 420
        },
        {
          "output_type": "display_data",
          "data": {
            "image/png": "[encoded data removed]",
            "text/plain": [
              "<Figure size 432x432 with 3 Axes>"
            ]
          },
          "metadata": {
            "tags": []
          }
        }
      ]
    },
    {
      "cell_type": "markdown",
      "metadata": {
        "id": "kGBZ8ohtUX3O",
        "colab_type": "text"
      },
      "source": [
        "From the above jointplots we find direct relationship between the following features:  \n",
        "Direct_Bilirubin & Total_Bilirubin  \n",
        "Aspartate_Aminotransferase & Alamine_Aminotransferase  \n",
        "Total_Protiens & Albumin  \n",
        "Albumin_and_Globulin_Ratio & Albumin  \n",
        "\n",
        "Hence, we can very well find that we can omit one of the features. I'm going to keep the follwing features:  \n",
        "Total_Bilirubin  \n",
        "Alamine_Aminotransferase  \n",
        "Total_Protiens  \n",
        "Albumin_and_Globulin_Ratio  \n",
        "Albumin  "
      ]
    },
    {
      "cell_type": "code",
      "metadata": {
        "id": "RAIadkqbUvd5",
        "colab_type": "code",
        "colab": {
          "base_uri": "https://localhost:8080/",
          "height": 157
        },
        "outputId": "ccf5293a-4671-4b2a-a9ff-1908e62e5366"
      },
      "source": [
        "liver_df.head(3)"
      ],
      "execution_count": 421,
      "outputs": [
        {
          "output_type": "execute_result",
          "data": {
            "text/html": [
              "<div>\n",
              "<style scoped>\n",
              "    .dataframe tbody tr th:only-of-type {\n",
              "        vertical-align: middle;\n",
              "    }\n",
              "\n",
              "    .dataframe tbody tr th {\n",
              "        vertical-align: top;\n",
              "    }\n",
              "\n",
              "    .dataframe thead th {\n",
              "        text-align: right;\n",
              "    }\n",
              "</style>\n",
              "<table border=\"1\" class=\"dataframe\">\n",
              "  <thead>\n",
              "    <tr style=\"text-align: right;\">\n",
              "      <th></th>\n",
              "      <th>Age</th>\n",
              "      <th>Total_Bilirubin</th>\n",
              "      <th>Direct_Bilirubin</th>\n",
              "      <th>Alkaline_Phosphotase</th>\n",
              "      <th>Alamine_Aminotransferase</th>\n",
              "      <th>Aspartate_Aminotransferase</th>\n",
              "      <th>Total_Protiens</th>\n",
              "      <th>Albumin</th>\n",
              "      <th>Albumin_and_Globulin_Ratio</th>\n",
              "      <th>Dataset</th>\n",
              "      <th>Age_Range</th>\n",
              "    </tr>\n",
              "  </thead>\n",
              "  <tbody>\n",
              "    <tr>\n",
              "      <th>0</th>\n",
              "      <td>65</td>\n",
              "      <td>0.7</td>\n",
              "      <td>0.1</td>\n",
              "      <td>187</td>\n",
              "      <td>16</td>\n",
              "      <td>18</td>\n",
              "      <td>6.8</td>\n",
              "      <td>3.3</td>\n",
              "      <td>0.90</td>\n",
              "      <td>Yes</td>\n",
              "      <td>(55, 65]</td>\n",
              "    </tr>\n",
              "    <tr>\n",
              "      <th>1</th>\n",
              "      <td>62</td>\n",
              "      <td>10.9</td>\n",
              "      <td>5.5</td>\n",
              "      <td>699</td>\n",
              "      <td>64</td>\n",
              "      <td>100</td>\n",
              "      <td>7.5</td>\n",
              "      <td>3.2</td>\n",
              "      <td>0.74</td>\n",
              "      <td>Yes</td>\n",
              "      <td>(55, 65]</td>\n",
              "    </tr>\n",
              "    <tr>\n",
              "      <th>2</th>\n",
              "      <td>62</td>\n",
              "      <td>7.3</td>\n",
              "      <td>4.1</td>\n",
              "      <td>490</td>\n",
              "      <td>60</td>\n",
              "      <td>68</td>\n",
              "      <td>7.0</td>\n",
              "      <td>3.3</td>\n",
              "      <td>0.89</td>\n",
              "      <td>Yes</td>\n",
              "      <td>(55, 65]</td>\n",
              "    </tr>\n",
              "  </tbody>\n",
              "</table>\n",
              "</div>"
            ],
            "text/plain": [
              "   Age  Total_Bilirubin  ...  Dataset  Age_Range\n",
              "0   65              0.7  ...      Yes   (55, 65]\n",
              "1   62             10.9  ...      Yes   (55, 65]\n",
              "2   62              7.3  ...      Yes   (55, 65]\n",
              "\n",
              "[3 rows x 11 columns]"
            ]
          },
          "metadata": {
            "tags": []
          },
          "execution_count": 421
        }
      ]
    },
    {
      "cell_type": "markdown",
      "metadata": {
        "id": "lp5Mxs1JU2xm",
        "colab_type": "text"
      },
      "source": [
        "Convert categorical variable \"Age Range\" to indicator variables"
      ]
    },
    {
      "cell_type": "code",
      "metadata": {
        "id": "1TDRcSerU9iM",
        "colab_type": "code",
        "colab": {
          "base_uri": "https://localhost:8080/",
          "height": 213
        },
        "outputId": "adb0b15f-2fb5-4d0d-8824-0dbd52387139"
      },
      "source": [
        "pd.get_dummies(liver_df['Age_Range'], prefix = 'Age_Range').head()"
      ],
      "execution_count": 422,
      "outputs": [
        {
          "output_type": "execute_result",
          "data": {
            "text/html": [
              "<div>\n",
              "<style scoped>\n",
              "    .dataframe tbody tr th:only-of-type {\n",
              "        vertical-align: middle;\n",
              "    }\n",
              "\n",
              "    .dataframe tbody tr th {\n",
              "        vertical-align: top;\n",
              "    }\n",
              "\n",
              "    .dataframe thead th {\n",
              "        text-align: right;\n",
              "    }\n",
              "</style>\n",
              "<table border=\"1\" class=\"dataframe\">\n",
              "  <thead>\n",
              "    <tr style=\"text-align: right;\">\n",
              "      <th></th>\n",
              "      <th>Age_Range_(0, 15]</th>\n",
              "      <th>Age_Range_(15, 25]</th>\n",
              "      <th>Age_Range_(25, 35]</th>\n",
              "      <th>Age_Range_(35, 45]</th>\n",
              "      <th>Age_Range_(45, 55]</th>\n",
              "      <th>Age_Range_(55, 65]</th>\n",
              "      <th>Age_Range_(65, 75]</th>\n",
              "    </tr>\n",
              "  </thead>\n",
              "  <tbody>\n",
              "    <tr>\n",
              "      <th>0</th>\n",
              "      <td>0</td>\n",
              "      <td>0</td>\n",
              "      <td>0</td>\n",
              "      <td>0</td>\n",
              "      <td>0</td>\n",
              "      <td>1</td>\n",
              "      <td>0</td>\n",
              "    </tr>\n",
              "    <tr>\n",
              "      <th>1</th>\n",
              "      <td>0</td>\n",
              "      <td>0</td>\n",
              "      <td>0</td>\n",
              "      <td>0</td>\n",
              "      <td>0</td>\n",
              "      <td>1</td>\n",
              "      <td>0</td>\n",
              "    </tr>\n",
              "    <tr>\n",
              "      <th>2</th>\n",
              "      <td>0</td>\n",
              "      <td>0</td>\n",
              "      <td>0</td>\n",
              "      <td>0</td>\n",
              "      <td>0</td>\n",
              "      <td>1</td>\n",
              "      <td>0</td>\n",
              "    </tr>\n",
              "    <tr>\n",
              "      <th>3</th>\n",
              "      <td>0</td>\n",
              "      <td>0</td>\n",
              "      <td>0</td>\n",
              "      <td>0</td>\n",
              "      <td>0</td>\n",
              "      <td>1</td>\n",
              "      <td>0</td>\n",
              "    </tr>\n",
              "    <tr>\n",
              "      <th>4</th>\n",
              "      <td>0</td>\n",
              "      <td>0</td>\n",
              "      <td>0</td>\n",
              "      <td>0</td>\n",
              "      <td>0</td>\n",
              "      <td>0</td>\n",
              "      <td>1</td>\n",
              "    </tr>\n",
              "  </tbody>\n",
              "</table>\n",
              "</div>"
            ],
            "text/plain": [
              "   Age_Range_(0, 15]  ...  Age_Range_(65, 75]\n",
              "0                  0  ...                   0\n",
              "1                  0  ...                   0\n",
              "2                  0  ...                   0\n",
              "3                  0  ...                   0\n",
              "4                  0  ...                   1\n",
              "\n",
              "[5 rows x 7 columns]"
            ]
          },
          "metadata": {
            "tags": []
          },
          "execution_count": 422
        }
      ]
    },
    {
      "cell_type": "code",
      "metadata": {
        "id": "s6gsETdWVZw-",
        "colab_type": "code",
        "colab": {}
      },
      "source": [
        "liver_df = pd.concat([liver_df,pd.get_dummies(liver_df['Age_Range'], prefix = 'Age_Range')], axis=1)"
      ],
      "execution_count": 423,
      "outputs": []
    },
    {
      "cell_type": "code",
      "metadata": {
        "id": "wLqyStizVgZu",
        "colab_type": "code",
        "colab": {
          "base_uri": "https://localhost:8080/",
          "height": 233
        },
        "outputId": "161d96dd-3952-426b-8bf9-a90e6449831b"
      },
      "source": [
        "liver_df.head()"
      ],
      "execution_count": 424,
      "outputs": [
        {
          "output_type": "execute_result",
          "data": {
            "text/html": [
              "<div>\n",
              "<style scoped>\n",
              "    .dataframe tbody tr th:only-of-type {\n",
              "        vertical-align: middle;\n",
              "    }\n",
              "\n",
              "    .dataframe tbody tr th {\n",
              "        vertical-align: top;\n",
              "    }\n",
              "\n",
              "    .dataframe thead th {\n",
              "        text-align: right;\n",
              "    }\n",
              "</style>\n",
              "<table border=\"1\" class=\"dataframe\">\n",
              "  <thead>\n",
              "    <tr style=\"text-align: right;\">\n",
              "      <th></th>\n",
              "      <th>Age</th>\n",
              "      <th>Total_Bilirubin</th>\n",
              "      <th>Direct_Bilirubin</th>\n",
              "      <th>Alkaline_Phosphotase</th>\n",
              "      <th>Alamine_Aminotransferase</th>\n",
              "      <th>Aspartate_Aminotransferase</th>\n",
              "      <th>Total_Protiens</th>\n",
              "      <th>Albumin</th>\n",
              "      <th>Albumin_and_Globulin_Ratio</th>\n",
              "      <th>Dataset</th>\n",
              "      <th>Age_Range</th>\n",
              "      <th>Age_Range_(0, 15]</th>\n",
              "      <th>Age_Range_(15, 25]</th>\n",
              "      <th>Age_Range_(25, 35]</th>\n",
              "      <th>Age_Range_(35, 45]</th>\n",
              "      <th>Age_Range_(45, 55]</th>\n",
              "      <th>Age_Range_(55, 65]</th>\n",
              "      <th>Age_Range_(65, 75]</th>\n",
              "    </tr>\n",
              "  </thead>\n",
              "  <tbody>\n",
              "    <tr>\n",
              "      <th>0</th>\n",
              "      <td>65</td>\n",
              "      <td>0.7</td>\n",
              "      <td>0.1</td>\n",
              "      <td>187</td>\n",
              "      <td>16</td>\n",
              "      <td>18</td>\n",
              "      <td>6.8</td>\n",
              "      <td>3.3</td>\n",
              "      <td>0.90</td>\n",
              "      <td>Yes</td>\n",
              "      <td>(55, 65]</td>\n",
              "      <td>0</td>\n",
              "      <td>0</td>\n",
              "      <td>0</td>\n",
              "      <td>0</td>\n",
              "      <td>0</td>\n",
              "      <td>1</td>\n",
              "      <td>0</td>\n",
              "    </tr>\n",
              "    <tr>\n",
              "      <th>1</th>\n",
              "      <td>62</td>\n",
              "      <td>10.9</td>\n",
              "      <td>5.5</td>\n",
              "      <td>699</td>\n",
              "      <td>64</td>\n",
              "      <td>100</td>\n",
              "      <td>7.5</td>\n",
              "      <td>3.2</td>\n",
              "      <td>0.74</td>\n",
              "      <td>Yes</td>\n",
              "      <td>(55, 65]</td>\n",
              "      <td>0</td>\n",
              "      <td>0</td>\n",
              "      <td>0</td>\n",
              "      <td>0</td>\n",
              "      <td>0</td>\n",
              "      <td>1</td>\n",
              "      <td>0</td>\n",
              "    </tr>\n",
              "    <tr>\n",
              "      <th>2</th>\n",
              "      <td>62</td>\n",
              "      <td>7.3</td>\n",
              "      <td>4.1</td>\n",
              "      <td>490</td>\n",
              "      <td>60</td>\n",
              "      <td>68</td>\n",
              "      <td>7.0</td>\n",
              "      <td>3.3</td>\n",
              "      <td>0.89</td>\n",
              "      <td>Yes</td>\n",
              "      <td>(55, 65]</td>\n",
              "      <td>0</td>\n",
              "      <td>0</td>\n",
              "      <td>0</td>\n",
              "      <td>0</td>\n",
              "      <td>0</td>\n",
              "      <td>1</td>\n",
              "      <td>0</td>\n",
              "    </tr>\n",
              "    <tr>\n",
              "      <th>3</th>\n",
              "      <td>58</td>\n",
              "      <td>1.0</td>\n",
              "      <td>0.4</td>\n",
              "      <td>182</td>\n",
              "      <td>14</td>\n",
              "      <td>20</td>\n",
              "      <td>6.8</td>\n",
              "      <td>3.4</td>\n",
              "      <td>1.00</td>\n",
              "      <td>Yes</td>\n",
              "      <td>(55, 65]</td>\n",
              "      <td>0</td>\n",
              "      <td>0</td>\n",
              "      <td>0</td>\n",
              "      <td>0</td>\n",
              "      <td>0</td>\n",
              "      <td>1</td>\n",
              "      <td>0</td>\n",
              "    </tr>\n",
              "    <tr>\n",
              "      <th>4</th>\n",
              "      <td>72</td>\n",
              "      <td>3.9</td>\n",
              "      <td>2.0</td>\n",
              "      <td>195</td>\n",
              "      <td>27</td>\n",
              "      <td>59</td>\n",
              "      <td>7.3</td>\n",
              "      <td>2.4</td>\n",
              "      <td>0.40</td>\n",
              "      <td>Yes</td>\n",
              "      <td>(65, 75]</td>\n",
              "      <td>0</td>\n",
              "      <td>0</td>\n",
              "      <td>0</td>\n",
              "      <td>0</td>\n",
              "      <td>0</td>\n",
              "      <td>0</td>\n",
              "      <td>1</td>\n",
              "    </tr>\n",
              "  </tbody>\n",
              "</table>\n",
              "</div>"
            ],
            "text/plain": [
              "   Age  Total_Bilirubin  ...  Age_Range_(55, 65]  Age_Range_(65, 75]\n",
              "0   65              0.7  ...                   1                   0\n",
              "1   62             10.9  ...                   1                   0\n",
              "2   62              7.3  ...                   1                   0\n",
              "3   58              1.0  ...                   1                   0\n",
              "4   72              3.9  ...                   0                   1\n",
              "\n",
              "[5 rows x 18 columns]"
            ]
          },
          "metadata": {
            "tags": []
          },
          "execution_count": 424
        }
      ]
    },
    {
      "cell_type": "code",
      "metadata": {
        "id": "PBD9EMyMVmnS",
        "colab_type": "code",
        "colab": {
          "base_uri": "https://localhost:8080/",
          "height": 322
        },
        "outputId": "07d3ae1d-1437-4d32-adeb-fc3cb8a6cbcb"
      },
      "source": [
        "liver_df.describe()"
      ],
      "execution_count": 425,
      "outputs": [
        {
          "output_type": "execute_result",
          "data": {
            "text/html": [
              "<div>\n",
              "<style scoped>\n",
              "    .dataframe tbody tr th:only-of-type {\n",
              "        vertical-align: middle;\n",
              "    }\n",
              "\n",
              "    .dataframe tbody tr th {\n",
              "        vertical-align: top;\n",
              "    }\n",
              "\n",
              "    .dataframe thead th {\n",
              "        text-align: right;\n",
              "    }\n",
              "</style>\n",
              "<table border=\"1\" class=\"dataframe\">\n",
              "  <thead>\n",
              "    <tr style=\"text-align: right;\">\n",
              "      <th></th>\n",
              "      <th>Age</th>\n",
              "      <th>Total_Bilirubin</th>\n",
              "      <th>Direct_Bilirubin</th>\n",
              "      <th>Alkaline_Phosphotase</th>\n",
              "      <th>Alamine_Aminotransferase</th>\n",
              "      <th>Aspartate_Aminotransferase</th>\n",
              "      <th>Total_Protiens</th>\n",
              "      <th>Albumin</th>\n",
              "      <th>Albumin_and_Globulin_Ratio</th>\n",
              "      <th>Age_Range_(0, 15]</th>\n",
              "      <th>Age_Range_(15, 25]</th>\n",
              "      <th>Age_Range_(25, 35]</th>\n",
              "      <th>Age_Range_(35, 45]</th>\n",
              "      <th>Age_Range_(45, 55]</th>\n",
              "      <th>Age_Range_(55, 65]</th>\n",
              "      <th>Age_Range_(65, 75]</th>\n",
              "    </tr>\n",
              "  </thead>\n",
              "  <tbody>\n",
              "    <tr>\n",
              "      <th>count</th>\n",
              "      <td>583.000000</td>\n",
              "      <td>583.000000</td>\n",
              "      <td>583.000000</td>\n",
              "      <td>583.000000</td>\n",
              "      <td>583.000000</td>\n",
              "      <td>583.000000</td>\n",
              "      <td>583.000000</td>\n",
              "      <td>583.000000</td>\n",
              "      <td>583.000000</td>\n",
              "      <td>583.000000</td>\n",
              "      <td>583.000000</td>\n",
              "      <td>583.000000</td>\n",
              "      <td>583.000000</td>\n",
              "      <td>583.000000</td>\n",
              "      <td>583.000000</td>\n",
              "      <td>583.000000</td>\n",
              "    </tr>\n",
              "    <tr>\n",
              "      <th>mean</th>\n",
              "      <td>44.746141</td>\n",
              "      <td>3.298799</td>\n",
              "      <td>1.486106</td>\n",
              "      <td>290.576329</td>\n",
              "      <td>80.713551</td>\n",
              "      <td>109.910806</td>\n",
              "      <td>6.483190</td>\n",
              "      <td>3.141852</td>\n",
              "      <td>0.946947</td>\n",
              "      <td>0.029160</td>\n",
              "      <td>0.090909</td>\n",
              "      <td>0.185249</td>\n",
              "      <td>0.209262</td>\n",
              "      <td>0.214408</td>\n",
              "      <td>0.168096</td>\n",
              "      <td>0.096055</td>\n",
              "    </tr>\n",
              "    <tr>\n",
              "      <th>std</th>\n",
              "      <td>16.189833</td>\n",
              "      <td>6.209522</td>\n",
              "      <td>2.808498</td>\n",
              "      <td>242.937989</td>\n",
              "      <td>182.620356</td>\n",
              "      <td>288.918529</td>\n",
              "      <td>1.085451</td>\n",
              "      <td>0.795519</td>\n",
              "      <td>0.318495</td>\n",
              "      <td>0.168398</td>\n",
              "      <td>0.287727</td>\n",
              "      <td>0.388833</td>\n",
              "      <td>0.407131</td>\n",
              "      <td>0.410764</td>\n",
              "      <td>0.374273</td>\n",
              "      <td>0.294920</td>\n",
              "    </tr>\n",
              "    <tr>\n",
              "      <th>min</th>\n",
              "      <td>4.000000</td>\n",
              "      <td>0.400000</td>\n",
              "      <td>0.100000</td>\n",
              "      <td>63.000000</td>\n",
              "      <td>10.000000</td>\n",
              "      <td>10.000000</td>\n",
              "      <td>2.700000</td>\n",
              "      <td>0.900000</td>\n",
              "      <td>0.300000</td>\n",
              "      <td>0.000000</td>\n",
              "      <td>0.000000</td>\n",
              "      <td>0.000000</td>\n",
              "      <td>0.000000</td>\n",
              "      <td>0.000000</td>\n",
              "      <td>0.000000</td>\n",
              "      <td>0.000000</td>\n",
              "    </tr>\n",
              "    <tr>\n",
              "      <th>25%</th>\n",
              "      <td>33.000000</td>\n",
              "      <td>0.800000</td>\n",
              "      <td>0.200000</td>\n",
              "      <td>175.500000</td>\n",
              "      <td>23.000000</td>\n",
              "      <td>25.000000</td>\n",
              "      <td>5.800000</td>\n",
              "      <td>2.600000</td>\n",
              "      <td>0.700000</td>\n",
              "      <td>0.000000</td>\n",
              "      <td>0.000000</td>\n",
              "      <td>0.000000</td>\n",
              "      <td>0.000000</td>\n",
              "      <td>0.000000</td>\n",
              "      <td>0.000000</td>\n",
              "      <td>0.000000</td>\n",
              "    </tr>\n",
              "    <tr>\n",
              "      <th>50%</th>\n",
              "      <td>45.000000</td>\n",
              "      <td>1.000000</td>\n",
              "      <td>0.300000</td>\n",
              "      <td>208.000000</td>\n",
              "      <td>35.000000</td>\n",
              "      <td>42.000000</td>\n",
              "      <td>6.600000</td>\n",
              "      <td>3.100000</td>\n",
              "      <td>0.930000</td>\n",
              "      <td>0.000000</td>\n",
              "      <td>0.000000</td>\n",
              "      <td>0.000000</td>\n",
              "      <td>0.000000</td>\n",
              "      <td>0.000000</td>\n",
              "      <td>0.000000</td>\n",
              "      <td>0.000000</td>\n",
              "    </tr>\n",
              "    <tr>\n",
              "      <th>75%</th>\n",
              "      <td>58.000000</td>\n",
              "      <td>2.600000</td>\n",
              "      <td>1.300000</td>\n",
              "      <td>298.000000</td>\n",
              "      <td>60.500000</td>\n",
              "      <td>87.000000</td>\n",
              "      <td>7.200000</td>\n",
              "      <td>3.800000</td>\n",
              "      <td>1.100000</td>\n",
              "      <td>0.000000</td>\n",
              "      <td>0.000000</td>\n",
              "      <td>0.000000</td>\n",
              "      <td>0.000000</td>\n",
              "      <td>0.000000</td>\n",
              "      <td>0.000000</td>\n",
              "      <td>0.000000</td>\n",
              "    </tr>\n",
              "    <tr>\n",
              "      <th>max</th>\n",
              "      <td>90.000000</td>\n",
              "      <td>75.000000</td>\n",
              "      <td>19.700000</td>\n",
              "      <td>2110.000000</td>\n",
              "      <td>2000.000000</td>\n",
              "      <td>4929.000000</td>\n",
              "      <td>9.600000</td>\n",
              "      <td>5.500000</td>\n",
              "      <td>2.800000</td>\n",
              "      <td>1.000000</td>\n",
              "      <td>1.000000</td>\n",
              "      <td>1.000000</td>\n",
              "      <td>1.000000</td>\n",
              "      <td>1.000000</td>\n",
              "      <td>1.000000</td>\n",
              "      <td>1.000000</td>\n",
              "    </tr>\n",
              "  </tbody>\n",
              "</table>\n",
              "</div>"
            ],
            "text/plain": [
              "              Age  Total_Bilirubin  ...  Age_Range_(55, 65]  Age_Range_(65, 75]\n",
              "count  583.000000       583.000000  ...          583.000000          583.000000\n",
              "mean    44.746141         3.298799  ...            0.168096            0.096055\n",
              "std     16.189833         6.209522  ...            0.374273            0.294920\n",
              "min      4.000000         0.400000  ...            0.000000            0.000000\n",
              "25%     33.000000         0.800000  ...            0.000000            0.000000\n",
              "50%     45.000000         1.000000  ...            0.000000            0.000000\n",
              "75%     58.000000         2.600000  ...            0.000000            0.000000\n",
              "max     90.000000        75.000000  ...            1.000000            1.000000\n",
              "\n",
              "[8 rows x 16 columns]"
            ]
          },
          "metadata": {
            "tags": []
          },
          "execution_count": 425
        }
      ]
    },
    {
      "cell_type": "code",
      "metadata": {
        "id": "wJhg8n2DcvFZ",
        "colab_type": "code",
        "colab": {}
      },
      "source": [
        "liver_df['Dataset']=liver_df['Dataset'].replace({'No': 0, 'Yes': 1})"
      ],
      "execution_count": 426,
      "outputs": []
    },
    {
      "cell_type": "markdown",
      "metadata": {
        "id": "PonwN2uaWIgr",
        "colab_type": "text"
      },
      "source": [
        "**B.\tSplit features and labels**"
      ]
    },
    {
      "cell_type": "code",
      "metadata": {
        "id": "B1nbXpxSWUJC",
        "colab_type": "code",
        "colab": {
          "base_uri": "https://localhost:8080/",
          "height": 173
        },
        "outputId": "792f94fe-ece0-4757-d9fe-63b7bbfe0dfb"
      },
      "source": [
        "# The input variables/features are all the inputs except Dataset. The prediction or label is 'Dataset' that determines whether the patient has liver disease or not. \n",
        "X = liver_df.drop(['Age','Age_Range','Dataset','Direct_Bilirubin', 'Aspartate_Aminotransferase'], axis=1)\n",
        "X.head(3)"
      ],
      "execution_count": 427,
      "outputs": [
        {
          "output_type": "execute_result",
          "data": {
            "text/html": [
              "<div>\n",
              "<style scoped>\n",
              "    .dataframe tbody tr th:only-of-type {\n",
              "        vertical-align: middle;\n",
              "    }\n",
              "\n",
              "    .dataframe tbody tr th {\n",
              "        vertical-align: top;\n",
              "    }\n",
              "\n",
              "    .dataframe thead th {\n",
              "        text-align: right;\n",
              "    }\n",
              "</style>\n",
              "<table border=\"1\" class=\"dataframe\">\n",
              "  <thead>\n",
              "    <tr style=\"text-align: right;\">\n",
              "      <th></th>\n",
              "      <th>Total_Bilirubin</th>\n",
              "      <th>Alkaline_Phosphotase</th>\n",
              "      <th>Alamine_Aminotransferase</th>\n",
              "      <th>Total_Protiens</th>\n",
              "      <th>Albumin</th>\n",
              "      <th>Albumin_and_Globulin_Ratio</th>\n",
              "      <th>Age_Range_(0, 15]</th>\n",
              "      <th>Age_Range_(15, 25]</th>\n",
              "      <th>Age_Range_(25, 35]</th>\n",
              "      <th>Age_Range_(35, 45]</th>\n",
              "      <th>Age_Range_(45, 55]</th>\n",
              "      <th>Age_Range_(55, 65]</th>\n",
              "      <th>Age_Range_(65, 75]</th>\n",
              "    </tr>\n",
              "  </thead>\n",
              "  <tbody>\n",
              "    <tr>\n",
              "      <th>0</th>\n",
              "      <td>0.7</td>\n",
              "      <td>187</td>\n",
              "      <td>16</td>\n",
              "      <td>6.8</td>\n",
              "      <td>3.3</td>\n",
              "      <td>0.90</td>\n",
              "      <td>0</td>\n",
              "      <td>0</td>\n",
              "      <td>0</td>\n",
              "      <td>0</td>\n",
              "      <td>0</td>\n",
              "      <td>1</td>\n",
              "      <td>0</td>\n",
              "    </tr>\n",
              "    <tr>\n",
              "      <th>1</th>\n",
              "      <td>10.9</td>\n",
              "      <td>699</td>\n",
              "      <td>64</td>\n",
              "      <td>7.5</td>\n",
              "      <td>3.2</td>\n",
              "      <td>0.74</td>\n",
              "      <td>0</td>\n",
              "      <td>0</td>\n",
              "      <td>0</td>\n",
              "      <td>0</td>\n",
              "      <td>0</td>\n",
              "      <td>1</td>\n",
              "      <td>0</td>\n",
              "    </tr>\n",
              "    <tr>\n",
              "      <th>2</th>\n",
              "      <td>7.3</td>\n",
              "      <td>490</td>\n",
              "      <td>60</td>\n",
              "      <td>7.0</td>\n",
              "      <td>3.3</td>\n",
              "      <td>0.89</td>\n",
              "      <td>0</td>\n",
              "      <td>0</td>\n",
              "      <td>0</td>\n",
              "      <td>0</td>\n",
              "      <td>0</td>\n",
              "      <td>1</td>\n",
              "      <td>0</td>\n",
              "    </tr>\n",
              "  </tbody>\n",
              "</table>\n",
              "</div>"
            ],
            "text/plain": [
              "   Total_Bilirubin  ...  Age_Range_(65, 75]\n",
              "0              0.7  ...                   0\n",
              "1             10.9  ...                   0\n",
              "2              7.3  ...                   0\n",
              "\n",
              "[3 rows x 13 columns]"
            ]
          },
          "metadata": {
            "tags": []
          },
          "execution_count": 427
        }
      ]
    },
    {
      "cell_type": "code",
      "metadata": {
        "id": "bYOQwp6yWpwJ",
        "colab_type": "code",
        "colab": {
          "base_uri": "https://localhost:8080/",
          "height": 117
        },
        "outputId": "8a8f38df-3780-4cb1-902d-7cc29bedf8bd"
      },
      "source": [
        "y = liver_df['Dataset'] # 1 for liver disease; 0 for no liver disease\n",
        "y.head()"
      ],
      "execution_count": 428,
      "outputs": [
        {
          "output_type": "execute_result",
          "data": {
            "text/plain": [
              "0    1\n",
              "1    1\n",
              "2    1\n",
              "3    1\n",
              "4    1\n",
              "Name: Dataset, dtype: int64"
            ]
          },
          "metadata": {
            "tags": []
          },
          "execution_count": 428
        }
      ]
    },
    {
      "cell_type": "code",
      "metadata": {
        "id": "Es4irTFlV61_",
        "colab_type": "code",
        "colab": {
          "base_uri": "https://localhost:8080/",
          "height": 472
        },
        "outputId": "24b37bdb-e0ff-419f-a49a-f379626c6d2d"
      },
      "source": [
        "# Correlation\n",
        "liver_corr = X.corr()\n",
        "liver_corr"
      ],
      "execution_count": 429,
      "outputs": [
        {
          "output_type": "execute_result",
          "data": {
            "text/html": [
              "<div>\n",
              "<style scoped>\n",
              "    .dataframe tbody tr th:only-of-type {\n",
              "        vertical-align: middle;\n",
              "    }\n",
              "\n",
              "    .dataframe tbody tr th {\n",
              "        vertical-align: top;\n",
              "    }\n",
              "\n",
              "    .dataframe thead th {\n",
              "        text-align: right;\n",
              "    }\n",
              "</style>\n",
              "<table border=\"1\" class=\"dataframe\">\n",
              "  <thead>\n",
              "    <tr style=\"text-align: right;\">\n",
              "      <th></th>\n",
              "      <th>Total_Bilirubin</th>\n",
              "      <th>Alkaline_Phosphotase</th>\n",
              "      <th>Alamine_Aminotransferase</th>\n",
              "      <th>Total_Protiens</th>\n",
              "      <th>Albumin</th>\n",
              "      <th>Albumin_and_Globulin_Ratio</th>\n",
              "      <th>Age_Range_(0, 15]</th>\n",
              "      <th>Age_Range_(15, 25]</th>\n",
              "      <th>Age_Range_(25, 35]</th>\n",
              "      <th>Age_Range_(35, 45]</th>\n",
              "      <th>Age_Range_(45, 55]</th>\n",
              "      <th>Age_Range_(55, 65]</th>\n",
              "      <th>Age_Range_(65, 75]</th>\n",
              "    </tr>\n",
              "  </thead>\n",
              "  <tbody>\n",
              "    <tr>\n",
              "      <th>Total_Bilirubin</th>\n",
              "      <td>1.000000</td>\n",
              "      <td>0.206669</td>\n",
              "      <td>0.214065</td>\n",
              "      <td>-0.008099</td>\n",
              "      <td>-0.222250</td>\n",
              "      <td>-0.206015</td>\n",
              "      <td>-0.025107</td>\n",
              "      <td>-0.067161</td>\n",
              "      <td>0.066915</td>\n",
              "      <td>-0.018863</td>\n",
              "      <td>0.053588</td>\n",
              "      <td>-0.026085</td>\n",
              "      <td>-0.015043</td>\n",
              "    </tr>\n",
              "    <tr>\n",
              "      <th>Alkaline_Phosphotase</th>\n",
              "      <td>0.206669</td>\n",
              "      <td>1.000000</td>\n",
              "      <td>0.125680</td>\n",
              "      <td>-0.028514</td>\n",
              "      <td>-0.165453</td>\n",
              "      <td>-0.233784</td>\n",
              "      <td>0.114415</td>\n",
              "      <td>-0.068128</td>\n",
              "      <td>-0.064959</td>\n",
              "      <td>-0.088272</td>\n",
              "      <td>0.043768</td>\n",
              "      <td>0.073595</td>\n",
              "      <td>0.063856</td>\n",
              "    </tr>\n",
              "    <tr>\n",
              "      <th>Alamine_Aminotransferase</th>\n",
              "      <td>0.214065</td>\n",
              "      <td>0.125680</td>\n",
              "      <td>1.000000</td>\n",
              "      <td>-0.042518</td>\n",
              "      <td>-0.029742</td>\n",
              "      <td>-0.002254</td>\n",
              "      <td>0.008262</td>\n",
              "      <td>-0.015755</td>\n",
              "      <td>0.146996</td>\n",
              "      <td>0.002009</td>\n",
              "      <td>-0.069362</td>\n",
              "      <td>-0.051784</td>\n",
              "      <td>-0.016620</td>\n",
              "    </tr>\n",
              "    <tr>\n",
              "      <th>Total_Protiens</th>\n",
              "      <td>-0.008099</td>\n",
              "      <td>-0.028514</td>\n",
              "      <td>-0.042518</td>\n",
              "      <td>1.000000</td>\n",
              "      <td>0.784053</td>\n",
              "      <td>0.233828</td>\n",
              "      <td>0.107967</td>\n",
              "      <td>0.076422</td>\n",
              "      <td>0.037516</td>\n",
              "      <td>0.016916</td>\n",
              "      <td>0.041624</td>\n",
              "      <td>-0.099191</td>\n",
              "      <td>-0.142551</td>\n",
              "    </tr>\n",
              "    <tr>\n",
              "      <th>Albumin</th>\n",
              "      <td>-0.222250</td>\n",
              "      <td>-0.165453</td>\n",
              "      <td>-0.029742</td>\n",
              "      <td>0.784053</td>\n",
              "      <td>1.000000</td>\n",
              "      <td>0.686091</td>\n",
              "      <td>0.110156</td>\n",
              "      <td>0.152999</td>\n",
              "      <td>0.073767</td>\n",
              "      <td>0.030207</td>\n",
              "      <td>-0.032241</td>\n",
              "      <td>-0.112540</td>\n",
              "      <td>-0.165833</td>\n",
              "    </tr>\n",
              "    <tr>\n",
              "      <th>Albumin_and_Globulin_Ratio</th>\n",
              "      <td>-0.206015</td>\n",
              "      <td>-0.233784</td>\n",
              "      <td>-0.002254</td>\n",
              "      <td>0.233828</td>\n",
              "      <td>0.686091</td>\n",
              "      <td>1.000000</td>\n",
              "      <td>0.041708</td>\n",
              "      <td>0.133532</td>\n",
              "      <td>0.117234</td>\n",
              "      <td>0.016729</td>\n",
              "      <td>-0.089287</td>\n",
              "      <td>-0.068478</td>\n",
              "      <td>-0.118883</td>\n",
              "    </tr>\n",
              "    <tr>\n",
              "      <th>Age_Range_(0, 15]</th>\n",
              "      <td>-0.025107</td>\n",
              "      <td>0.114415</td>\n",
              "      <td>0.008262</td>\n",
              "      <td>0.107967</td>\n",
              "      <td>0.110156</td>\n",
              "      <td>0.041708</td>\n",
              "      <td>1.000000</td>\n",
              "      <td>-0.054805</td>\n",
              "      <td>-0.082638</td>\n",
              "      <td>-0.089155</td>\n",
              "      <td>-0.090540</td>\n",
              "      <td>-0.077904</td>\n",
              "      <td>-0.056494</td>\n",
              "    </tr>\n",
              "    <tr>\n",
              "      <th>Age_Range_(15, 25]</th>\n",
              "      <td>-0.067161</td>\n",
              "      <td>-0.068128</td>\n",
              "      <td>-0.015755</td>\n",
              "      <td>0.076422</td>\n",
              "      <td>0.152999</td>\n",
              "      <td>0.133532</td>\n",
              "      <td>-0.054805</td>\n",
              "      <td>1.000000</td>\n",
              "      <td>-0.150787</td>\n",
              "      <td>-0.162678</td>\n",
              "      <td>-0.165205</td>\n",
              "      <td>-0.142148</td>\n",
              "      <td>-0.103083</td>\n",
              "    </tr>\n",
              "    <tr>\n",
              "      <th>Age_Range_(25, 35]</th>\n",
              "      <td>0.066915</td>\n",
              "      <td>-0.064959</td>\n",
              "      <td>0.146996</td>\n",
              "      <td>0.037516</td>\n",
              "      <td>0.073767</td>\n",
              "      <td>0.117234</td>\n",
              "      <td>-0.082638</td>\n",
              "      <td>-0.150787</td>\n",
              "      <td>1.000000</td>\n",
              "      <td>-0.245298</td>\n",
              "      <td>-0.249108</td>\n",
              "      <td>-0.214342</td>\n",
              "      <td>-0.155437</td>\n",
              "    </tr>\n",
              "    <tr>\n",
              "      <th>Age_Range_(35, 45]</th>\n",
              "      <td>-0.018863</td>\n",
              "      <td>-0.088272</td>\n",
              "      <td>0.002009</td>\n",
              "      <td>0.016916</td>\n",
              "      <td>0.030207</td>\n",
              "      <td>0.016729</td>\n",
              "      <td>-0.089155</td>\n",
              "      <td>-0.162678</td>\n",
              "      <td>-0.245298</td>\n",
              "      <td>1.000000</td>\n",
              "      <td>-0.268752</td>\n",
              "      <td>-0.231245</td>\n",
              "      <td>-0.167694</td>\n",
              "    </tr>\n",
              "    <tr>\n",
              "      <th>Age_Range_(45, 55]</th>\n",
              "      <td>0.053588</td>\n",
              "      <td>0.043768</td>\n",
              "      <td>-0.069362</td>\n",
              "      <td>0.041624</td>\n",
              "      <td>-0.032241</td>\n",
              "      <td>-0.089287</td>\n",
              "      <td>-0.090540</td>\n",
              "      <td>-0.165205</td>\n",
              "      <td>-0.249108</td>\n",
              "      <td>-0.268752</td>\n",
              "      <td>1.000000</td>\n",
              "      <td>-0.234836</td>\n",
              "      <td>-0.170299</td>\n",
              "    </tr>\n",
              "    <tr>\n",
              "      <th>Age_Range_(55, 65]</th>\n",
              "      <td>-0.026085</td>\n",
              "      <td>0.073595</td>\n",
              "      <td>-0.051784</td>\n",
              "      <td>-0.099191</td>\n",
              "      <td>-0.112540</td>\n",
              "      <td>-0.068478</td>\n",
              "      <td>-0.077904</td>\n",
              "      <td>-0.142148</td>\n",
              "      <td>-0.214342</td>\n",
              "      <td>-0.231245</td>\n",
              "      <td>-0.234836</td>\n",
              "      <td>1.000000</td>\n",
              "      <td>-0.146531</td>\n",
              "    </tr>\n",
              "    <tr>\n",
              "      <th>Age_Range_(65, 75]</th>\n",
              "      <td>-0.015043</td>\n",
              "      <td>0.063856</td>\n",
              "      <td>-0.016620</td>\n",
              "      <td>-0.142551</td>\n",
              "      <td>-0.165833</td>\n",
              "      <td>-0.118883</td>\n",
              "      <td>-0.056494</td>\n",
              "      <td>-0.103083</td>\n",
              "      <td>-0.155437</td>\n",
              "      <td>-0.167694</td>\n",
              "      <td>-0.170299</td>\n",
              "      <td>-0.146531</td>\n",
              "      <td>1.000000</td>\n",
              "    </tr>\n",
              "  </tbody>\n",
              "</table>\n",
              "</div>"
            ],
            "text/plain": [
              "                            Total_Bilirubin  ...  Age_Range_(65, 75]\n",
              "Total_Bilirubin                    1.000000  ...           -0.015043\n",
              "Alkaline_Phosphotase               0.206669  ...            0.063856\n",
              "Alamine_Aminotransferase           0.214065  ...           -0.016620\n",
              "Total_Protiens                    -0.008099  ...           -0.142551\n",
              "Albumin                           -0.222250  ...           -0.165833\n",
              "Albumin_and_Globulin_Ratio        -0.206015  ...           -0.118883\n",
              "Age_Range_(0, 15]                 -0.025107  ...           -0.056494\n",
              "Age_Range_(15, 25]                -0.067161  ...           -0.103083\n",
              "Age_Range_(25, 35]                 0.066915  ...           -0.155437\n",
              "Age_Range_(35, 45]                -0.018863  ...           -0.167694\n",
              "Age_Range_(45, 55]                 0.053588  ...           -0.170299\n",
              "Age_Range_(55, 65]                -0.026085  ...           -0.146531\n",
              "Age_Range_(65, 75]                -0.015043  ...            1.000000\n",
              "\n",
              "[13 rows x 13 columns]"
            ]
          },
          "metadata": {
            "tags": []
          },
          "execution_count": 429
        }
      ]
    },
    {
      "cell_type": "code",
      "metadata": {
        "id": "svQlfaMlW3ap",
        "colab_type": "code",
        "colab": {
          "base_uri": "https://localhost:8080/",
          "height": 978
        },
        "outputId": "3be944ed-05ac-4eae-c10f-36f3a537f403"
      },
      "source": [
        "plt.figure(figsize=(40, 40))\n",
        "sns.heatmap(liver_corr, cbar = True,  square = True, annot=True, fmt= '.2f',annot_kws={'size': 15},\n",
        "           cmap= 'coolwarm')\n",
        "plt.title('Correlation between features');"
      ],
      "execution_count": 430,
      "outputs": [
        {
          "output_type": "display_data",
          "data": {
            "image/png": "[encoded data removed]",
            "text/plain": [
              "<Figure size 2880x2880 with 2 Axes>"
            ]
          },
          "metadata": {
            "tags": []
          }
        }
      ]
    },
    {
      "cell_type": "markdown",
      "metadata": {
        "id": "3niEB4HHXHM_",
        "colab_type": "text"
      },
      "source": [
        "The above correlation also indicates the following correlation\n",
        " Total_Protiens & Albumin\n",
        " \n",
        " Alamine_Aminotransferase & Aspartate_Aminotransferase\n",
        " \n",
        " Direct_Bilirubin & Total_Bilirubin\n",
        " \n",
        " There is some correlation between Albumin_and_Globulin_Ratio and Albumin. But its not as high as Total_Protiens & Albumin"
      ]
    },
    {
      "cell_type": "markdown",
      "metadata": {
        "id": "WUv8AEinYXmS",
        "colab_type": "text"
      },
      "source": [
        "###C.\tSplit train and test data"
      ]
    },
    {
      "cell_type": "code",
      "metadata": {
        "id": "1A_IOPHzXKib",
        "colab_type": "code",
        "colab": {}
      },
      "source": [
        "from sklearn.metrics import accuracy_score\n",
        "from sklearn.model_selection import train_test_split\n",
        "from sklearn.metrics import classification_report,confusion_matrix\n",
        "from sklearn import linear_model\n",
        "from sklearn.linear_model import LogisticRegression\n",
        "\n",
        "from sklearn.neighbors import KNeighborsClassifier\n",
        "from sklearn.naive_bayes import GaussianNB\n",
        "from sklearn.linear_model import Perceptron\n",
        "from sklearn.linear_model import SGDClassifier\n"
      ],
      "execution_count": 431,
      "outputs": []
    },
    {
      "cell_type": "code",
      "metadata": {
        "id": "xTcjmYuSYp-3",
        "colab_type": "code",
        "colab": {
          "base_uri": "https://localhost:8080/",
          "height": 84
        },
        "outputId": "0658a5dd-25b9-4c46-cfcb-a2eb99046ca7"
      },
      "source": [
        "X_train, X_test, y_train, y_test = train_test_split(X, y, test_size=0.30, random_state=101)\n",
        "print (X_train.shape)\n",
        "print (y_train.shape)\n",
        "print (X_test.shape)\n",
        "print (y_test.shape)"
      ],
      "execution_count": 432,
      "outputs": [
        {
          "output_type": "stream",
          "text": [
            "(408, 13)\n",
            "(408,)\n",
            "(175, 13)\n",
            "(175,)\n"
          ],
          "name": "stdout"
        }
      ]
    },
    {
      "cell_type": "code",
      "metadata": {
        "id": "gaajl6CZbW5X",
        "colab_type": "code",
        "colab": {
          "base_uri": "https://localhost:8080/",
          "height": 435
        },
        "outputId": "45c454c0-83ca-4f75-d9c6-c00d3949a881"
      },
      "source": [
        "liver_df.info()"
      ],
      "execution_count": 433,
      "outputs": [
        {
          "output_type": "stream",
          "text": [
            "<class 'pandas.core.frame.DataFrame'>\n",
            "RangeIndex: 583 entries, 0 to 582\n",
            "Data columns (total 18 columns):\n",
            " #   Column                      Non-Null Count  Dtype   \n",
            "---  ------                      --------------  -----   \n",
            " 0   Age                         583 non-null    int64   \n",
            " 1   Total_Bilirubin             583 non-null    float64 \n",
            " 2   Direct_Bilirubin            583 non-null    float64 \n",
            " 3   Alkaline_Phosphotase        583 non-null    int64   \n",
            " 4   Alamine_Aminotransferase    583 non-null    int64   \n",
            " 5   Aspartate_Aminotransferase  583 non-null    int64   \n",
            " 6   Total_Protiens              583 non-null    float64 \n",
            " 7   Albumin                     583 non-null    float64 \n",
            " 8   Albumin_and_Globulin_Ratio  583 non-null    float64 \n",
            " 9   Dataset                     583 non-null    int64   \n",
            " 10  Age_Range                   579 non-null    category\n",
            " 11  Age_Range_(0, 15]           583 non-null    uint8   \n",
            " 12  Age_Range_(15, 25]          583 non-null    uint8   \n",
            " 13  Age_Range_(25, 35]          583 non-null    uint8   \n",
            " 14  Age_Range_(35, 45]          583 non-null    uint8   \n",
            " 15  Age_Range_(45, 55]          583 non-null    uint8   \n",
            " 16  Age_Range_(55, 65]          583 non-null    uint8   \n",
            " 17  Age_Range_(65, 75]          583 non-null    uint8   \n",
            "dtypes: category(1), float64(5), int64(5), uint8(7)\n",
            "memory usage: 50.6 KB\n"
          ],
          "name": "stdout"
        }
      ]
    },
    {
      "cell_type": "code",
      "metadata": {
        "id": "KRxMRUYeYwW5",
        "colab_type": "code",
        "colab": {
          "base_uri": "https://localhost:8080/",
          "height": 861
        },
        "outputId": "fa666a1e-189b-42fd-aaef-40988b1581c2"
      },
      "source": [
        "# Create logistic regression object\n",
        "logreg = LogisticRegression()\n",
        "# Train the model using the training sets and check score\n",
        "logreg.fit(X_train, y_train)\n",
        "#Predict Output\n",
        "log_predicted= logreg.predict(X_test)\n",
        "\n",
        "logreg_score = round(logreg.score(X_train, y_train) * 100, 2)\n",
        "logreg_score_test = round(logreg.score(X_test, y_test) * 100, 2)\n",
        "#Equation coefficient and Intercept\n",
        "print('Logistic Regression Training Score: \\n', logreg_score)\n",
        "print('Logistic Regression Test Score: \\n', logreg_score_test)\n",
        "print('Coefficient: \\n', logreg.coef_)\n",
        "print('Intercept: \\n', logreg.intercept_)\n",
        "print('Accuracy: \\n', accuracy_score(y_test,log_predicted))\n",
        "print('Confusion Matrix: \\n', confusion_matrix(y_test,log_predicted))\n",
        "print('Classification Report: \\n', classification_report(y_test,log_predicted))\n",
        "\n",
        "sns.heatmap(confusion_matrix(y_test,log_predicted),annot=True,fmt=\"d\")\n"
      ],
      "execution_count": 434,
      "outputs": [
        {
          "output_type": "stream",
          "text": [
            "Logistic Regression Training Score: \n",
            " 75.98\n",
            "Logistic Regression Test Score: \n",
            " 67.43\n",
            "Coefficient: \n",
            " [[ 0.31747457  0.00100605  0.01565204  0.20842281 -0.28558888 -0.54160703\n",
            "  -0.47674702 -0.70610438  0.0561185  -0.273628    0.72174401 -0.44036322\n",
            "   0.78185466]]\n",
            "Intercept: \n",
            " [-0.52561169]\n",
            "Accuracy: \n",
            " 0.6742857142857143\n",
            "Confusion Matrix: \n",
            " [[ 18  33]\n",
            " [ 24 100]]\n",
            "Classification Report: \n",
            "               precision    recall  f1-score   support\n",
            "\n",
            "           0       0.43      0.35      0.39        51\n",
            "           1       0.75      0.81      0.78       124\n",
            "\n",
            "    accuracy                           0.67       175\n",
            "   macro avg       0.59      0.58      0.58       175\n",
            "weighted avg       0.66      0.67      0.66       175\n",
            "\n"
          ],
          "name": "stdout"
        },
        {
          "output_type": "stream",
          "text": [
            "/usr/local/lib/python3.6/dist-packages/sklearn/linear_model/_logistic.py:940: ConvergenceWarning: lbfgs failed to converge (status=1):\n",
            "STOP: TOTAL NO. of ITERATIONS REACHED LIMIT.\n",
            "\n",
            "Increase the number of iterations (max_iter) or scale the data as shown in:\n",
            "    https://scikit-learn.org/stable/modules/preprocessing.html\n",
            "Please also refer to the documentation for alternative solver options:\n",
            "    https://scikit-learn.org/stable/modules/linear_model.html#logistic-regression\n",
            "  extra_warning_msg=_LOGISTIC_SOLVER_CONVERGENCE_MSG)\n"
          ],
          "name": "stderr"
        },
        {
          "output_type": "execute_result",
          "data": {
            "text/plain": [
              "<matplotlib.axes._subplots.AxesSubplot at 0x7fbf27a11c88>"
            ]
          },
          "metadata": {
            "tags": []
          },
          "execution_count": 434
        },
        {
          "output_type": "display_data",
          "data": {
            "image/png": "[encoded data removed]",
            "text/plain": [
              "<Figure size 432x288 with 2 Axes>"
            ]
          },
          "metadata": {
            "tags": []
          }
        }
      ]
    },
    {
      "cell_type": "code",
      "metadata": {
        "id": "prYHETRod6Yi",
        "colab_type": "code",
        "colab": {
          "base_uri": "https://localhost:8080/",
          "height": 435
        },
        "outputId": "c66f3db8-c797-4bf5-bb71-d4637f04ffde"
      },
      "source": [
        "coeff_df = pd.DataFrame(X.columns)\n",
        "coeff_df.columns = ['Feature']\n",
        "coeff_df[\"Correlation\"] = pd.Series(logreg.coef_[0])\n",
        "pd.Series(logreg.coef_[0])\n",
        "\n",
        "coeff_df.sort_values(by='Correlation', ascending=False)"
      ],
      "execution_count": 435,
      "outputs": [
        {
          "output_type": "execute_result",
          "data": {
            "text/html": [
              "<div>\n",
              "<style scoped>\n",
              "    .dataframe tbody tr th:only-of-type {\n",
              "        vertical-align: middle;\n",
              "    }\n",
              "\n",
              "    .dataframe tbody tr th {\n",
              "        vertical-align: top;\n",
              "    }\n",
              "\n",
              "    .dataframe thead th {\n",
              "        text-align: right;\n",
              "    }\n",
              "</style>\n",
              "<table border=\"1\" class=\"dataframe\">\n",
              "  <thead>\n",
              "    <tr style=\"text-align: right;\">\n",
              "      <th></th>\n",
              "      <th>Feature</th>\n",
              "      <th>Correlation</th>\n",
              "    </tr>\n",
              "  </thead>\n",
              "  <tbody>\n",
              "    <tr>\n",
              "      <th>12</th>\n",
              "      <td>Age_Range_(65, 75]</td>\n",
              "      <td>0.781855</td>\n",
              "    </tr>\n",
              "    <tr>\n",
              "      <th>10</th>\n",
              "      <td>Age_Range_(45, 55]</td>\n",
              "      <td>0.721744</td>\n",
              "    </tr>\n",
              "    <tr>\n",
              "      <th>0</th>\n",
              "      <td>Total_Bilirubin</td>\n",
              "      <td>0.317475</td>\n",
              "    </tr>\n",
              "    <tr>\n",
              "      <th>3</th>\n",
              "      <td>Total_Protiens</td>\n",
              "      <td>0.208423</td>\n",
              "    </tr>\n",
              "    <tr>\n",
              "      <th>8</th>\n",
              "      <td>Age_Range_(25, 35]</td>\n",
              "      <td>0.056118</td>\n",
              "    </tr>\n",
              "    <tr>\n",
              "      <th>2</th>\n",
              "      <td>Alamine_Aminotransferase</td>\n",
              "      <td>0.015652</td>\n",
              "    </tr>\n",
              "    <tr>\n",
              "      <th>1</th>\n",
              "      <td>Alkaline_Phosphotase</td>\n",
              "      <td>0.001006</td>\n",
              "    </tr>\n",
              "    <tr>\n",
              "      <th>9</th>\n",
              "      <td>Age_Range_(35, 45]</td>\n",
              "      <td>-0.273628</td>\n",
              "    </tr>\n",
              "    <tr>\n",
              "      <th>4</th>\n",
              "      <td>Albumin</td>\n",
              "      <td>-0.285589</td>\n",
              "    </tr>\n",
              "    <tr>\n",
              "      <th>11</th>\n",
              "      <td>Age_Range_(55, 65]</td>\n",
              "      <td>-0.440363</td>\n",
              "    </tr>\n",
              "    <tr>\n",
              "      <th>6</th>\n",
              "      <td>Age_Range_(0, 15]</td>\n",
              "      <td>-0.476747</td>\n",
              "    </tr>\n",
              "    <tr>\n",
              "      <th>5</th>\n",
              "      <td>Albumin_and_Globulin_Ratio</td>\n",
              "      <td>-0.541607</td>\n",
              "    </tr>\n",
              "    <tr>\n",
              "      <th>7</th>\n",
              "      <td>Age_Range_(15, 25]</td>\n",
              "      <td>-0.706104</td>\n",
              "    </tr>\n",
              "  </tbody>\n",
              "</table>\n",
              "</div>"
            ],
            "text/plain": [
              "                       Feature  Correlation\n",
              "12          Age_Range_(65, 75]     0.781855\n",
              "10          Age_Range_(45, 55]     0.721744\n",
              "0              Total_Bilirubin     0.317475\n",
              "3               Total_Protiens     0.208423\n",
              "8           Age_Range_(25, 35]     0.056118\n",
              "2     Alamine_Aminotransferase     0.015652\n",
              "1         Alkaline_Phosphotase     0.001006\n",
              "9           Age_Range_(35, 45]    -0.273628\n",
              "4                      Albumin    -0.285589\n",
              "11          Age_Range_(55, 65]    -0.440363\n",
              "6            Age_Range_(0, 15]    -0.476747\n",
              "5   Albumin_and_Globulin_Ratio    -0.541607\n",
              "7           Age_Range_(15, 25]    -0.706104"
            ]
          },
          "metadata": {
            "tags": []
          },
          "execution_count": 435
        }
      ]
    },
    {
      "cell_type": "code",
      "metadata": {
        "id": "KkG_qjgcenjZ",
        "colab_type": "code",
        "colab": {
          "base_uri": "https://localhost:8080/",
          "height": 569
        },
        "outputId": "33dca533-3d36-4713-c1f2-d95325712634"
      },
      "source": [
        "# Gaussian Naive Bayes\n",
        "\n",
        "gaussian = GaussianNB()\n",
        "gaussian.fit(X_train, y_train)\n",
        "#Predict Output\n",
        "gauss_predicted = gaussian.predict(X_test)\n",
        "\n",
        "gauss_score = round(gaussian.score(X_train, y_train) * 100, 2)\n",
        "gauss_score_test = round(gaussian.score(X_test, y_test) * 100, 2)\n",
        "print('Gaussian Score: \\n', gauss_score)\n",
        "print('Gaussian Test Score: \\n', gauss_score_test)\n",
        "print('Accuracy: \\n', accuracy_score(y_test, gauss_predicted))\n",
        "print(confusion_matrix(y_test,gauss_predicted))\n",
        "print(classification_report(y_test,gauss_predicted))\n",
        "\n",
        "sns.heatmap(confusion_matrix(y_test,gauss_predicted),annot=True,fmt=\"d\")"
      ],
      "execution_count": 436,
      "outputs": [
        {
          "output_type": "stream",
          "text": [
            "Gaussian Score: \n",
            " 62.01\n",
            "Gaussian Test Score: \n",
            " 63.43\n",
            "Accuracy: \n",
            " 0.6342857142857142\n",
            "[[49  2]\n",
            " [62 62]]\n",
            "              precision    recall  f1-score   support\n",
            "\n",
            "           0       0.44      0.96      0.60        51\n",
            "           1       0.97      0.50      0.66       124\n",
            "\n",
            "    accuracy                           0.63       175\n",
            "   macro avg       0.71      0.73      0.63       175\n",
            "weighted avg       0.82      0.63      0.64       175\n",
            "\n"
          ],
          "name": "stdout"
        },
        {
          "output_type": "execute_result",
          "data": {
            "text/plain": [
              "<matplotlib.axes._subplots.AxesSubplot at 0x7fbf278bbb00>"
            ]
          },
          "metadata": {
            "tags": []
          },
          "execution_count": 436
        },
        {
          "output_type": "display_data",
          "data": {
            "image/png": "[encoded data removed]",
            "text/plain": [
              "<Figure size 432x288 with 2 Axes>"
            ]
          },
          "metadata": {
            "tags": []
          }
        }
      ]
    },
    {
      "cell_type": "code",
      "metadata": {
        "id": "X5OOdjxBewA_",
        "colab_type": "code",
        "colab": {
          "base_uri": "https://localhost:8080/",
          "height": 107
        },
        "outputId": "85026d26-a575-497a-9e49-de522b755cf0"
      },
      "source": [
        "###Model evaluation\n",
        "#We can now rank our evaluation of all the models to choose the best one for our problem. \n",
        "models = pd.DataFrame({\n",
        "    'Model': [ 'Logistic Regression', 'Gaussian Naive Bayes'],\n",
        "    'Score': [ logreg_score, gauss_score],\n",
        "    'Test Score': [ logreg_score_test, gauss_score_test]})\n",
        "models.sort_values(by='Test Score', ascending=False)"
      ],
      "execution_count": 437,
      "outputs": [
        {
          "output_type": "execute_result",
          "data": {
            "text/html": [
              "<div>\n",
              "<style scoped>\n",
              "    .dataframe tbody tr th:only-of-type {\n",
              "        vertical-align: middle;\n",
              "    }\n",
              "\n",
              "    .dataframe tbody tr th {\n",
              "        vertical-align: top;\n",
              "    }\n",
              "\n",
              "    .dataframe thead th {\n",
              "        text-align: right;\n",
              "    }\n",
              "</style>\n",
              "<table border=\"1\" class=\"dataframe\">\n",
              "  <thead>\n",
              "    <tr style=\"text-align: right;\">\n",
              "      <th></th>\n",
              "      <th>Model</th>\n",
              "      <th>Score</th>\n",
              "      <th>Test Score</th>\n",
              "    </tr>\n",
              "  </thead>\n",
              "  <tbody>\n",
              "    <tr>\n",
              "      <th>0</th>\n",
              "      <td>Logistic Regression</td>\n",
              "      <td>75.98</td>\n",
              "      <td>67.43</td>\n",
              "    </tr>\n",
              "    <tr>\n",
              "      <th>1</th>\n",
              "      <td>Gaussian Naive Bayes</td>\n",
              "      <td>62.01</td>\n",
              "      <td>63.43</td>\n",
              "    </tr>\n",
              "  </tbody>\n",
              "</table>\n",
              "</div>"
            ],
            "text/plain": [
              "                  Model  Score  Test Score\n",
              "0   Logistic Regression  75.98       67.43\n",
              "1  Gaussian Naive Bayes  62.01       63.43"
            ]
          },
          "metadata": {
            "tags": []
          },
          "execution_count": 437
        }
      ]
    }
  ]
}