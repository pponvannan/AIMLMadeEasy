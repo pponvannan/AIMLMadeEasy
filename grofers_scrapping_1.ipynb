{
  "nbformat": 4,
  "nbformat_minor": 0,
  "metadata": {
    "colab": {
      "name": "grofers scrapping_1.ipynb",
      "provenance": [],
      "collapsed_sections": [],
      "authorship_tag": "ABX9TyM7ZJaPcJa2hHgl/2zB8KMW",
      "include_colab_link": true
    },
    "kernelspec": {
      "name": "python3",
      "display_name": "Python 3"
    }
  },
  "cells": [
    {
      "cell_type": "markdown",
      "metadata": {
        "id": "view-in-github",
        "colab_type": "text"
      },
      "source": [
        "<a href=\"https://colab.research.google.com/github/pponvannan/AIMLMadeEasy/blob/master/grofers_scrapping_1.ipynb\" target=\"_parent\"><img src=\"https://colab.research.google.com/assets/colab-badge.svg\" alt=\"Open In Colab\"/></a>"
      ]
    },
    {
      "cell_type": "code",
      "metadata": {
        "id": "Y5kSCnGhPveG",
        "colab_type": "code",
        "colab": {}
      },
      "source": [
        "import requests\n",
        "from bs4 import BeautifulSoup\n",
        "import pandas as pd "
      ],
      "execution_count": 0,
      "outputs": []
    },
    {
      "cell_type": "code",
      "metadata": {
        "id": "4Bk3VcQKwic1",
        "colab_type": "code",
        "colab": {}
      },
      "source": [
        "def splitString(str): \n",
        "  \n",
        "    alpha = \"\" \n",
        "    num = \"\" \n",
        "    special = \"\" \n",
        "    qty=[]\n",
        "    for i in range(len(str)): \n",
        "        if (str[i].isdigit()): \n",
        "            num = num+ str[i] \n",
        "        elif((str[i] >= 'A' and str[i] <= 'Z') or\n",
        "             (str[i] >= 'a' and str[i] <= 'z')): \n",
        "            alpha += str[i] \n",
        "        else: \n",
        "            special += str[i]\n",
        "    return num,alpha"
      ],
      "execution_count": 0,
      "outputs": []
    },
    {
      "cell_type": "code",
      "metadata": {
        "id": "-TtBzKBJJ0Gg",
        "colab_type": "code",
        "colab": {}
      },
      "source": [
        "def splitUnitPrice(qty):\n",
        "    final_qty=''\n",
        "    final_Unit=''\n",
        "    combo=''\n",
        "    qty_unit=''\n",
        "    qtyarr= qty.split(' ')\n",
        "    if len(qtyarr)==2:\n",
        "        final_qty=qtyarr[0]\n",
        "        qty_unit=qtyarr[1]\n",
        "        qtyarrm=final_qty.split('x')\n",
        "        if len(qtyarrm)==2:\n",
        "            final_Unit=qtyarrm[0]\n",
        "            final_qty=qtyarrm[1]\n",
        "            combo='Y'\n",
        "        else:\n",
        "            final_Unit=1\n",
        "            final_qty=qtyarrm[0]\n",
        "            combo='N'\n",
        "    else:\n",
        "        final_qty=qty\n",
        "        final_Unit=1\n",
        "        combo='N'\n",
        "        qty_unit=''\n",
        "    return final_qty,final_Unit,combo,qty_unit"
      ],
      "execution_count": 0,
      "outputs": []
    },
    {
      "cell_type": "code",
      "metadata": {
        "id": "W_OLoVyUQGhD",
        "colab_type": "code",
        "colab": {}
      },
      "source": [
        "import re\n",
        "# grofers \n",
        "def get_data_grofers(ptype, pageNo):\n",
        "    headers = {\"User-Agent\":\"Mozilla/5.0 (Windows NT 10.0; Win64;     x64; rv:66.0) Gecko/20100101 Firefox/66.0\", \\\n",
        "               \"Accept-Encoding\":\"gzip, deflate\",     \"Accept\":\"text/html,application/xhtml+xml,application/xml;q=0.9,*/*;q=0.8\", \"DNT\":\"1\",\"Connection\":\"close\", \"Upgrade-Insecure-Requests\":\"1\"}\n",
        "    \n",
        "    #print(\"https://grofers.com/s/?q=\"+ptype)\n",
        "    r = requests.get(\"https://grofers.com/s/?q=\"+ptype, headers=headers)\n",
        "    \n",
        "    content = r.content\n",
        "    soup = BeautifulSoup(content)\n",
        "    #print(soup.prettify())\n",
        "    \n",
        "    #x=soup.find('div', attrs={'class':'plp-product'})\n",
        "    #print(x)\n",
        "    \n",
        "    p_product_df = pd.DataFrame(columns=['Category','ProductName','Qty','QtyUnit','MRP','ActualPrice'])\n",
        "    \n",
        "    for d in soup.findAll('div', attrs={'class':'plp-product'}):\n",
        "        name = d.find('div', attrs={'class':'plp-product__name--box'})\n",
        "        price = d.find('span', attrs={'class':'plp-product__price--new'})\n",
        "        mrp = d.find('div', attrs={'class':'plp-product__price--old display--inline-block@mobile'})\n",
        "        qty = d.find('div', attrs={'class':'plp-product__quantity'})\n",
        "    \n",
        "        #print(rating.text)   \n",
        "        if name is not None:\n",
        "            final_name = name.text\n",
        "            brand=final_name.split(' ')[0]\n",
        "        else:\n",
        "            final_name = \"unknown-product\"\n",
        "       \n",
        "        if price is not None:\n",
        "            final_price = price.text\n",
        "            final_price = final_price[1:]\n",
        "        else:\n",
        "            final_price = '0'\n",
        "        \n",
        "        if mrp is not None:\n",
        "            final_mrp = mrp.text\n",
        "            final_mrp = final_mrp[1:]\n",
        "        else:\n",
        "            final_mrp = final_price      \n",
        "\n",
        "        if qty is not None:\n",
        "          t_qty=qty.text\n",
        "          final_qty,final_Unit,combo,qty_unit=splitUnitPrice(t_qty)\n",
        "        unit_price = float(final_price)/int(final_Unit)\n",
        "        #print(ptype,final_name, final_price, final_qty)\n",
        "        #product_df.append({'Name': 'acer','Price':'1000$','Rating':'4 out of 5'}, ignore_index=True)\n",
        "        p_product_df = p_product_df.append({'Source':'Grofers','Category':ptype,'ProductName': final_name,'MRP':final_mrp,'ActualPrice':final_price,'Qty':final_qty,'QtyUnit':qty_unit,'Unit':final_Unit,'Combo':combo,'UnitPrice':unit_price}, ignore_index=True)\n",
        "        \n",
        "    return p_product_df"
      ],
      "execution_count": 0,
      "outputs": []
    },
    {
      "cell_type": "code",
      "metadata": {
        "id": "LvJLXrmHQQkK",
        "colab_type": "code",
        "outputId": "df35c8ad-e1e9-453a-9cea-8643aea1857f",
        "colab": {
          "base_uri": "https://localhost:8080/",
          "height": 204
        }
      },
      "source": [
        "data_df = pd.DataFrame(columns=['Source','Category','ProductName','MRP','ActualPrice','Qty','QtyUnit','Unit','Combo','UnitPrice'])\n",
        "no_pages = 1\n",
        "\n",
        "category_dict ={'grocery_staples':['Pulses', 'Atta & Other Flours','Rice & Other Grains','Dry Fruits & Nuts','Edible Oils','Ghee & Vanaspati','Spices','Salt & Sugar','Organic Staples']}\n",
        "category_dict.update({'personal_care':['Safety Must Haves', 'Bath & Body','Hair Care','Skin Care','Oral Care','Fragrances','Face Care','Feminine Hygiene','Men Grooming','Health And Wellness','Cosmetics']})\n",
        "category_dict.update({'household_items': ['Laundry Detergents', 'Dishwashers','Cleaners','Repellents','Cleaning Tools & Brushes','Pooja Needs','Home & Car Fresheners','Tissues & Disposables','Disinfectants']})\n",
        "category_dict.update({'home_kichen':['Cookware', 'Storage & Containers','Kitchen Tools & Accessories','Dining & Serving','Bags & Travel Accessories','Cleaning Equipment','Electrical Goods & Accessories','Stationery & Magazines','Gas Stoves']})\n",
        "category_dict.update({'biscuts_snacks':['Chocolates & Candies', 'Biscuits & Cookies','Namkeen & Snacks','Chips & Crisps','Sweets']})\n",
        "category_dict.update({'Beverages':['Cold Drinks', 'Juices & Drinks','Tea & Coffee','Health & Energy Drinks','Water & Soda','Milk Drinks']})\n",
        "category_dict.update({'breakfast_dairy':['Milk & Milk Products', 'Bread & Eggs','Paneer & Curd','Butter & Cheese','Breakfast Cereal & Mixes','Jams, Honey & Spreads']})\n",
        "category_dict.update({'baby_care':['Baby Food','Diapers and Wipes','Baby Skin','Hair Care','Baby Accessories']})\n",
        "category_dict.update({'pet_care':['Dog Supplies','Cat Supplies']})\n",
        "category_dict.update({'instant_food':['Noodles', 'Sauces','Vermicelli','Ketchups','Jams', 'Honey','Spreads','Pasta','Soups','Ready Made Meals','Pickles','Chutneys','Baking & Dessert Items']})\n",
        "\n",
        "for x,y in category_dict.items():\n",
        "  ptype_list=y\n",
        "  print(y)\n",
        "  for z in ptype_list:\n",
        "    for i in range(no_pages):\n",
        "        data_df = data_df.append(get_data_grofers(z,i),ignore_index=True)"
      ],
      "execution_count": 86,
      "outputs": [
        {
          "output_type": "stream",
          "text": [
            "['Pulses', 'Atta & Other Flours', 'Rice & Other Grains', 'Dry Fruits & Nuts', 'Edible Oils', 'Ghee & Vanaspati', 'Spices', 'Salt & Sugar', 'Organic Staples']\n",
            "['Safety Must Haves', 'Bath & Body', 'Hair Care', 'Skin Care', 'Oral Care', 'Fragrances', 'Face Care', 'Feminine Hygiene', 'Men Grooming', 'Health And Wellness', 'Cosmetics']\n",
            "['Laundry Detergents', 'Dishwashers', 'Cleaners', 'Repellents', 'Cleaning Tools & Brushes', 'Pooja Needs', 'Home & Car Fresheners', 'Tissues & Disposables', 'Disinfectants']\n",
            "['Cookware', 'Storage & Containers', 'Kitchen Tools & Accessories', 'Dining & Serving', 'Bags & Travel Accessories', 'Cleaning Equipment', 'Electrical Goods & Accessories', 'Stationery & Magazines', 'Gas Stoves']\n",
            "['Chocolates & Candies', 'Biscuits & Cookies', 'Namkeen & Snacks', 'Chips & Crisps', 'Sweets']\n",
            "['Cold Drinks', 'Juices & Drinks', 'Tea & Coffee', 'Health & Energy Drinks', 'Water & Soda', 'Milk Drinks']\n",
            "['Milk & Milk Products', 'Bread & Eggs', 'Paneer & Curd', 'Butter & Cheese', 'Breakfast Cereal & Mixes', 'Jams, Honey & Spreads']\n",
            "['Baby Food', 'Diapers and Wipes', 'Baby Skin', 'Hair Care', 'Baby Accessories']\n",
            "['Dog Supplies', 'Cat Supplies']\n",
            "['Noodles', 'Sauces', 'Vermicelli', 'Ketchups', 'Jams', 'Honey', 'Spreads', 'Pasta', 'Soups', 'Ready Made Meals', 'Pickles', 'Chutneys', 'Baking & Dessert Items']\n"
          ],
          "name": "stdout"
        }
      ]
    },
    {
      "cell_type": "code",
      "metadata": {
        "id": "CtK6VXQQQWSu",
        "colab_type": "code",
        "outputId": "95ceb544-7fb8-4428-e695-bdaf8d549df0",
        "colab": {
          "base_uri": "https://localhost:8080/",
          "height": 196
        }
      },
      "source": [
        "data_df.head()\n"
      ],
      "execution_count": 87,
      "outputs": [
        {
          "output_type": "execute_result",
          "data": {
            "text/html": [
              "<div>\n",
              "<style scoped>\n",
              "    .dataframe tbody tr th:only-of-type {\n",
              "        vertical-align: middle;\n",
              "    }\n",
              "\n",
              "    .dataframe tbody tr th {\n",
              "        vertical-align: top;\n",
              "    }\n",
              "\n",
              "    .dataframe thead th {\n",
              "        text-align: right;\n",
              "    }\n",
              "</style>\n",
              "<table border=\"1\" class=\"dataframe\">\n",
              "  <thead>\n",
              "    <tr style=\"text-align: right;\">\n",
              "      <th></th>\n",
              "      <th>Source</th>\n",
              "      <th>Category</th>\n",
              "      <th>ProductName</th>\n",
              "      <th>MRP</th>\n",
              "      <th>ActualPrice</th>\n",
              "      <th>Qty</th>\n",
              "      <th>QtyUnit</th>\n",
              "      <th>Unit</th>\n",
              "      <th>Combo</th>\n",
              "      <th>UnitPrice</th>\n",
              "    </tr>\n",
              "  </thead>\n",
              "  <tbody>\n",
              "    <tr>\n",
              "      <th>0</th>\n",
              "      <td>Grofers</td>\n",
              "      <td>Pulses</td>\n",
              "      <td>Grofers Mother's Choice Pulses Soyabeans</td>\n",
              "      <td>55</td>\n",
              "      <td>46</td>\n",
              "      <td>500</td>\n",
              "      <td>g</td>\n",
              "      <td>1</td>\n",
              "      <td>N</td>\n",
              "      <td>46.0</td>\n",
              "    </tr>\n",
              "    <tr>\n",
              "      <th>1</th>\n",
              "      <td>Grofers</td>\n",
              "      <td>Pulses</td>\n",
              "      <td>Family Farm Arhar Dal/Toor Dal</td>\n",
              "      <td>140</td>\n",
              "      <td>103</td>\n",
              "      <td>1</td>\n",
              "      <td>kg</td>\n",
              "      <td>1</td>\n",
              "      <td>N</td>\n",
              "      <td>103.0</td>\n",
              "    </tr>\n",
              "    <tr>\n",
              "      <th>2</th>\n",
              "      <td>Grofers</td>\n",
              "      <td>Pulses</td>\n",
              "      <td>Family Farm Kabuli Chana</td>\n",
              "      <td>120</td>\n",
              "      <td>86</td>\n",
              "      <td>1</td>\n",
              "      <td>kg</td>\n",
              "      <td>1</td>\n",
              "      <td>N</td>\n",
              "      <td>86.0</td>\n",
              "    </tr>\n",
              "    <tr>\n",
              "      <th>3</th>\n",
              "      <td>Grofers</td>\n",
              "      <td>Pulses</td>\n",
              "      <td>Family Farm Chana Dal</td>\n",
              "      <td>120</td>\n",
              "      <td>74</td>\n",
              "      <td>1</td>\n",
              "      <td>kg</td>\n",
              "      <td>1</td>\n",
              "      <td>N</td>\n",
              "      <td>74.0</td>\n",
              "    </tr>\n",
              "    <tr>\n",
              "      <th>4</th>\n",
              "      <td>Grofers</td>\n",
              "      <td>Pulses</td>\n",
              "      <td>Family Farm Kala Chana/Brown Chana</td>\n",
              "      <td>120</td>\n",
              "      <td>80</td>\n",
              "      <td>1</td>\n",
              "      <td>kg</td>\n",
              "      <td>1</td>\n",
              "      <td>N</td>\n",
              "      <td>80.0</td>\n",
              "    </tr>\n",
              "  </tbody>\n",
              "</table>\n",
              "</div>"
            ],
            "text/plain": [
              "    Source Category  ... Combo UnitPrice\n",
              "0  Grofers   Pulses  ...     N      46.0\n",
              "1  Grofers   Pulses  ...     N     103.0\n",
              "2  Grofers   Pulses  ...     N      86.0\n",
              "3  Grofers   Pulses  ...     N      74.0\n",
              "4  Grofers   Pulses  ...     N      80.0\n",
              "\n",
              "[5 rows x 10 columns]"
            ]
          },
          "metadata": {
            "tags": []
          },
          "execution_count": 87
        }
      ]
    },
    {
      "cell_type": "code",
      "metadata": {
        "id": "zXuhsvjUXD_f",
        "colab_type": "code",
        "colab": {}
      },
      "source": [
        "data_df.to_csv('grofer_products.csv')"
      ],
      "execution_count": 0,
      "outputs": []
    },
    {
      "cell_type": "code",
      "metadata": {
        "id": "amYx8-ImPjhM",
        "colab_type": "code",
        "colab": {
          "base_uri": "https://localhost:8080/",
          "height": 50
        },
        "outputId": "867136ab-21c4-4853-f9fc-10655217107f"
      },
      "source": [
        "print(data_df.shape)\n",
        "#data_df = data_df[~data_df['Qty'].isin(['+'])]\n",
        "data_df.drop(data_df[data_df['Qty'].str.split().str.len() > 2].index, inplace = True) \n",
        "print(data_df.shape)\n"
      ],
      "execution_count": 89,
      "outputs": [
        {
          "output_type": "stream",
          "text": [
            "(2155, 10)\n",
            "(2113, 10)\n"
          ],
          "name": "stdout"
        }
      ]
    },
    {
      "cell_type": "code",
      "metadata": {
        "id": "0RcS7uV3WwBq",
        "colab_type": "code",
        "colab": {}
      },
      "source": [
        "data_df.to_csv('grofer_products.csv')"
      ],
      "execution_count": 0,
      "outputs": []
    },
    {
      "cell_type": "code",
      "metadata": {
        "id": "vEecU5y_hNk-",
        "colab_type": "code",
        "colab": {}
      },
      "source": [
        "data_df.to_csv('grofer_products.csv')\n",
        "\n"
      ],
      "execution_count": 0,
      "outputs": []
    },
    {
      "cell_type": "code",
      "metadata": {
        "id": "eR4YoYb05s8J",
        "colab_type": "code",
        "colab": {}
      },
      "source": [
        "# # Validating Units\n",
        "# print(data_df['QtyUnit'].unique())\n",
        "# #Validating the Category\n",
        "# print(data_df['Category'].unique())\n"
      ],
      "execution_count": 0,
      "outputs": []
    },
    {
      "cell_type": "code",
      "metadata": {
        "id": "eLj2hl6O7ky-",
        "colab_type": "code",
        "colab": {}
      },
      "source": [
        "# def missing_values_tables(df):\n",
        "#   mis_val = df.isnull().sum()\n",
        "#   mis_val_percent = 100 * df.isnull().sum() / len(df)\n",
        "#   mis_val_table = pd.concat([mis_val, mis_val_percent], axis=1)\n",
        "#   mis_val_table_ren_columns = mis_val_table.rename(columns = {0 : 'Missing Values', 1 : '% of Total Values'})\n",
        "#   mis_val_table_ren_columns = mis_val_table_ren_columns[mis_val_table_ren_columns.iloc[:,1] != 0].sort_values('% of Total Values', ascending=False).round(1)\n",
        "#   print (\"Your selected dataframe has \" + str(df.shape[1]) + \" columns.\\n There are \" + str(mis_val_table_ren_columns.shape[0]) +  \" columns that have missing values.\")\n",
        "#   return mis_val_table_ren_columns\n"
      ],
      "execution_count": 0,
      "outputs": []
    },
    {
      "cell_type": "code",
      "metadata": {
        "id": "BNBotNpM7q4c",
        "colab_type": "code",
        "colab": {}
      },
      "source": [
        "# missing_values_tables(data_df)"
      ],
      "execution_count": 0,
      "outputs": []
    },
    {
      "cell_type": "code",
      "metadata": {
        "id": "XDlBsGV5AQlR",
        "colab_type": "code",
        "colab": {}
      },
      "source": [
        "# print('Before Dropping duplicate values')\n",
        "# print(len(data_df))\n",
        "# data_df.drop_duplicates(subset=[\"ProductName\",\"Qty\"])\n",
        "# print('After Dropping duplicate values')\n",
        "# print(len(data_df))"
      ],
      "execution_count": 0,
      "outputs": []
    },
    {
      "cell_type": "markdown",
      "metadata": {
        "id": "fp5t9WZsB7Zu",
        "colab_type": "text"
      },
      "source": [
        "There is no duplicate values by Product Name and Category."
      ]
    },
    {
      "cell_type": "code",
      "metadata": {
        "id": "omlcDIzG-PAl",
        "colab_type": "code",
        "colab": {}
      },
      "source": [
        "# data_df.duplicated(subset=[\"ProductName\", \"Qty\"])"
      ],
      "execution_count": 0,
      "outputs": []
    },
    {
      "cell_type": "code",
      "metadata": {
        "id": "Sq4jDgeLFBX1",
        "colab_type": "code",
        "colab": {}
      },
      "source": [
        ""
      ],
      "execution_count": 0,
      "outputs": []
    },
    {
      "cell_type": "code",
      "metadata": {
        "id": "Q-lbeTNGD_e_",
        "colab_type": "code",
        "colab": {}
      },
      "source": [
        "# data_df.to_csv('grofer_products.csv')"
      ],
      "execution_count": 0,
      "outputs": []
    }
  ]
}