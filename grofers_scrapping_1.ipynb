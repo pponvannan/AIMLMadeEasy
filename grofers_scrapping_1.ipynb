{
  "nbformat": 4,
  "nbformat_minor": 0,
  "metadata": {
    "colab": {
      "name": "grofers scrapping_1.ipynb",
      "provenance": [],
      "collapsed_sections": [],
      "authorship_tag": "ABX9TyOLGbNjIiYDYyny3bFtN0L1",
      "include_colab_link": true
    },
    "kernelspec": {
      "name": "python3",
      "display_name": "Python 3"
    }
  },
  "cells": [
    {
      "cell_type": "markdown",
      "metadata": {
        "id": "view-in-github",
        "colab_type": "text"
      },
      "source": [
        "<a href=\"https://colab.research.google.com/github/pponvannan/AIMLMadeEasy/blob/master/grofers_scrapping_1.ipynb\" target=\"_parent\"><img src=\"https://colab.research.google.com/assets/colab-badge.svg\" alt=\"Open In Colab\"/></a>"
      ]
    },
    {
      "cell_type": "code",
      "metadata": {
        "id": "Y5kSCnGhPveG",
        "colab_type": "code",
        "colab": {}
      },
      "source": [
        "import requests\n",
        "from bs4 import BeautifulSoup\n",
        "import pandas as pd "
      ],
      "execution_count": 0,
      "outputs": []
    },
    {
      "cell_type": "code",
      "metadata": {
        "id": "-TtBzKBJJ0Gg",
        "colab_type": "code",
        "colab": {}
      },
      "source": [
        "def split_unitprice(qty):\n",
        "    final_qty=''\n",
        "    final_Unit=''\n",
        "    combo=''\n",
        "    qty_unit=''\n",
        "    qtyarr= qty.split(' ')\n",
        "    if len(qtyarr)==2:\n",
        "        final_qty=qtyarr[0]\n",
        "        qty_unit=qtyarr[1]\n",
        "        qtyarrm=final_qty.split('x')\n",
        "        if len(qtyarrm)==2:\n",
        "            final_Unit=qtyarrm[0]\n",
        "            final_qty=qtyarrm[1]\n",
        "            combo='Y'\n",
        "        else:\n",
        "            final_Unit=1\n",
        "            final_qty=qtyarrm[0]\n",
        "            combo='N'\n",
        "    else:\n",
        "        final_qty=qty\n",
        "        final_Unit=1\n",
        "        combo='N'\n",
        "        qty_unit=''\n",
        "    return final_qty,final_Unit,combo,qty_unit"
      ],
      "execution_count": 0,
      "outputs": []
    },
    {
      "cell_type": "code",
      "metadata": {
        "id": "W_OLoVyUQGhD",
        "colab_type": "code",
        "colab": {}
      },
      "source": [
        "import re\n",
        "# grofers \n",
        "def get_data_grofers(category,ptype, pageNo):\n",
        "    headers = {\"User-Agent\":\"Mozilla/5.0 (Windows NT 10.0; Win64;     x64; rv:66.0) Gecko/20100101 Firefox/66.0\", \\\n",
        "               \"Accept-Encoding\":\"gzip, deflate\",     \"Accept\":\"text/html,application/xhtml+xml,application/xml;q=0.9,*/*;q=0.8\", \"DNT\":\"1\",\"Connection\":\"close\", \"Upgrade-Insecure-Requests\":\"1\"}\n",
        "    \n",
        "    #print(\"https://grofers.com/s/?q=\"+ptype)\n",
        "    r = requests.get(\"https://grofers.com/s/?q=\"+ptype, headers=headers)\n",
        "    \n",
        "    content = r.content\n",
        "    soup = BeautifulSoup(content)\n",
        "    #print(soup.prettify())\n",
        "    \n",
        "    #x=soup.find('div', attrs={'class':'plp-product'})\n",
        "    #print(x)\n",
        "    \n",
        "    p_product_df = pd.DataFrame(columns=['source','product_name','brand_name','mrp','selling_price','category','sub_category','is_combo','quandity','quandity_units','unit','price_per_unit'])\n",
        "    \n",
        "    for d in soup.findAll('div', attrs={'class':'plp-product'}):\n",
        "        name = d.find('div', attrs={'class':'plp-product__name--box'})\n",
        "        price = d.find('span', attrs={'class':'plp-product__price--new'})\n",
        "        mrp = d.find('div', attrs={'class':'plp-product__price--old display--inline-block@mobile'})\n",
        "        qty = d.find('div', attrs={'class':'plp-product__quantity'})\n",
        "    \n",
        "        #print(rating.text)   \n",
        "        if name is not None:\n",
        "            final_name = name.text\n",
        "            brand=final_name.split(' ')[0]\n",
        "        else:\n",
        "            final_name = \"unknown-product\"\n",
        "       \n",
        "        if price is not None:\n",
        "            final_price = price.text\n",
        "            final_price = final_price[1:]\n",
        "        else:\n",
        "            final_price = '0'\n",
        "        \n",
        "        if mrp is not None:\n",
        "            final_mrp = mrp.text\n",
        "            final_mrp = final_mrp[1:]\n",
        "        else:\n",
        "            final_mrp = final_price      \n",
        "\n",
        "        if qty is not None:\n",
        "          t_qty=qty.text\n",
        "          final_qty,final_Unit,combo,qty_unit=split_unitprice(t_qty)\n",
        "        unit_price = float(final_price)/int(final_Unit)\n",
        "        p_product_df = p_product_df.append({'source':'Grofers','product_name': final_name,'brand_name':brand,'mrp':final_mrp,'selling_price':final_price,'category':category,'sub_category':ptype,'is_combo':combo,'quandity':final_qty,'quandity_units':qty_unit,'unit':final_Unit,'price_per_unit':unit_price}, ignore_index=True)\n",
        "      #           #print(ptype,final_name, final_price, final_qty)\n",
        "      #   #product_df.append({'Name': 'acer','Price':'1000$','Rating':'4 out of 5'}, ignore_index=True)\n",
        "      #  # p_product_df = p_product_df.append({'source':'Grofers','Category':ptype,'ProductName': final_name,'MRP':final_mrp,'ActualPrice':final_price,'Qty':final_qty,'QtyUnit':qty_unit,'Unit':final_Unit,'Combo':combo,'UnitPrice':unit_price}, ignore_index=True)\n",
        "      #    p_product_df = p_product_df.append({'source':'Grofers','product_name': final_name,'brand_name':'brand name','mrp':final_mrp,'selling_price':final_price,'category':'category','sub_category':ptype,'is_combo':combo,'quandity':final_qty,'quandity_units':qty_unit,'unit':final_Unit,'price_per_unit':unit_price}, ignore_index=True)\n",
        "        \n",
        "    return p_product_df"
      ],
      "execution_count": 0,
      "outputs": []
    },
    {
      "cell_type": "code",
      "metadata": {
        "id": "LvJLXrmHQQkK",
        "colab_type": "code",
        "outputId": "930f7f07-5866-420e-ae11-3cb99491820c",
        "colab": {
          "base_uri": "https://localhost:8080/",
          "height": 187
        }
      },
      "source": [
        "data_df = pd.DataFrame(columns=['source','product_name','brand_name','mrp','selling_price','category','sub_category','is_combo','quandity','quandity_units','unit','price_per_unit'])\n",
        "no_pages = 1\n",
        "\n",
        "category_dict ={'grocery_staples':['Pulses', 'Atta & Other Flours','Rice & Other Grains','Dry Fruits & Nuts','Edible Oils','Ghee & Vanaspati','Spices','Salt & Sugar','Organic Staples']}\n",
        "category_dict.update({'personal_care':['Safety Must Haves', 'Bath & Body','Hair Care','Skin Care','Oral Care','Fragrances','Face Care','Feminine Hygiene','Health And Wellness','Cosmetics']})\n",
        "category_dict.update({'household_items': ['Laundry Detergents', 'Dishwashers','Cleaners','Repellents','Cleaning Tools & Brushes','Pooja Needs','Home & Car Fresheners','Tissues & Disposables','Disinfectants']})\n",
        "category_dict.update({'home_kichen':['Cookware', 'Storage & Containers','Kitchen Tools & Accessories','Dining & Serving','Cleaning Equipment','Electrical Goods & Accessories','Stationery & Magazines','Gas Stoves']})\n",
        "category_dict.update({'biscuts_snacks':['Chocolates & Candies', 'Biscuits & Cookies','Namkeen & Snacks','Chips & Crisps','Sweets']})\n",
        "category_dict.update({'Beverages':['Cold Drinks', 'Juices & Drinks','Tea & Coffee','Health & Energy Drinks','Water & Soda','Milk Drinks']})\n",
        "category_dict.update({'breakfast_dairy':['Milk & Milk Products', 'Bread & Eggs','Paneer & Curd','Butter & Cheese','Breakfast Cereal & Mixes','Jams, Honey & Spreads']})\n",
        "category_dict.update({'baby_care':['Baby Food','Diapers and Wipes','Baby Skin','Hair Care','Baby Accessories']})\n",
        "category_dict.update({'instant_food':['Noodles', 'Sauces','Vermicelli','Ketchups','Jams', 'Honey','Spreads','Pasta','Soups','Ready Made Meals','Pickles','Chutneys','Baking & Dessert Items']})\n",
        "\n",
        "for x,y in category_dict.items():\n",
        "  ptype_list=y\n",
        "  print(y)\n",
        "  for z in ptype_list:\n",
        "    for i in range(no_pages):\n",
        "        data_df = data_df.append(get_data_grofers(x,z,i),ignore_index=True)"
      ],
      "execution_count": 47,
      "outputs": [
        {
          "output_type": "stream",
          "text": [
            "['Pulses', 'Atta & Other Flours', 'Rice & Other Grains', 'Dry Fruits & Nuts', 'Edible Oils', 'Ghee & Vanaspati', 'Spices', 'Salt & Sugar', 'Organic Staples']\n",
            "['Safety Must Haves', 'Bath & Body', 'Hair Care', 'Skin Care', 'Oral Care', 'Fragrances', 'Face Care', 'Feminine Hygiene', 'Health And Wellness', 'Cosmetics']\n",
            "['Laundry Detergents', 'Dishwashers', 'Cleaners', 'Repellents', 'Cleaning Tools & Brushes', 'Pooja Needs', 'Home & Car Fresheners', 'Tissues & Disposables', 'Disinfectants']\n",
            "['Cookware', 'Storage & Containers', 'Kitchen Tools & Accessories', 'Dining & Serving', 'Cleaning Equipment', 'Electrical Goods & Accessories', 'Stationery & Magazines', 'Gas Stoves']\n",
            "['Chocolates & Candies', 'Biscuits & Cookies', 'Namkeen & Snacks', 'Chips & Crisps', 'Sweets']\n",
            "['Cold Drinks', 'Juices & Drinks', 'Tea & Coffee', 'Health & Energy Drinks', 'Water & Soda', 'Milk Drinks']\n",
            "['Milk & Milk Products', 'Bread & Eggs', 'Paneer & Curd', 'Butter & Cheese', 'Breakfast Cereal & Mixes', 'Jams, Honey & Spreads']\n",
            "['Baby Food', 'Diapers and Wipes', 'Baby Skin', 'Hair Care', 'Baby Accessories']\n",
            "['Noodles', 'Sauces', 'Vermicelli', 'Ketchups', 'Jams', 'Honey', 'Spreads', 'Pasta', 'Soups', 'Ready Made Meals', 'Pickles', 'Chutneys', 'Baking & Dessert Items']\n"
          ],
          "name": "stdout"
        }
      ]
    },
    {
      "cell_type": "code",
      "metadata": {
        "id": "zXuhsvjUXD_f",
        "colab_type": "code",
        "colab": {}
      },
      "source": [
        "#data_df.to_csv('grofer_products.csv')\n",
        "data_df = pd.read_csv(\"grofer_products.csv\")"
      ],
      "execution_count": 0,
      "outputs": []
    },
    {
      "cell_type": "code",
      "metadata": {
        "id": "amYx8-ImPjhM",
        "colab_type": "code",
        "outputId": "fe4a5b5f-a916-456a-f358-84e0507ebc8e",
        "colab": {
          "base_uri": "https://localhost:8080/",
          "height": 50
        }
      },
      "source": [
        "print(data_df.shape)\n",
        "#data_df = data_df[~data_df['Qty'].isin(['+'])]\n",
        "data_df.drop(data_df[data_df['quandity'].str.split().str.len() > 2].index, inplace = True) \n",
        "print(data_df.shape)\n"
      ],
      "execution_count": 83,
      "outputs": [
        {
          "output_type": "stream",
          "text": [
            "(2039, 13)\n",
            "(1984, 13)\n"
          ],
          "name": "stdout"
        }
      ]
    },
    {
      "cell_type": "code",
      "metadata": {
        "id": "Ko9nwXDyoOqr",
        "colab_type": "code",
        "colab": {}
      },
      "source": [
        "data_df[\"productname_qty\"] = data_df[\"product_name\"] + data_df[\"quandity\"]\n"
      ],
      "execution_count": 0,
      "outputs": []
    },
    {
      "cell_type": "code",
      "metadata": {
        "id": "qYD-jRhioKj0",
        "colab_type": "code",
        "colab": {}
      },
      "source": [
        "data_df[\"quandity\"] = pd.to_numeric(data_df[\"quandity\"],errors='coerce')"
      ],
      "execution_count": 0,
      "outputs": []
    },
    {
      "cell_type": "code",
      "metadata": {
        "id": "enoBKuVRdfm-",
        "colab_type": "code",
        "outputId": "784c4360-a6bf-48fe-e716-1e703fd0907e",
        "colab": {
          "base_uri": "https://localhost:8080/",
          "height": 33
        }
      },
      "source": [
        "print(data_df.shape)"
      ],
      "execution_count": 86,
      "outputs": [
        {
          "output_type": "stream",
          "text": [
            "(1984, 14)\n"
          ],
          "name": "stdout"
        }
      ]
    },
    {
      "cell_type": "code",
      "metadata": {
        "id": "eR4YoYb05s8J",
        "colab_type": "code",
        "outputId": "ce8fe1a3-e06d-45ac-8f19-3ebe23abaf39",
        "colab": {
          "base_uri": "https://localhost:8080/",
          "height": 67
        }
      },
      "source": [
        "# Validating Units\n",
        "print(data_df['quandity_units'].unique())\n",
        "#Validating the Category\n",
        "print(data_df['category'].unique())\n"
      ],
      "execution_count": 87,
      "outputs": [
        {
          "output_type": "stream",
          "text": [
            "['g' 'kg' nan 'gm' 'l' 'unit' 'm' 'ml' 'units' 'lt']\n",
            "['grocery_staples' 'personal_care' 'household_items' 'home_kichen'\n",
            " 'biscuts_snacks' 'Beverages' 'breakfast_dairy' 'baby_care' 'instant_food']\n"
          ],
          "name": "stdout"
        }
      ]
    },
    {
      "cell_type": "code",
      "metadata": {
        "id": "eLj2hl6O7ky-",
        "colab_type": "code",
        "colab": {}
      },
      "source": [
        "def missing_values_tables(df):\n",
        "  mis_val = df.isnull().sum()\n",
        "  mis_val_percent = 100 * df.isnull().sum() / len(df)\n",
        "  mis_val_table = pd.concat([mis_val, mis_val_percent], axis=1)\n",
        "  mis_val_table_ren_columns = mis_val_table.rename(columns = {0 : 'Missing Values', 1 : '% of Total Values'})\n",
        "  mis_val_table_ren_columns = mis_val_table_ren_columns[mis_val_table_ren_columns.iloc[:,1] != 0].sort_values('% of Total Values', ascending=False).round(1)\n",
        "  print (\"Your selected dataframe has \" + str(df.shape[1]) + \" columns.\\n There are \" + str(mis_val_table_ren_columns.shape[0]) +  \" columns that have missing values.\")\n",
        "  return mis_val_table_ren_columns\n"
      ],
      "execution_count": 0,
      "outputs": []
    },
    {
      "cell_type": "code",
      "metadata": {
        "id": "BNBotNpM7q4c",
        "colab_type": "code",
        "outputId": "67f95ab6-9bc0-49e6-ab8c-f905e6b3f8b9",
        "colab": {
          "base_uri": "https://localhost:8080/",
          "height": 140
        }
      },
      "source": [
        "missing_values_tables(data_df)"
      ],
      "execution_count": 89,
      "outputs": [
        {
          "output_type": "stream",
          "text": [
            "Your selected dataframe has 14 columns.\n",
            " There are 2 columns that have missing values.\n"
          ],
          "name": "stdout"
        },
        {
          "output_type": "execute_result",
          "data": {
            "text/html": [
              "<div>\n",
              "<style scoped>\n",
              "    .dataframe tbody tr th:only-of-type {\n",
              "        vertical-align: middle;\n",
              "    }\n",
              "\n",
              "    .dataframe tbody tr th {\n",
              "        vertical-align: top;\n",
              "    }\n",
              "\n",
              "    .dataframe thead th {\n",
              "        text-align: right;\n",
              "    }\n",
              "</style>\n",
              "<table border=\"1\" class=\"dataframe\">\n",
              "  <thead>\n",
              "    <tr style=\"text-align: right;\">\n",
              "      <th></th>\n",
              "      <th>Missing Values</th>\n",
              "      <th>% of Total Values</th>\n",
              "    </tr>\n",
              "  </thead>\n",
              "  <tbody>\n",
              "    <tr>\n",
              "      <th>quandity_units</th>\n",
              "      <td>37</td>\n",
              "      <td>1.9</td>\n",
              "    </tr>\n",
              "    <tr>\n",
              "      <th>quandity</th>\n",
              "      <td>34</td>\n",
              "      <td>1.7</td>\n",
              "    </tr>\n",
              "  </tbody>\n",
              "</table>\n",
              "</div>"
            ],
            "text/plain": [
              "                Missing Values  % of Total Values\n",
              "quandity_units              37                1.9\n",
              "quandity                    34                1.7"
            ]
          },
          "metadata": {
            "tags": []
          },
          "execution_count": 89
        }
      ]
    },
    {
      "cell_type": "code",
      "metadata": {
        "id": "5R5uzGZhd9tl",
        "colab_type": "code",
        "outputId": "f3100272-c5a4-48fa-c9ee-dc40b7c3dd04",
        "colab": {
          "base_uri": "https://localhost:8080/",
          "height": 50
        }
      },
      "source": [
        "print(len(data_df))\n",
        "data_df = data_df.dropna(how='any')\n",
        "print(len(data_df))"
      ],
      "execution_count": 90,
      "outputs": [
        {
          "output_type": "stream",
          "text": [
            "1984\n",
            "1946\n"
          ],
          "name": "stdout"
        }
      ]
    },
    {
      "cell_type": "code",
      "metadata": {
        "id": "XDlBsGV5AQlR",
        "colab_type": "code",
        "outputId": "9c3f8960-ed2b-4e5a-8801-fe20ee7ed3a8",
        "colab": {
          "base_uri": "https://localhost:8080/",
          "height": 84
        }
      },
      "source": [
        "# sorting by first name \n",
        "data_df.sort_values(\"productname_qty\", inplace = True) \n",
        "print('Before Dropping duplicate values')\n",
        "print(len(data_df))\n",
        "data_df.drop_duplicates(subset=[\"productname_qty\"],keep = False, inplace = True)\n",
        "print('After Dropping duplicate values')\n",
        "print(len(data_df))"
      ],
      "execution_count": 91,
      "outputs": [
        {
          "output_type": "stream",
          "text": [
            "Before Dropping duplicate values\n",
            "1946\n",
            "After Dropping duplicate values\n",
            "923\n"
          ],
          "name": "stdout"
        }
      ]
    },
    {
      "cell_type": "markdown",
      "metadata": {
        "id": "fp5t9WZsB7Zu",
        "colab_type": "text"
      },
      "source": [
        "There is no duplicate values by Product Name and Category."
      ]
    },
    {
      "cell_type": "code",
      "metadata": {
        "id": "omlcDIzG-PAl",
        "colab_type": "code",
        "colab": {}
      },
      "source": [
        "data_df.drop(\"productname_qty\", axis=1, inplace=True)"
      ],
      "execution_count": 0,
      "outputs": []
    },
    {
      "cell_type": "code",
      "metadata": {
        "id": "Q-lbeTNGD_e_",
        "colab_type": "code",
        "colab": {}
      },
      "source": [
        "data_df.to_csv('grofer_products_New.csv')"
      ],
      "execution_count": 0,
      "outputs": []
    }
  ]
}