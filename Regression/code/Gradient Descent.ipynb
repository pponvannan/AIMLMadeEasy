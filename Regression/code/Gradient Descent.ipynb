{
 "cells": [
  {
   "cell_type": "markdown",
   "metadata": {},
   "source": [
    "# Mini Project - Regression"
   ]
  },
  {
   "cell_type": "markdown",
   "metadata": {},
   "source": [
    "<b>Problem Statement </b> The company now wants to predict the cost they should set for a new variant of these kinds of bags based on the below attributes.\n",
    "<ul>\n",
    "    <li>Height – The height of the bag</li>\n",
    "    <li>Width – The width of the bag</li>\n",
    "    <li>Length – The length of the bag</li>\n",
    "    <li>Weight – The weight the bag can carry</li>\n",
    "    <li>Weight1 – Weight the bag can carry after expansion</li>\n",
    "</ul>\n",
    "As a result, they want you to build a prediction model which can correctly set the cost of the bag provided the attributes are given."
   ]
  },
  {
   "cell_type": "markdown",
   "metadata": {},
   "source": [
    "# Analyse the dataset and do EDA(Exploratory Data Analysis) "
   ]
  },
  {
   "cell_type": "markdown",
   "metadata": {},
   "source": [
    "Exploratory Data Analysis (EDA) in Python is the first step in data analysis process.In statistics, exploratory data analysis is an approach to analyzing data sets to summarize their main characteristics, often with visual methods.\n",
    "<ul>\n",
    "        <li>Description of data</li>\n",
    "        <li>Handling missing data</li>\n",
    "        <li>Handling outliers</li>\n",
    "    </ul>    \n",
    "EDA refers to exploring the dataset from various facets such as outliers, correlations, wrong data types, Null values etc."
   ]
  },
  {
   "cell_type": "code",
   "execution_count": 1,
   "metadata": {},
   "outputs": [],
   "source": [
    "#import the relevent libararies\n",
    "import pandas as pd\n",
    "import numpy as np\n",
    "import matplotlib.pyplot as plt\n",
    "import seaborn as sns\n",
    "import math\n",
    "import matplotlib.pyplot as plt\n",
    "from mpl_toolkits.mplot3d import Axes3D\n",
    "import pandas as pd\n",
    "from sklearn.metrics import mean_squared_error\n",
    "from sklearn.metrics import r2_score"
   ]
  },
  {
   "cell_type": "markdown",
   "metadata": {},
   "source": [
    "### Import the datasets"
   ]
  },
  {
   "cell_type": "code",
   "execution_count": 2,
   "metadata": {},
   "outputs": [],
   "source": [
    "#read the csv file and display the top 5\n",
    "data = pd.read_csv('Data_miniproject.csv')\n"
   ]
  },
  {
   "cell_type": "markdown",
   "metadata": {},
   "source": [
    "### The structure of the data"
   ]
  },
  {
   "cell_type": "code",
   "execution_count": 3,
   "metadata": {},
   "outputs": [
    {
     "name": "stdout",
     "output_type": "stream",
     "text": [
      "(159, 6)\n"
     ]
    }
   ],
   "source": [
    "#print dataset shape\n",
    "print(data.shape)"
   ]
  },
  {
   "cell_type": "code",
   "execution_count": 4,
   "metadata": {},
   "outputs": [
    {
     "name": "stdout",
     "output_type": "stream",
     "text": [
      "<class 'pandas.core.frame.DataFrame'>\n",
      "RangeIndex: 159 entries, 0 to 158\n",
      "Data columns (total 6 columns):\n",
      "Cost       159 non-null float64\n",
      "Weight     159 non-null float64\n",
      "Weight1    159 non-null float64\n",
      "Length     159 non-null float64\n",
      "Height     159 non-null float64\n",
      "Width      159 non-null float64\n",
      "dtypes: float64(6)\n",
      "memory usage: 7.5 KB\n"
     ]
    }
   ],
   "source": [
    "#print dataset info\n",
    "data.info()"
   ]
  },
  {
   "cell_type": "code",
   "execution_count": 5,
   "metadata": {},
   "outputs": [
    {
     "data": {
      "text/html": [
       "<div>\n",
       "<style scoped>\n",
       "    .dataframe tbody tr th:only-of-type {\n",
       "        vertical-align: middle;\n",
       "    }\n",
       "\n",
       "    .dataframe tbody tr th {\n",
       "        vertical-align: top;\n",
       "    }\n",
       "\n",
       "    .dataframe thead th {\n",
       "        text-align: right;\n",
       "    }\n",
       "</style>\n",
       "<table border=\"1\" class=\"dataframe\">\n",
       "  <thead>\n",
       "    <tr style=\"text-align: right;\">\n",
       "      <th></th>\n",
       "      <th>Cost</th>\n",
       "      <th>Weight</th>\n",
       "      <th>Weight1</th>\n",
       "      <th>Length</th>\n",
       "      <th>Height</th>\n",
       "      <th>Width</th>\n",
       "    </tr>\n",
       "  </thead>\n",
       "  <tbody>\n",
       "    <tr>\n",
       "      <th>count</th>\n",
       "      <td>159.000000</td>\n",
       "      <td>159.000000</td>\n",
       "      <td>159.000000</td>\n",
       "      <td>159.000000</td>\n",
       "      <td>159.000000</td>\n",
       "      <td>159.000000</td>\n",
       "    </tr>\n",
       "    <tr>\n",
       "      <th>mean</th>\n",
       "      <td>398.326415</td>\n",
       "      <td>26.247170</td>\n",
       "      <td>28.415723</td>\n",
       "      <td>31.227044</td>\n",
       "      <td>8.970994</td>\n",
       "      <td>4.417486</td>\n",
       "    </tr>\n",
       "    <tr>\n",
       "      <th>std</th>\n",
       "      <td>357.978317</td>\n",
       "      <td>9.996441</td>\n",
       "      <td>10.716328</td>\n",
       "      <td>11.610246</td>\n",
       "      <td>4.286208</td>\n",
       "      <td>1.685804</td>\n",
       "    </tr>\n",
       "    <tr>\n",
       "      <th>min</th>\n",
       "      <td>0.000000</td>\n",
       "      <td>7.500000</td>\n",
       "      <td>8.400000</td>\n",
       "      <td>8.800000</td>\n",
       "      <td>1.728400</td>\n",
       "      <td>1.047600</td>\n",
       "    </tr>\n",
       "    <tr>\n",
       "      <th>25%</th>\n",
       "      <td>120.000000</td>\n",
       "      <td>19.050000</td>\n",
       "      <td>21.000000</td>\n",
       "      <td>23.150000</td>\n",
       "      <td>5.944800</td>\n",
       "      <td>3.385650</td>\n",
       "    </tr>\n",
       "    <tr>\n",
       "      <th>50%</th>\n",
       "      <td>273.000000</td>\n",
       "      <td>25.200000</td>\n",
       "      <td>27.300000</td>\n",
       "      <td>29.400000</td>\n",
       "      <td>7.786000</td>\n",
       "      <td>4.248500</td>\n",
       "    </tr>\n",
       "    <tr>\n",
       "      <th>75%</th>\n",
       "      <td>650.000000</td>\n",
       "      <td>32.700000</td>\n",
       "      <td>35.500000</td>\n",
       "      <td>39.650000</td>\n",
       "      <td>12.365900</td>\n",
       "      <td>5.584500</td>\n",
       "    </tr>\n",
       "    <tr>\n",
       "      <th>90%</th>\n",
       "      <td>930.000000</td>\n",
       "      <td>38.200000</td>\n",
       "      <td>41.200000</td>\n",
       "      <td>45.340000</td>\n",
       "      <td>15.190400</td>\n",
       "      <td>6.742100</td>\n",
       "    </tr>\n",
       "    <tr>\n",
       "      <th>95%</th>\n",
       "      <td>1000.000000</td>\n",
       "      <td>41.190000</td>\n",
       "      <td>44.100000</td>\n",
       "      <td>46.740000</td>\n",
       "      <td>16.377320</td>\n",
       "      <td>7.284620</td>\n",
       "    </tr>\n",
       "    <tr>\n",
       "      <th>99%</th>\n",
       "      <td>1571.000000</td>\n",
       "      <td>56.000000</td>\n",
       "      <td>60.000000</td>\n",
       "      <td>64.000000</td>\n",
       "      <td>18.685296</td>\n",
       "      <td>7.679758</td>\n",
       "    </tr>\n",
       "    <tr>\n",
       "      <th>max</th>\n",
       "      <td>1650.000000</td>\n",
       "      <td>59.000000</td>\n",
       "      <td>63.400000</td>\n",
       "      <td>68.000000</td>\n",
       "      <td>18.957000</td>\n",
       "      <td>8.142000</td>\n",
       "    </tr>\n",
       "  </tbody>\n",
       "</table>\n",
       "</div>"
      ],
      "text/plain": [
       "              Cost      Weight     Weight1      Length      Height       Width\n",
       "count   159.000000  159.000000  159.000000  159.000000  159.000000  159.000000\n",
       "mean    398.326415   26.247170   28.415723   31.227044    8.970994    4.417486\n",
       "std     357.978317    9.996441   10.716328   11.610246    4.286208    1.685804\n",
       "min       0.000000    7.500000    8.400000    8.800000    1.728400    1.047600\n",
       "25%     120.000000   19.050000   21.000000   23.150000    5.944800    3.385650\n",
       "50%     273.000000   25.200000   27.300000   29.400000    7.786000    4.248500\n",
       "75%     650.000000   32.700000   35.500000   39.650000   12.365900    5.584500\n",
       "90%     930.000000   38.200000   41.200000   45.340000   15.190400    6.742100\n",
       "95%    1000.000000   41.190000   44.100000   46.740000   16.377320    7.284620\n",
       "99%    1571.000000   56.000000   60.000000   64.000000   18.685296    7.679758\n",
       "max    1650.000000   59.000000   63.400000   68.000000   18.957000    8.142000"
      ]
     },
     "execution_count": 5,
     "metadata": {},
     "output_type": "execute_result"
    }
   ],
   "source": [
    "data.describe(percentiles=[.25,.5,.75,.90,.95,.99])"
   ]
  },
  {
   "cell_type": "markdown",
   "metadata": {},
   "source": []
  },
  {
   "cell_type": "markdown",
   "metadata": {},
   "source": [
    "### Get First (and Last) rows"
   ]
  },
  {
   "cell_type": "code",
   "execution_count": 6,
   "metadata": {},
   "outputs": [
    {
     "name": "stdout",
     "output_type": "stream",
     "text": [
      "First 5 rows\n",
      "    Cost  Weight  Weight1  Length   Height   Width\n",
      "0  242.0    23.2     25.4    30.0  11.5200  4.0200\n",
      "1  290.0    24.0     26.3    31.2  12.4800  4.3056\n",
      "2  340.0    23.9     26.5    31.1  12.3778  4.6961\n",
      "3  363.0    26.3     29.0    33.5  12.7300  4.4555\n",
      "4  430.0    26.5     29.0    34.0  12.4440  5.1340\n",
      "Last 5 rows\n",
      "     Cost  Weight  Weight1  Length  Height   Width\n",
      "154  12.2    11.5     12.2    13.4  2.0904  1.3936\n",
      "155  13.4    11.7     12.4    13.5  2.4300  1.2690\n",
      "156  12.2    12.1     13.0    13.8  2.2770  1.2558\n",
      "157  19.7    13.2     14.3    15.2  2.8728  2.0672\n",
      "158  19.9    13.8     15.0    16.2  2.9322  1.8792\n"
     ]
    }
   ],
   "source": [
    "print(\"First 5 rows\")\n",
    "print(data.head())\n",
    "print(\"Last 5 rows\")\n",
    "print(data.tail())"
   ]
  },
  {
   "cell_type": "markdown",
   "metadata": {},
   "source": [
    "### Validating Null"
   ]
  },
  {
   "cell_type": "code",
   "execution_count": 7,
   "metadata": {},
   "outputs": [
    {
     "data": {
      "text/plain": [
       "Cost       0\n",
       "Weight     0\n",
       "Weight1    0\n",
       "Length     0\n",
       "Height     0\n",
       "Width      0\n",
       "dtype: int64"
      ]
     },
     "execution_count": 7,
     "metadata": {},
     "output_type": "execute_result"
    }
   ],
   "source": [
    "#Validating Null\n",
    "data.isnull().sum()"
   ]
  },
  {
   "cell_type": "markdown",
   "metadata": {},
   "source": [
    "There is no null values in the given data set so no need for dropping the rows or columns or assgining the mean  values"
   ]
  },
  {
   "cell_type": "markdown",
   "metadata": {},
   "source": [
    "### Validating Zero"
   ]
  },
  {
   "cell_type": "markdown",
   "metadata": {},
   "source": [
    "Validating the Zero using the plot you can see the zero values"
   ]
  },
  {
   "cell_type": "code",
   "execution_count": 8,
   "metadata": {},
   "outputs": [
    {
     "name": "stdout",
     "output_type": "stream",
     "text": [
      "Printing the Zero Values\n",
      "    Cost  Weight  Weight1  Length  Height   Width\n",
      "40   0.0    19.0     20.5    22.8  6.4752  3.3516\n",
      "Empty DataFrame\n",
      "Columns: [Cost, Weight, Weight1, Length, Height, Width]\n",
      "Index: []\n",
      "Empty DataFrame\n",
      "Columns: [Cost, Weight, Weight1, Length, Height, Width]\n",
      "Index: []\n",
      "Empty DataFrame\n",
      "Columns: [Cost, Weight, Weight1, Length, Height, Width]\n",
      "Index: []\n",
      "Empty DataFrame\n",
      "Columns: [Cost, Weight, Weight1, Length, Height, Width]\n",
      "Index: []\n"
     ]
    }
   ],
   "source": [
    "print(\"Printing the Zero Values\")\n",
    "print(data[data[\"Cost\"]==0])\n",
    "print(data[data[\"Weight\"]==0])\n",
    "print(data[data[\"Weight1\"]==0])\n",
    "print(data[data[\"Height\"]==0])\n",
    "print(data[data[\"Width\"]==0])"
   ]
  },
  {
   "cell_type": "markdown",
   "metadata": {},
   "source": [
    "<b> From the above we can see one cost value is zero we have to replace this with mean</b>"
   ]
  },
  {
   "cell_type": "code",
   "execution_count": 9,
   "metadata": {},
   "outputs": [
    {
     "data": {
      "text/plain": [
       "<matplotlib.axes._subplots.AxesSubplot at 0x278c1dad748>"
      ]
     },
     "execution_count": 9,
     "metadata": {},
     "output_type": "execute_result"
    },
    {
     "data": {
      "text/plain": [
       "<Figure size 432x288 with 0 Axes>"
      ]
     },
     "metadata": {},
     "output_type": "display_data"
    },
    {
     "data": {
      "image/png": "[encoded data removed]",
      "text/plain": [
       "<Figure size 1440x720 with 6 Axes>"
      ]
     },
     "metadata": {
      "needs_background": "light"
     },
     "output_type": "display_data"
    }
   ],
   "source": [
    "plt.figure(1) \n",
    "plt.figure(figsize=(20,10))\n",
    "plt.subplot(331)\n",
    "sns.distplot(data['Cost'])\n",
    "plt.subplot(332)\n",
    "sns.distplot(data['Weight'])\n",
    "plt.subplot(333)\n",
    "sns.distplot(data['Weight1'])\n",
    "plt.subplot(334)\n",
    "sns.distplot(data['Length'])\n",
    "plt.subplot(335)\n",
    "sns.distplot(data['Height'])\n",
    "plt.subplot(336)\n",
    "sns.distplot(data['Width'])"
   ]
  },
  {
   "cell_type": "markdown",
   "metadata": {},
   "source": [
    "<b>Replacing Zero values to the Mean values </b>"
   ]
  },
  {
   "cell_type": "code",
   "execution_count": 10,
   "metadata": {},
   "outputs": [],
   "source": [
    "### 1.3 Validating Zero and assgining to Mean\n",
    "data[data[\"Cost\"]==0]=data[\"Cost\"].mean()\n",
    "data[data[\"Weight\"]==0]=data[\"Weight\"].mean()\n",
    "data[data[\"Weight1\"]==0]=data[\"Weight1\"].mean()\n",
    "data[data[\"Length\"]==0]=data[\"Length\"].mean()\n",
    "data[data[\"Height\"]==0]=data[\"Height\"].mean()\n",
    "data[data[\"Width\"]==0]=data[\"Width\"].mean()"
   ]
  },
  {
   "cell_type": "markdown",
   "metadata": {},
   "source": [
    "###  Handling Outliers"
   ]
  },
  {
   "cell_type": "markdown",
   "metadata": {},
   "source": [
    "<b>BoxPlot:</b>\n",
    "A box plot is a method for graphically depicting groups of numerical data through their quartiles."
   ]
  },
  {
   "cell_type": "markdown",
   "metadata": {},
   "source": [
    "### Univariate method\n",
    "One of the simplest methods for detecting outliers is the use of box plots. A box plot is a graphical display for describing the distributions of the data. Box plots use the median and the lower and upper quartiles."
   ]
  },
  {
   "cell_type": "code",
   "execution_count": 11,
   "metadata": {},
   "outputs": [
    {
     "data": {
      "text/plain": [
       "<matplotlib.axes._subplots.AxesSubplot at 0x278c23b5548>"
      ]
     },
     "execution_count": 11,
     "metadata": {},
     "output_type": "execute_result"
    },
    {
     "data": {
      "image/png": "[encoded data removed]",
      "text/plain": [
       "<Figure size 432x288 with 1 Axes>"
      ]
     },
     "metadata": {
      "needs_background": "light"
     },
     "output_type": "display_data"
    }
   ],
   "source": [
    "sns.boxplot(data['Cost'])"
   ]
  },
  {
   "cell_type": "code",
   "execution_count": 12,
   "metadata": {},
   "outputs": [
    {
     "name": "stdout",
     "output_type": "stream",
     "text": [
      "Heighter Values\n",
      "       Cost  Weight  Weight1  Length  Height  Width\n",
      "142  1600.0    56.0     60.0    64.0   9.600  6.144\n",
      "143  1550.0    56.0     60.0    64.0   9.600  6.144\n",
      "144  1650.0    59.0     63.4    68.0  10.812  7.480\n",
      "Empty DataFrame\n",
      "Columns: [Cost, Weight, Weight1, Length, Height, Width]\n",
      "Index: []\n"
     ]
    },
    {
     "data": {
      "text/plain": [
       "<matplotlib.axes._subplots.AxesSubplot at 0x278c1f14808>"
      ]
     },
     "execution_count": 12,
     "metadata": {},
     "output_type": "execute_result"
    },
    {
     "data": {
      "image/png": "[encoded data removed]",
      "text/plain": [
       "<Figure size 432x288 with 1 Axes>"
      ]
     },
     "metadata": {
      "needs_background": "light"
     },
     "output_type": "display_data"
    }
   ],
   "source": [
    "# Total 3 values are in the outlayores of the cost we have to replace with the maximum value.\n",
    "Q1 = data[\"Cost\"].quantile(0.25)\n",
    "Q3 = data[\"Cost\"].quantile(0.75)\n",
    "IQR = Q3 - Q1\n",
    "print(\"Heighter Values\")\n",
    "print(data[data[\"Cost\"] > (Q3 + 1.5 * IQR)])\n",
    "data[\"Cost\"][data[\"Cost\"] > (Q3 + 1.5 * IQR)] = (Q3+1.5*IQR)\n",
    "print(data[data[\"Cost\"] > (Q3 + 1.5 * IQR)])\n",
    "sns.boxplot(data['Cost'])\n"
   ]
  },
  {
   "cell_type": "code",
   "execution_count": 13,
   "metadata": {},
   "outputs": [
    {
     "data": {
      "text/plain": [
       "<matplotlib.axes._subplots.AxesSubplot at 0x278c1f6f588>"
      ]
     },
     "execution_count": 13,
     "metadata": {},
     "output_type": "execute_result"
    },
    {
     "data": {
      "image/png": "[encoded data removed]",
      "text/plain": [
       "<Figure size 432x288 with 1 Axes>"
      ]
     },
     "metadata": {
      "needs_background": "light"
     },
     "output_type": "display_data"
    }
   ],
   "source": [
    "sns.boxplot(data['Weight'])"
   ]
  },
  {
   "cell_type": "code",
   "execution_count": 14,
   "metadata": {},
   "outputs": [
    {
     "name": "stdout",
     "output_type": "stream",
     "text": [
      "Heighter Values\n",
      "            Cost      Weight     Weight1      Length      Height       Width\n",
      "40    398.326415  398.326415  398.326415  398.326415  398.326415  398.326415\n",
      "142  1441.250000   56.000000   60.000000   64.000000    9.600000    6.144000\n",
      "143  1441.250000   56.000000   60.000000   64.000000    9.600000    6.144000\n",
      "144  1441.250000   59.000000   63.400000   68.000000   10.812000    7.480000\n",
      "Empty DataFrame\n",
      "Columns: [Cost, Weight, Weight1, Length, Height, Width]\n",
      "Index: []\n"
     ]
    },
    {
     "data": {
      "text/plain": [
       "<matplotlib.axes._subplots.AxesSubplot at 0x278c1fe7d08>"
      ]
     },
     "execution_count": 14,
     "metadata": {},
     "output_type": "execute_result"
    },
    {
     "data": {
      "image/png": "[encoded data removed]",
      "text/plain": [
       "<Figure size 432x288 with 1 Axes>"
      ]
     },
     "metadata": {
      "needs_background": "light"
     },
     "output_type": "display_data"
    }
   ],
   "source": [
    "# Total 4 values are in the outlayores we have to replace with the maximum value.\n",
    "Q1 = data[\"Weight\"].quantile(0.25)\n",
    "Q3 = data[\"Weight\"].quantile(0.75)\n",
    "IQR = Q3 - Q1\n",
    "print(\"Heighter Values\")\n",
    "print(data[data[\"Weight\"] > (Q3 + 1.5 * IQR)])\n",
    "data[\"Weight\"][data[\"Weight\"] > (Q3 + 1.5 * IQR)] = (Q3+1.5*IQR)\n",
    "print(data[data[\"Weight\"] > (Q3 + 1.5 * IQR)])\n",
    "sns.boxplot(data['Weight'])"
   ]
  },
  {
   "cell_type": "code",
   "execution_count": 15,
   "metadata": {},
   "outputs": [
    {
     "data": {
      "text/plain": [
       "<matplotlib.axes._subplots.AxesSubplot at 0x278c2033688>"
      ]
     },
     "execution_count": 15,
     "metadata": {},
     "output_type": "execute_result"
    },
    {
     "data": {
      "image/png": "[encoded data removed]",
      "text/plain": [
       "<Figure size 432x288 with 1 Axes>"
      ]
     },
     "metadata": {
      "needs_background": "light"
     },
     "output_type": "display_data"
    }
   ],
   "source": [
    "sns.boxplot(data['Weight1'])"
   ]
  },
  {
   "cell_type": "code",
   "execution_count": 16,
   "metadata": {},
   "outputs": [
    {
     "name": "stdout",
     "output_type": "stream",
     "text": [
      "Heighter Values\n",
      "            Cost  Weight     Weight1      Length      Height       Width\n",
      "40    398.326415  53.075  398.326415  398.326415  398.326415  398.326415\n",
      "142  1441.250000  53.075   60.000000   64.000000    9.600000    6.144000\n",
      "143  1441.250000  53.075   60.000000   64.000000    9.600000    6.144000\n",
      "144  1441.250000  53.075   63.400000   68.000000   10.812000    7.480000\n",
      "Empty DataFrame\n",
      "Columns: [Cost, Weight, Weight1, Length, Height, Width]\n",
      "Index: []\n"
     ]
    },
    {
     "data": {
      "text/plain": [
       "<matplotlib.axes._subplots.AxesSubplot at 0x278c20af908>"
      ]
     },
     "execution_count": 16,
     "metadata": {},
     "output_type": "execute_result"
    },
    {
     "data": {
      "image/png": "[encoded data removed]",
      "text/plain": [
       "<Figure size 432x288 with 1 Axes>"
      ]
     },
     "metadata": {
      "needs_background": "light"
     },
     "output_type": "display_data"
    }
   ],
   "source": [
    "# Total 4 values are in the outlayores we have to replace with the maximum value.\n",
    "Q1 = data[\"Weight1\"].quantile(0.25)\n",
    "Q3 = data[\"Weight1\"].quantile(0.75)\n",
    "IQR = Q3 - Q1\n",
    "print(\"Heighter Values\")\n",
    "print(data[data[\"Weight1\"] > (Q3 + 1.5 * IQR)])\n",
    "data[\"Weight1\"][data[\"Weight1\"] > (Q3 + 1.5 * IQR)] = (Q3+1.5*IQR)\n",
    "print(data[data[\"Weight1\"] > (Q3 + 1.5 * IQR)])\n",
    "sns.boxplot(data['Weight1'])"
   ]
  },
  {
   "cell_type": "code",
   "execution_count": 17,
   "metadata": {},
   "outputs": [
    {
     "data": {
      "text/plain": [
       "<matplotlib.axes._subplots.AxesSubplot at 0x278c210af48>"
      ]
     },
     "execution_count": 17,
     "metadata": {},
     "output_type": "execute_result"
    },
    {
     "data": {
      "image/png": "[encoded data removed]",
      "text/plain": [
       "<Figure size 432x288 with 1 Axes>"
      ]
     },
     "metadata": {
      "needs_background": "light"
     },
     "output_type": "display_data"
    }
   ],
   "source": [
    "sns.boxplot(data['Length'])"
   ]
  },
  {
   "cell_type": "code",
   "execution_count": 18,
   "metadata": {},
   "outputs": [
    {
     "name": "stdout",
     "output_type": "stream",
     "text": [
      "Heighter Values\n",
      "            Cost  Weight  Weight1      Length      Height       Width\n",
      "40    398.326415  53.075     58.5  398.326415  398.326415  398.326415\n",
      "144  1441.250000  53.075     58.5   68.000000   10.812000    7.480000\n",
      "Empty DataFrame\n",
      "Columns: [Cost, Weight, Weight1, Length, Height, Width]\n",
      "Index: []\n"
     ]
    },
    {
     "data": {
      "text/plain": [
       "<matplotlib.axes._subplots.AxesSubplot at 0x278c218e908>"
      ]
     },
     "execution_count": 18,
     "metadata": {},
     "output_type": "execute_result"
    },
    {
     "data": {
      "image/png": "[encoded data removed]",
      "text/plain": [
       "<Figure size 432x288 with 1 Axes>"
      ]
     },
     "metadata": {
      "needs_background": "light"
     },
     "output_type": "display_data"
    }
   ],
   "source": [
    "# Total 2 values are in the outlayores we have to replace with the maximum value.\n",
    "Q1 = data[\"Length\"].quantile(0.25)\n",
    "Q3 = data[\"Length\"].quantile(0.75)\n",
    "IQR = Q3 - Q1\n",
    "print(\"Heighter Values\")\n",
    "print(data[data[\"Length\"] > (Q3 + 1.5 * IQR)])\n",
    "data[\"Length\"][data[\"Length\"] > (Q3 + 1.5 * IQR)] = (Q3+1.5*IQR)\n",
    "print(data[data[\"Length\"] > (Q3 + 1.5 * IQR)])\n",
    "sns.boxplot(data['Length'])"
   ]
  },
  {
   "cell_type": "code",
   "execution_count": 19,
   "metadata": {},
   "outputs": [
    {
     "data": {
      "text/plain": [
       "<matplotlib.axes._subplots.AxesSubplot at 0x278c21e6588>"
      ]
     },
     "execution_count": 19,
     "metadata": {},
     "output_type": "execute_result"
    },
    {
     "data": {
      "image/png": "[encoded data removed]",
      "text/plain": [
       "<Figure size 432x288 with 1 Axes>"
      ]
     },
     "metadata": {
      "needs_background": "light"
     },
     "output_type": "display_data"
    }
   ],
   "source": [
    "sns.boxplot(data['Height'])"
   ]
  },
  {
   "cell_type": "code",
   "execution_count": 20,
   "metadata": {},
   "outputs": [
    {
     "name": "stdout",
     "output_type": "stream",
     "text": [
      "Heighter Values\n",
      "          Cost  Weight  Weight1  Length      Height       Width\n",
      "40  398.326415  53.075     58.5  64.575  398.326415  398.326415\n",
      "Empty DataFrame\n",
      "Columns: [Cost, Weight, Weight1, Length, Height, Width]\n",
      "Index: []\n"
     ]
    },
    {
     "data": {
      "text/plain": [
       "<matplotlib.axes._subplots.AxesSubplot at 0x278c2263ac8>"
      ]
     },
     "execution_count": 20,
     "metadata": {},
     "output_type": "execute_result"
    },
    {
     "data": {
      "image/png": "[encoded data removed]",
      "text/plain": [
       "<Figure size 432x288 with 1 Axes>"
      ]
     },
     "metadata": {
      "needs_background": "light"
     },
     "output_type": "display_data"
    }
   ],
   "source": [
    "# Total 1 value are in the outlayores we have to replace with the maximum value.\n",
    "Q1 = data[\"Height\"].quantile(0.25)\n",
    "Q3 = data[\"Height\"].quantile(0.75)\n",
    "IQR = Q3 - Q1\n",
    "print(\"Heighter Values\")\n",
    "print(data[data[\"Height\"] > (Q3 + 1.5 * IQR)])\n",
    "data[\"Height\"][data[\"Height\"] > (Q3 + 1.5 * IQR)] = (Q3+1.5*IQR)\n",
    "print(data[data[\"Height\"] > (Q3 + 1.5 * IQR)])\n",
    "sns.boxplot(data['Height'])"
   ]
  },
  {
   "cell_type": "code",
   "execution_count": 21,
   "metadata": {},
   "outputs": [
    {
     "data": {
      "text/plain": [
       "<matplotlib.axes._subplots.AxesSubplot at 0x278c25b5c48>"
      ]
     },
     "execution_count": 21,
     "metadata": {},
     "output_type": "execute_result"
    },
    {
     "data": {
      "image/png": "[encoded data removed]",
      "text/plain": [
       "<Figure size 432x288 with 1 Axes>"
      ]
     },
     "metadata": {
      "needs_background": "light"
     },
     "output_type": "display_data"
    }
   ],
   "source": [
    "sns.boxplot(data['Width'])"
   ]
  },
  {
   "cell_type": "code",
   "execution_count": 22,
   "metadata": {},
   "outputs": [
    {
     "name": "stdout",
     "output_type": "stream",
     "text": [
      "Heighter Values\n",
      "          Cost  Weight  Weight1  Length    Height       Width\n",
      "40  398.326415  53.075     58.5  64.575  22.03105  398.326415\n",
      "Empty DataFrame\n",
      "Columns: [Cost, Weight, Weight1, Length, Height, Width]\n",
      "Index: []\n"
     ]
    },
    {
     "data": {
      "text/plain": [
       "<matplotlib.axes._subplots.AxesSubplot at 0x278c2633208>"
      ]
     },
     "execution_count": 22,
     "metadata": {},
     "output_type": "execute_result"
    },
    {
     "data": {
      "image/png": "[encoded data removed]",
      "text/plain": [
       "<Figure size 432x288 with 1 Axes>"
      ]
     },
     "metadata": {
      "needs_background": "light"
     },
     "output_type": "display_data"
    }
   ],
   "source": [
    "# Total 1 value are in the outlayores we have to replace with the maximum value.\n",
    "Q1 = data[\"Width\"].quantile(0.25)\n",
    "Q3 = data[\"Width\"].quantile(0.75)\n",
    "IQR = Q3 - Q1\n",
    "print(\"Heighter Values\")\n",
    "print(data[data[\"Width\"] > (Q3 + 1.5 * IQR)])\n",
    "data[\"Width\"][data[\"Width\"] > (Q3 + 1.5 * IQR)] = (Q3+1.5*IQR)\n",
    "print(data[data[\"Width\"] > (Q3 + 1.5 * IQR)])\n",
    "sns.boxplot(data['Width'])"
   ]
  },
  {
   "cell_type": "code",
   "execution_count": 23,
   "metadata": {},
   "outputs": [
    {
     "data": {
      "text/plain": [
       "<matplotlib.axes._subplots.AxesSubplot at 0x278c277b748>"
      ]
     },
     "execution_count": 23,
     "metadata": {},
     "output_type": "execute_result"
    },
    {
     "data": {
      "text/plain": [
       "<Figure size 432x288 with 0 Axes>"
      ]
     },
     "metadata": {},
     "output_type": "display_data"
    },
    {
     "data": {
      "image/png": "[encoded data removed]",
      "text/plain": [
       "<Figure size 1440x720 with 6 Axes>"
      ]
     },
     "metadata": {
      "needs_background": "light"
     },
     "output_type": "display_data"
    }
   ],
   "source": [
    "plt.figure(1) \n",
    "plt.figure(figsize=(20,10))\n",
    "plt.subplot(331)\n",
    "sns.distplot(data['Cost'])\n",
    "plt.subplot(332)\n",
    "sns.distplot(data['Weight'])\n",
    "plt.subplot(333)\n",
    "sns.distplot(data['Weight1'])\n",
    "plt.subplot(334)\n",
    "sns.distplot(data['Length'])\n",
    "plt.subplot(335)\n",
    "sns.distplot(data['Height'])\n",
    "plt.subplot(336)\n",
    "sns.distplot(data['Width'])"
   ]
  },
  {
   "cell_type": "code",
   "execution_count": 24,
   "metadata": {},
   "outputs": [],
   "source": [
    "#data.hist(figsize=(16,20), bins=50, xlabelsize=8,ylabelsize=8)\n",
    "#This need to dicuss with Shankar."
   ]
  },
  {
   "cell_type": "markdown",
   "metadata": {},
   "source": [
    "### Bivariate Analysis\n",
    "The idea to analyze two variables at the same and find any relation between them.\n",
    "Scatter plot shows the relationship between two variable but does not indicates the strength of relationship amongst them. To find the strength of the relationship, we use Correlation. "
   ]
  },
  {
   "cell_type": "code",
   "execution_count": 25,
   "metadata": {},
   "outputs": [
    {
     "data": {
      "text/plain": [
       "<matplotlib.axes._subplots.AxesSubplot at 0x278c38fdb88>"
      ]
     },
     "execution_count": 25,
     "metadata": {},
     "output_type": "execute_result"
    },
    {
     "data": {
      "text/plain": [
       "<Figure size 432x288 with 0 Axes>"
      ]
     },
     "metadata": {},
     "output_type": "display_data"
    },
    {
     "data": {
      "image/png": "[encoded data removed]",
      "text/plain": [
       "<Figure size 1440x1080 with 4 Axes>"
      ]
     },
     "metadata": {
      "needs_background": "light"
     },
     "output_type": "display_data"
    }
   ],
   "source": [
    "plt.figure(1) \n",
    "plt.figure(figsize=(20,15))\n",
    "plt.subplot(221)\n",
    "sns.scatterplot(data['Weight'],data['Cost'])\n",
    "plt.subplot(222)\n",
    "sns.scatterplot(data['Weight1'],data['Cost'])\n",
    "plt.subplot(223)\n",
    "sns.scatterplot(data['Height'],data['Cost'])\n",
    "plt.subplot(224)\n",
    "sns.scatterplot(data['Width'],data['Cost'])\n"
   ]
  },
  {
   "cell_type": "markdown",
   "metadata": {},
   "source": [
    "<b>The given Cost and other files the bi variant analysis gives that data have\n",
    "Strong Postive Corrlation or\n",
    "Moderate Postive Corrlation</b>\n"
   ]
  },
  {
   "cell_type": "markdown",
   "metadata": {},
   "source": [
    "### Corrlation Coeffiecient\n",
    "A correlation matrix is a table showing the value of the correlation coefficient (Correlation coefficients are used in statistics to measure how strong a relationship is between two variables. ) between sets of variables. Each attribute of the dataset is compared with the other attributes to find out the correlation coefficient. This analysis allows you to see which pairs have the highest correlation, the pairs which are highly correlated represent the same variance of the dataset thus we can further analyze them to understand which attribute among the pairs are most significant for building the model"
   ]
  },
  {
   "cell_type": "code",
   "execution_count": 26,
   "metadata": {},
   "outputs": [
    {
     "data": {
      "text/html": [
       "<div>\n",
       "<style scoped>\n",
       "    .dataframe tbody tr th:only-of-type {\n",
       "        vertical-align: middle;\n",
       "    }\n",
       "\n",
       "    .dataframe tbody tr th {\n",
       "        vertical-align: top;\n",
       "    }\n",
       "\n",
       "    .dataframe thead th {\n",
       "        text-align: right;\n",
       "    }\n",
       "</style>\n",
       "<table border=\"1\" class=\"dataframe\">\n",
       "  <thead>\n",
       "    <tr style=\"text-align: right;\">\n",
       "      <th></th>\n",
       "      <th>Cost</th>\n",
       "      <th>Weight</th>\n",
       "      <th>Weight1</th>\n",
       "      <th>Length</th>\n",
       "      <th>Height</th>\n",
       "      <th>Width</th>\n",
       "    </tr>\n",
       "  </thead>\n",
       "  <tbody>\n",
       "    <tr>\n",
       "      <th>Cost</th>\n",
       "      <td>1.000000</td>\n",
       "      <td>0.890825</td>\n",
       "      <td>0.893581</td>\n",
       "      <td>0.899237</td>\n",
       "      <td>0.720961</td>\n",
       "      <td>0.878893</td>\n",
       "    </tr>\n",
       "    <tr>\n",
       "      <th>Weight</th>\n",
       "      <td>0.890825</td>\n",
       "      <td>1.000000</td>\n",
       "      <td>0.999390</td>\n",
       "      <td>0.992213</td>\n",
       "      <td>0.654309</td>\n",
       "      <td>0.880956</td>\n",
       "    </tr>\n",
       "    <tr>\n",
       "      <th>Weight1</th>\n",
       "      <td>0.893581</td>\n",
       "      <td>0.999390</td>\n",
       "      <td>1.000000</td>\n",
       "      <td>0.994406</td>\n",
       "      <td>0.665302</td>\n",
       "      <td>0.884114</td>\n",
       "    </tr>\n",
       "    <tr>\n",
       "      <th>Length</th>\n",
       "      <td>0.899237</td>\n",
       "      <td>0.992213</td>\n",
       "      <td>0.994406</td>\n",
       "      <td>1.000000</td>\n",
       "      <td>0.721245</td>\n",
       "      <td>0.885436</td>\n",
       "    </tr>\n",
       "    <tr>\n",
       "      <th>Height</th>\n",
       "      <td>0.720961</td>\n",
       "      <td>0.654309</td>\n",
       "      <td>0.665302</td>\n",
       "      <td>0.721245</td>\n",
       "      <td>1.000000</td>\n",
       "      <td>0.802559</td>\n",
       "    </tr>\n",
       "    <tr>\n",
       "      <th>Width</th>\n",
       "      <td>0.878893</td>\n",
       "      <td>0.880956</td>\n",
       "      <td>0.884114</td>\n",
       "      <td>0.885436</td>\n",
       "      <td>0.802559</td>\n",
       "      <td>1.000000</td>\n",
       "    </tr>\n",
       "  </tbody>\n",
       "</table>\n",
       "</div>"
      ],
      "text/plain": [
       "             Cost    Weight   Weight1    Length    Height     Width\n",
       "Cost     1.000000  0.890825  0.893581  0.899237  0.720961  0.878893\n",
       "Weight   0.890825  1.000000  0.999390  0.992213  0.654309  0.880956\n",
       "Weight1  0.893581  0.999390  1.000000  0.994406  0.665302  0.884114\n",
       "Length   0.899237  0.992213  0.994406  1.000000  0.721245  0.885436\n",
       "Height   0.720961  0.654309  0.665302  0.721245  1.000000  0.802559\n",
       "Width    0.878893  0.880956  0.884114  0.885436  0.802559  1.000000"
      ]
     },
     "execution_count": 26,
     "metadata": {},
     "output_type": "execute_result"
    }
   ],
   "source": [
    "data.corr()"
   ]
  },
  {
   "cell_type": "markdown",
   "metadata": {},
   "source": [
    "### Heat Map"
   ]
  },
  {
   "cell_type": "code",
   "execution_count": 27,
   "metadata": {},
   "outputs": [
    {
     "data": {
      "image/png": "[encoded data removed]",
      "text/plain": [
       "<Figure size 864x576 with 2 Axes>"
      ]
     },
     "metadata": {
      "needs_background": "light"
     },
     "output_type": "display_data"
    }
   ],
   "source": [
    "plt.figure(figsize=(12, 8))\n",
    "\n",
    "vg_corr = data.corr()\n",
    "sns.heatmap(vg_corr, \n",
    "            xticklabels = vg_corr.columns.values,\n",
    "            yticklabels = vg_corr.columns.values,\n",
    "            annot = True);"
   ]
  },
  {
   "cell_type": "markdown",
   "metadata": {},
   "source": [
    "Above you can see the correlation network of all the variables selected, correlation value lies between -1 to +1. Highly correlated variables will have correlation value close to +1 and less correlated variables will have correlation value close to -1\n",
    "\n",
    "All the values are related to cost is close to 1 except height. so we can consider all the values for the predication"
   ]
  },
  {
   "cell_type": "markdown",
   "metadata": {},
   "source": [
    "# Build the Models using \n",
    "1. Linear Regression using Gradient Descent\n",
    "2. Linear Regression using Stochastic Gradient Descent\n",
    "3. Linear Regression using Mini-batch Gradient Descent\n",
    "4. Linear Regression using sklearn "
   ]
  },
  {
   "cell_type": "code",
   "execution_count": 28,
   "metadata": {},
   "outputs": [],
   "source": [
    "# Define the features and output variable\n",
    "X = data.iloc[:,1:]\n",
    "y = data.iloc[:,0]"
   ]
  },
  {
   "cell_type": "code",
   "execution_count": 29,
   "metadata": {},
   "outputs": [],
   "source": [
    "#Feature scaling \n",
    "from sklearn.preprocessing import StandardScaler\n",
    "sc = StandardScaler()\n",
    "X = sc.fit_transform(X)"
   ]
  },
  {
   "cell_type": "code",
   "execution_count": 30,
   "metadata": {},
   "outputs": [],
   "source": [
    "# Divide the data train and test numpy arrays with 70:30 ratio\n",
    "from sklearn.model_selection import train_test_split\n",
    "X_train, X_test, y_train, y_test = train_test_split(X, y, test_size=0.3, random_state=42)\n",
    "\n",
    "X_train = np.c_[np.ones(len(X_train),dtype='int64'),X_train]  # Additional column for bias parameter  \n",
    "y_train = y_train.reset_index(drop=True)\n",
    "                        \n",
    "X_test = np.c_[np.ones(len(X_test),dtype='int64'),X_test] # Additional column for bias parameter\n",
    "y_test = y_test.reset_index(drop=True) \n",
    " \n"
   ]
  },
  {
   "cell_type": "markdown",
   "metadata": {},
   "source": [
    "### Generic functions for all Gradient Descent algorithms"
   ]
  },
  {
   "cell_type": "code",
   "execution_count": 31,
   "metadata": {},
   "outputs": [],
   "source": [
    "# Generic cost function for calculating the Average Sum of Squared Error\n",
    "def cost_function(X, Y, Weights):\n",
    "    m = len(X)\n",
    "    cost = np.sum((X.dot(Weights) - Y) ** 2)/(2 * m)\n",
    "    return cost\n",
    "\n",
    "# Function to calculate the performance measures for a model based on actual and predcited values\n",
    "def model_measures(X,Y,y_pred):\n",
    "    num_data = X.shape[0]\n",
    "    mse = mean_squared_error(Y,y_pred)\n",
    "    rmse = math.sqrt(mse)\n",
    "    rse = mse * num_data\n",
    "    r2 = r2_score(Y,y_pred)\n",
    "    return mse, rmse, r2\n",
    "\n",
    "# Function to Predict output variable using optimized model parameters\n",
    "def model_prediction(X,weights):\n",
    "    y_pred = weights[0] + np.dot(X[:,1],weights[1]) + np.dot(X[:,2],weights[2]) + np.dot(X[:,3],weights[3]) + np.dot(X[:,4],weights[4]) + np.dot(X[:,5],weights[5])\n",
    "    return y_pred"
   ]
  },
  {
   "cell_type": "markdown",
   "metadata": {},
   "source": [
    "# Multiple Linear Regression model using Gradient Descent"
   ]
  },
  {
   "cell_type": "code",
   "execution_count": 32,
   "metadata": {},
   "outputs": [],
   "source": [
    "# Function to calculate the Gradient Descent\n",
    "def gradient_descent(X, Y, Weights, alpha, iterations):\n",
    "    cost_history = [0] * iterations\n",
    "    m = len(Y)\n",
    " \n",
    "    for iteration in range(iterations):\n",
    "        hypothesis = X.dot(Weights)\n",
    "        loss = hypothesis - Y\n",
    "        gradient = X.T.dot(loss)/m\n",
    "        Weights = Weights - alpha * gradient\n",
    "        cost = cost_function(X, Y, Weights)\n",
    "        cost_history[iteration] = cost\n",
    "    return Weights, cost_history"
   ]
  },
  {
   "cell_type": "code",
   "execution_count": 33,
   "metadata": {},
   "outputs": [
    {
     "data": {
      "text/plain": [
       "array([370.57233399,  74.12121059,  75.13939055,  72.05771615,\n",
       "        22.33902378,  84.10564988])"
      ]
     },
     "execution_count": 33,
     "metadata": {},
     "output_type": "execute_result"
    }
   ],
   "source": [
    "# Gradient Descent for the Train data\n",
    "Weights_GD = np.zeros(X_train.shape[1])\n",
    "alpha_GD = 0.01\n",
    "iter_GD = 300\n",
    "new_Weights_GD, cost_history_GD = gradient_descent(X_train, y_train, Weights_GD, alpha_GD, iter_GD)\n",
    "new_Weights_GD"
   ]
  },
  {
   "cell_type": "code",
   "execution_count": 34,
   "metadata": {},
   "outputs": [
    {
     "data": {
      "image/png": "[encoded data removed]",
      "text/plain": [
       "<Figure size 432x288 with 1 Axes>"
      ]
     },
     "metadata": {
      "needs_background": "light"
     },
     "output_type": "display_data"
    }
   ],
   "source": [
    "# Plot the Cost change for different iterations\n",
    "x_axis = np.linspace(0, iter_GD, len(cost_history_GD), endpoint=True)\n",
    "plt.plot(x_axis, cost_history_GD)\n",
    "plt.xlabel('iterations')\n",
    "plt.ylabel('cost')\n",
    "plt.show()"
   ]
  },
  {
   "cell_type": "markdown",
   "metadata": {},
   "source": [
    "Looking at this graph it is apparent that the cost after around 200 iterations does not reduce which means we can use only 200 to 300 range for iterations. Also we can notice that cost reduces faster initially and then slows down."
   ]
  },
  {
   "cell_type": "markdown",
   "metadata": {},
   "source": [
    "###### Gradient Descent - MSE, RMSE, R2 Score"
   ]
  },
  {
   "cell_type": "code",
   "execution_count": 35,
   "metadata": {},
   "outputs": [
    {
     "name": "stdout",
     "output_type": "stream",
     "text": [
      "Theta 0 =71.590\n",
      "Theta 1 =-151.242\n",
      "Theta 2 =373.002\n",
      "Theta 3 =301.171\n",
      "Theta 4 =188.709\n",
      "Theta 5 =705.649\n",
      "Mean Square Error =17621.824\n",
      "Root Mean Square Error =132.747\n",
      "r Square =0.856\n"
     ]
    }
   ],
   "source": [
    "# Find MSE, RMSE, R^2 Score for the Gradient Descent Model\n",
    "y_pred_test_GD = model_prediction(X_test,new_Weights_GD)\n",
    "mse_GD, rmse_GD, r2_GD = model_measures(X_test,y_test,y_pred_test_GD)\n",
    "\n",
    "print('Theta 0 =%.3f' %y_pred_test_GD[0])\n",
    "print('Theta 1 =%.3f' %y_pred_test_GD[1])\n",
    "print('Theta 2 =%.3f' %y_pred_test_GD[2])\n",
    "print('Theta 3 =%.3f' %y_pred_test_GD[3])\n",
    "print('Theta 4 =%.3f' %y_pred_test_GD[4])\n",
    "print('Theta 5 =%.3f' %y_pred_test_GD[5])\n",
    "\n",
    "print('Mean Square Error =%.3f' %mse_GD)\n",
    "print('Root Mean Square Error =%.3f' %rmse_GD)\n",
    "print('r Square =%.3f' %r2_GD)"
   ]
  },
  {
   "cell_type": "markdown",
   "metadata": {},
   "source": [
    "# Multiple Linear Regression model using Stochastic Gradient Descent"
   ]
  },
  {
   "cell_type": "code",
   "execution_count": 36,
   "metadata": {},
   "outputs": [],
   "source": [
    "# Function to calculate Stochastic Gradient Descent\n",
    "def stochastic_gradient_descent(X, Y, Weights, alpha, iterations):\n",
    "    cost_history = [0] * iterations\n",
    "    m = len(Y)\n",
    "    gradient = 0\n",
    "    for iteration in range(iterations):\n",
    "        for i in range(m):\n",
    "            hypothesis = X[i].dot(Weights)\n",
    "            loss = hypothesis - Y[i]\n",
    "            gradient = X[i].T.dot(loss) / m\n",
    "            Weights = Weights - alpha * gradient\n",
    "            cost = cost_function(X[i], Y[i], Weights)\n",
    "        cost_history[iteration] = cost\n",
    "    return Weights, cost_history"
   ]
  },
  {
   "cell_type": "code",
   "execution_count": 37,
   "metadata": {},
   "outputs": [
    {
     "data": {
      "text/plain": [
       "array([370.29747548,  74.13909419,  75.16160555,  72.06815897,\n",
       "        22.39785153,  84.12126968])"
      ]
     },
     "execution_count": 37,
     "metadata": {},
     "output_type": "execute_result"
    }
   ],
   "source": [
    "# Stochastics Gradient Descent for the data\n",
    "Weights_SGD = np.zeros(X_train.shape[1])\n",
    "alpha_SGD = 0.01\n",
    "iter_SGD = 300\n",
    "new_Weights_SGD, cost_history_SGD = stochastic_gradient_descent(X_train, y_train, Weights_SGD, alpha_SGD, iter_SGD)\n",
    "new_Weights_SGD"
   ]
  },
  {
   "cell_type": "code",
   "execution_count": 38,
   "metadata": {},
   "outputs": [
    {
     "data": {
      "image/png": "[encoded data removed]",
      "text/plain": [
       "<Figure size 432x288 with 1 Axes>"
      ]
     },
     "metadata": {
      "needs_background": "light"
     },
     "output_type": "display_data"
    }
   ],
   "source": [
    "# Plot the Cost change for different iterations\n",
    "x_axis = np.linspace(0, iter_SGD, len(cost_history_SGD), endpoint=True)\n",
    "plt.plot(x_axis, cost_history_SGD)\n",
    "plt.xlabel('iterations')\n",
    "plt.ylabel('cost')\n",
    "plt.show()"
   ]
  },
  {
   "cell_type": "markdown",
   "metadata": {},
   "source": [
    "###### Stochastic Gradient Descent - MSE, RMSE, R2 Score"
   ]
  },
  {
   "cell_type": "code",
   "execution_count": 39,
   "metadata": {},
   "outputs": [
    {
     "name": "stdout",
     "output_type": "stream",
     "text": [
      "17642.876636575707 132.82649071843954 0.8559692774836724\n",
      "Theta 0 =71.202\n",
      "Theta 1 =-151.711\n",
      "Theta 2 =372.688\n",
      "Theta 3 =300.872\n",
      "Theta 4 =188.347\n",
      "Theta 5 =705.566\n",
      "Mean Square Error =17642.877\n",
      "Root Mean Square Error =132.826\n",
      "r Square =0.856\n"
     ]
    }
   ],
   "source": [
    "# Find MSE, RMSE, R^2 Score for the Stochastic Gradient Descent Model\n",
    "y_pred_SGD = model_prediction(X_test,new_Weights_SGD)\n",
    "mse_SGD, rmse_SGD, r2_SGD = model_measures(X_test,y_test,y_pred_SGD)\n",
    "print(mse_SGD, rmse_SGD, r2_SGD)\n",
    "\n",
    "print('Theta 0 =%.3f' %y_pred_SGD[0])\n",
    "print('Theta 1 =%.3f' %y_pred_SGD[1])\n",
    "print('Theta 2 =%.3f' %y_pred_SGD[2])\n",
    "print('Theta 3 =%.3f' %y_pred_SGD[3])\n",
    "print('Theta 4 =%.3f' %y_pred_SGD[4])\n",
    "print('Theta 5 =%.3f' %y_pred_SGD[5])\n",
    "\n",
    "print('Mean Square Error =%.3f' %mse_SGD)\n",
    "print('Root Mean Square Error =%.3f' %rmse_SGD)\n",
    "print('r Square =%.3f' %r2_SGD)"
   ]
  },
  {
   "cell_type": "markdown",
   "metadata": {},
   "source": [
    "# Multiple Linear Regression model using Minibatch Gradient Descent"
   ]
  },
  {
   "cell_type": "code",
   "execution_count": 40,
   "metadata": {},
   "outputs": [],
   "source": [
    "# Function to Divide the data into mini batches as per batch Size\n",
    "def create_mini_batches(X, Y, batch_size): \n",
    "    mini_batches = []\n",
    "    Y_n = np.array(Y, dtype = X.dtype)\n",
    "    data = np.hstack((X, Y_n[:,None])) \n",
    "    np.random.shuffle(data)\n",
    "    n_minibatches = data.shape[0] // batch_size \n",
    "    i = 0\n",
    "  \n",
    "    for i in range(n_minibatches + 1): \n",
    "        mini_batch = data[i * batch_size:(i + 1)*batch_size, :] \n",
    "        X_mini = mini_batch[:, :-1] \n",
    "        Y_mini = mini_batch[:, -1].reshape((-1, 1)) \n",
    "        mini_batches.append((X_mini, Y_mini)) \n",
    "        \n",
    "    if data.shape[0] % batch_size != 0: \n",
    "        mini_batch = data[i * batch_size:data.shape[0]] \n",
    "        X_mini = mini_batch[:, :-1] \n",
    "        Y_mini = mini_batch[:, -1].reshape((-1, 1)) \n",
    "        mini_batches.append((X_mini, Y_mini))\n",
    "        \n",
    "    return mini_batches"
   ]
  },
  {
   "cell_type": "code",
   "execution_count": 41,
   "metadata": {},
   "outputs": [],
   "source": [
    "# Function for Mini Batch Gradient Descent\n",
    "def minibatch_gradient_descent(X, Y, Weights, alpha, iterations, batch_size):\n",
    "    cost_history = [0] * iterations\n",
    "    m = batch_size\n",
    "\n",
    "    for iteration in range(iterations):\n",
    "        mini_batches = create_mini_batches(X, Y, batch_size)\n",
    "        cost = 0.0\n",
    "        for batch in mini_batches:\n",
    "            X_m,Y_m = batch\n",
    "            Y_m = pd.Series(map(lambda x: x[0], Y_m))\n",
    "            hypothesis = X_m.dot(Weights)\n",
    "            loss = hypothesis - Y_m\n",
    "            gradient = X_m.T.dot(loss) \n",
    "            Weights = Weights - alpha * gradient\n",
    "            cost += cost_function(X_m, Y_m, Weights)\n",
    "        cost_history[iteration] = cost\n",
    "    return Weights, cost_history\n",
    "\n"
   ]
  },
  {
   "cell_type": "code",
   "execution_count": 42,
   "metadata": {},
   "outputs": [
    {
     "data": {
      "text/plain": [
       "array([389.58647723,  74.76148461,  81.14140895,  85.19814371,\n",
       "         9.55248049, 105.47119863])"
      ]
     },
     "execution_count": 42,
     "metadata": {},
     "output_type": "execute_result"
    }
   ],
   "source": [
    "# Mini Batch Gradient Descent\n",
    "Weights_MBGD = np.zeros(X_train.shape[1])\n",
    "alpha_MBGD = 0.01\n",
    "iter_MBGD = 10\n",
    "batch_size = 10\n",
    "new_Weights_MBGD, cost_history_MBGD = minibatch_gradient_descent(X_train, y_train, Weights_MBGD, alpha_MBGD, iter_MBGD, batch_size)\n",
    "new_Weights_MBGD"
   ]
  },
  {
   "cell_type": "code",
   "execution_count": 43,
   "metadata": {},
   "outputs": [
    {
     "data": {
      "image/png": "[encoded data removed]",
      "text/plain": [
       "<Figure size 432x288 with 1 Axes>"
      ]
     },
     "metadata": {
      "needs_background": "light"
     },
     "output_type": "display_data"
    }
   ],
   "source": [
    "x_axis = np.linspace(0, iter_MBGD, len(cost_history_MBGD), endpoint=True)\n",
    "plt.plot(x_axis, cost_history_MBGD)\n",
    "plt.xlabel('iterations')\n",
    "plt.ylabel('cost')\n",
    "plt.show()"
   ]
  },
  {
   "cell_type": "markdown",
   "metadata": {},
   "source": [
    "###### Minibatch Gradient Descent - MSE, RMSE, R2 Score"
   ]
  },
  {
   "cell_type": "code",
   "execution_count": 44,
   "metadata": {},
   "outputs": [
    {
     "name": "stdout",
     "output_type": "stream",
     "text": [
      "17420.26305377597 131.98584414161985 0.8577866225704778\n",
      "Theta 0 =65.744\n",
      "Theta 1 =-182.503\n",
      "Theta 2 =394.810\n",
      "Theta 3 =314.916\n",
      "Theta 4 =197.409\n",
      "Theta 5 =740.150\n",
      "Mean Square Error =17420.263\n",
      "Root Mean Square Error =131.986\n",
      "r Square =0.858\n"
     ]
    }
   ],
   "source": [
    "# Find MSE, RMSE, R^2 Score for the Mini Batch Gradient Descent Model\n",
    "y_pred_MBGD = model_prediction(X_test,new_Weights_MBGD)\n",
    "mse_MBGD, rmse_MBGD, r2_MBGD = model_measures(X_test,y_test,y_pred_MBGD)\n",
    "print(mse_MBGD, rmse_MBGD, r2_MBGD)\n",
    "print('Theta 0 =%.3f' %y_pred_MBGD[0])\n",
    "print('Theta 1 =%.3f' %y_pred_MBGD[1])\n",
    "print('Theta 2 =%.3f' %y_pred_MBGD[2])\n",
    "print('Theta 3 =%.3f' %y_pred_MBGD[3])\n",
    "print('Theta 4 =%.3f' %y_pred_MBGD[4])\n",
    "print('Theta 5 =%.3f' %y_pred_MBGD[5])\n",
    "\n",
    "print('Mean Square Error =%.3f' %mse_MBGD)\n",
    "print('Root Mean Square Error =%.3f' %rmse_MBGD)\n",
    "print('r Square =%.3f' %r2_MBGD)"
   ]
  },
  {
   "cell_type": "markdown",
   "metadata": {},
   "source": [
    "# Multiple Linear Regression model using LinearRegression Method from sklearn.linear_model"
   ]
  },
  {
   "cell_type": "code",
   "execution_count": 45,
   "metadata": {},
   "outputs": [
    {
     "name": "stdout",
     "output_type": "stream",
     "text": [
      "387.1915856172578\n",
      "[   0.         -310.68569134  202.87501705  310.7390491   -42.02291645\n",
      "  151.65296264]\n"
     ]
    }
   ],
   "source": [
    "#sklearn Linear Regression\n",
    "from sklearn.linear_model import LinearRegression\n",
    "l_reg = LinearRegression()\n",
    "l_reg.fit(X_train,y_train)\n",
    "print(l_reg.intercept_)\n",
    "print(l_reg.coef_)"
   ]
  },
  {
   "cell_type": "markdown",
   "metadata": {},
   "source": [
    "###### sklearn.linear_model.LinearRegression - MSE, RMSE, R2 Score"
   ]
  },
  {
   "cell_type": "code",
   "execution_count": 46,
   "metadata": {},
   "outputs": [
    {
     "name": "stdout",
     "output_type": "stream",
     "text": [
      "17687.718482950342 132.99518217946974 0.8556032031940117\n",
      "Mean Square Error =17687.718\n",
      "Root Mean Square Error =132.995\n",
      "r Square =0.856\n"
     ]
    }
   ],
   "source": [
    "# Find MSE, RMSE and R^2 score for the sklearn Linear Regression Model\n",
    "y_pred_skl = l_reg.predict(X_test)\n",
    "mse_skl, rmse_skl, r2_skl = model_measures(X_test, y_test, y_pred_skl)\n",
    "print(mse_skl, rmse_skl, r2_skl)\n",
    "\n",
    "print('Mean Square Error =%.3f' %mse_skl)\n",
    "print('Root Mean Square Error =%.3f' %rmse_skl)\n",
    "print('r Square =%.3f' %r2_skl)"
   ]
  },
  {
   "cell_type": "code",
   "execution_count": 47,
   "metadata": {},
   "outputs": [
    {
     "name": "stdout",
     "output_type": "stream",
     "text": [
      "Gadient Descent Model Output \n",
      "Mean Square Error =17621.824\n",
      "Root Mean Square Error =132.747\n",
      "r Square =0.856\n",
      "Stochastic Gradient Descent Model Output\n",
      "Mean Square Error =17642.877\n",
      "Root Mean Square Error =132.826\n",
      "r Square =0.856\n",
      "Mini Batch Gadient Descent Model Output  \n",
      "Mean Square Error =17420.263\n",
      "Root Mean Square Error =131.986\n",
      "r Square =0.858\n",
      "Using sklearn.linear_model Output \n",
      "Mean Square Error =17687.718\n",
      "Root Mean Square Error =132.995\n",
      "r Square =0.856\n"
     ]
    }
   ],
   "source": [
    "print (\"Gadient Descent Model Output \")\n",
    "print('Mean Square Error =%.3f' %mse_GD)\n",
    "print('Root Mean Square Error =%.3f' %rmse_GD)\n",
    "print('r Square =%.3f' %r2_GD)\n",
    "\n",
    "print(\"Stochastic Gradient Descent Model Output\")\n",
    "print('Mean Square Error =%.3f' %mse_SGD)\n",
    "print('Root Mean Square Error =%.3f' %rmse_SGD)\n",
    "print('r Square =%.3f' %r2_SGD)\n",
    "\n",
    "\n",
    "print(\"Mini Batch Gadient Descent Model Output  \")\n",
    "print('Mean Square Error =%.3f' %mse_MBGD)\n",
    "print('Root Mean Square Error =%.3f' %rmse_MBGD)\n",
    "print('r Square =%.3f' %r2_MBGD)\n",
    "\n",
    "print(\"Using sklearn.linear_model Output \")\n",
    "print('Mean Square Error =%.3f' %mse_skl)\n",
    "print('Root Mean Square Error =%.3f' %rmse_skl)\n",
    "print('r Square =%.3f' %r2_skl)"
   ]
  },
  {
   "cell_type": "markdown",
   "metadata": {},
   "source": [
    "<b>We have did the split of 70:30 for training and testing<b/>\n",
    "    <br>\n",
    "<b>The output of the values of cost of the bag and validated with 30% testing data of the cost and drived MSE and RMSE and rSquare are more are less equal for <ul>\n",
    "    <li>Gadient Descent</li>\n",
    "    <li>Stochastic Gradient Descent</li>\n",
    "    <li>Mini Batch Gadient Descent</li>\n",
    "    <li>Sklearn.linear_mode</li>\n",
    "    \n",
    "</ul>\n",
    "  <b/>\n",
    "    <b>Mini Batch Gradient Descent reaches the optimum values Theta with minimal iteration with in 10 iteration and 10 batch size \n",
    "</b>"
   ]
  },
  {
   "cell_type": "code",
   "execution_count": null,
   "metadata": {},
   "outputs": [],
   "source": []
  }
 ],
 "metadata": {
  "kernelspec": {
   "display_name": "Python 3",
   "language": "python",
   "name": "python3"
  },
  "language_info": {
   "codemirror_mode": {
    "name": "ipython",
    "version": 3
   },
   "file_extension": ".py",
   "mimetype": "text/x-python",
   "name": "python",
   "nbconvert_exporter": "python",
   "pygments_lexer": "ipython3",
   "version": "3.7.4"
  }
 },
 "nbformat": 4,
 "nbformat_minor": 2
}
