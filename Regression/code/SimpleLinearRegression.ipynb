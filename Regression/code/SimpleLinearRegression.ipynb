{
 "cells": [
  {
   "cell_type": "markdown",
   "metadata": {},
   "source": [
    "# Simple Linear Regression Algorithm using Python"
   ]
  },
  {
   "cell_type": "code",
   "execution_count": 2,
   "metadata": {},
   "outputs": [],
   "source": [
    "#Import all the required libraries\n",
    "import pandas as pd\n",
    "import matplotlib.pyplot as plt\n",
    "import numpy as np\n",
    "\n",
    "from sklearn import linear_model\n",
    "from sklearn.metrics import mean_squared_error\n",
    "from sklearn.linear_model import LinearRegression\n",
    "from sklearn.metrics import mean_squared_error, r2_score\n",
    "from sklearn.model_selection import train_test_split\n",
    "\n",
    "import matplotlib.pyplot as plt\n",
    "import seaborn as sns\n",
    "import math"
   ]
  },
  {
   "cell_type": "code",
   "execution_count": 3,
   "metadata": {},
   "outputs": [],
   "source": [
    "#imports the CSV dataset using pandas\n",
    "dataset = pd.read_csv('Salary_Data.csv')"
   ]
  },
  {
   "cell_type": "code",
   "execution_count": 4,
   "metadata": {},
   "outputs": [
    {
     "data": {
      "text/html": [
       "<div>\n",
       "<style scoped>\n",
       "    .dataframe tbody tr th:only-of-type {\n",
       "        vertical-align: middle;\n",
       "    }\n",
       "\n",
       "    .dataframe tbody tr th {\n",
       "        vertical-align: top;\n",
       "    }\n",
       "\n",
       "    .dataframe thead th {\n",
       "        text-align: right;\n",
       "    }\n",
       "</style>\n",
       "<table border=\"1\" class=\"dataframe\">\n",
       "  <thead>\n",
       "    <tr style=\"text-align: right;\">\n",
       "      <th></th>\n",
       "      <th>YearsExperience</th>\n",
       "      <th>Salary</th>\n",
       "    </tr>\n",
       "  </thead>\n",
       "  <tbody>\n",
       "    <tr>\n",
       "      <th>count</th>\n",
       "      <td>30.000000</td>\n",
       "      <td>30.000000</td>\n",
       "    </tr>\n",
       "    <tr>\n",
       "      <th>mean</th>\n",
       "      <td>5.313333</td>\n",
       "      <td>76003.000000</td>\n",
       "    </tr>\n",
       "    <tr>\n",
       "      <th>std</th>\n",
       "      <td>2.837888</td>\n",
       "      <td>27414.429785</td>\n",
       "    </tr>\n",
       "    <tr>\n",
       "      <th>min</th>\n",
       "      <td>1.100000</td>\n",
       "      <td>37731.000000</td>\n",
       "    </tr>\n",
       "    <tr>\n",
       "      <th>25%</th>\n",
       "      <td>3.200000</td>\n",
       "      <td>56720.750000</td>\n",
       "    </tr>\n",
       "    <tr>\n",
       "      <th>50%</th>\n",
       "      <td>4.700000</td>\n",
       "      <td>65237.000000</td>\n",
       "    </tr>\n",
       "    <tr>\n",
       "      <th>75%</th>\n",
       "      <td>7.700000</td>\n",
       "      <td>100544.750000</td>\n",
       "    </tr>\n",
       "    <tr>\n",
       "      <th>max</th>\n",
       "      <td>10.500000</td>\n",
       "      <td>122391.000000</td>\n",
       "    </tr>\n",
       "  </tbody>\n",
       "</table>\n",
       "</div>"
      ],
      "text/plain": [
       "       YearsExperience         Salary\n",
       "count        30.000000      30.000000\n",
       "mean          5.313333   76003.000000\n",
       "std           2.837888   27414.429785\n",
       "min           1.100000   37731.000000\n",
       "25%           3.200000   56720.750000\n",
       "50%           4.700000   65237.000000\n",
       "75%           7.700000  100544.750000\n",
       "max          10.500000  122391.000000"
      ]
     },
     "execution_count": 4,
     "metadata": {},
     "output_type": "execute_result"
    }
   ],
   "source": [
    "#get the the statistical details of the dataset \n",
    "dataset.describe()"
   ]
  },
  {
   "cell_type": "code",
   "execution_count": 5,
   "metadata": {},
   "outputs": [
    {
     "data": {
      "text/plain": [
       "YearsExperience    0\n",
       "Salary             0\n",
       "dtype: int64"
      ]
     },
     "execution_count": 5,
     "metadata": {},
     "output_type": "execute_result"
    }
   ],
   "source": [
    "#validating the null vaues\n",
    "dataset.isna().sum()"
   ]
  },
  {
   "cell_type": "code",
   "execution_count": 6,
   "metadata": {},
   "outputs": [
    {
     "data": {
      "text/plain": [
       "<matplotlib.axes._subplots.AxesSubplot at 0x1878a6cdb48>"
      ]
     },
     "execution_count": 6,
     "metadata": {},
     "output_type": "execute_result"
    },
    {
     "data": {
      "image/png": "[encoded data removed]",
      "text/plain": [
       "<Figure size 432x288 with 1 Axes>"
      ]
     },
     "metadata": {
      "needs_background": "light"
     },
     "output_type": "display_data"
    }
   ],
   "source": [
    "#displaying scatter plot on the salary and years of experiance in y,x axis\n",
    "sns.scatterplot(dataset['YearsExperience'],dataset['Salary'])\n"
   ]
  },
  {
   "cell_type": "code",
   "execution_count": 7,
   "metadata": {},
   "outputs": [],
   "source": [
    "#splitting the values of Years of experiance and salary to x, y\n",
    "x=dataset['YearsExperience']\n",
    "y = dataset['Salary']\n",
    "\n",
    "#Training and testing the data split for 70% and 30%\n",
    "X_train, X_test, y_train, y_test = train_test_split(x, y, test_size=0.3, random_state=0)\n",
    "\n",
    "# Fit Simple Linear Regression to the dataset\n",
    "\n",
    "X_train=X_train.values\n",
    "X_train=X_train.reshape(-1,1)\n",
    "\n",
    "y_train=y_train.values\n",
    "y_train=y_train.reshape(-1,1)\n",
    "\n",
    "X_test=X_test.values\n",
    "X_test=X_test.reshape(-1,1)\n",
    "\n",
    "y_test= y_test.values\n",
    "y_test=y_test.reshape(-1,1)\n"
   ]
  },
  {
   "cell_type": "markdown",
   "metadata": {},
   "source": [
    "# Using sklearn.linear_model getting the coefficent, Intercept and error(MSE)"
   ]
  },
  {
   "cell_type": "code",
   "execution_count": 8,
   "metadata": {},
   "outputs": [
    {
     "name": "stdout",
     "output_type": "stream",
     "text": [
      "Coefficient = Theta1 =9360.261\n"
     ]
    }
   ],
   "source": [
    "# Fit Simple Linear Regression to the dataset\n",
    "\n",
    "# Create the model\n",
    "model = LinearRegression()\n",
    "\n",
    "# Train the model, using training data set\n",
    "m=model.fit(X_train, y_train)\n",
    "\n",
    "#assgining the values to Theta1\n",
    "Theta1=model.coef_\n",
    "\n",
    "# The coefficients\n",
    "# print the parameter theta1\n",
    "print('Coefficient = Theta1 =%.3f' %Theta1)\n"
   ]
  },
  {
   "cell_type": "code",
   "execution_count": 9,
   "metadata": {},
   "outputs": [
    {
     "name": "stdout",
     "output_type": "stream",
     "text": [
      "Intercept = Theta0 =26777.391\n"
     ]
    }
   ],
   "source": [
    "#assgining the values to Theta0\n",
    "Theta0=model.intercept_\n",
    "# print the parameter theta0\n",
    "print('Intercept = Theta0 =%.3f' %Theta0)"
   ]
  },
  {
   "cell_type": "code",
   "execution_count": 10,
   "metadata": {},
   "outputs": [],
   "source": [
    "# Use trained model to predict on test dataset\n",
    "y_pred = model.predict(X_test)"
   ]
  },
  {
   "cell_type": "code",
   "execution_count": 11,
   "metadata": {},
   "outputs": [
    {
     "name": "stdout",
     "output_type": "stream",
     "text": [
      "Mean Square Error= 23370078.801\n"
     ]
    }
   ],
   "source": [
    "#getting yPrediction values (Salary)\n",
    "\n",
    "MSE= mean_squared_error(y_test, y_pred)\n",
    "print('Mean Square Error= %.3f' %MSE)"
   ]
  },
  {
   "cell_type": "code",
   "execution_count": 12,
   "metadata": {},
   "outputs": [
    {
     "name": "stdout",
     "output_type": "stream",
     "text": [
      "Root Mean Square Error= 4834.261\n",
      "Variance score = 0.97\n"
     ]
    }
   ],
   "source": [
    "#getting Root Mean Suquare Error\n",
    "RMSE = math.sqrt(MSE)\n",
    "print('Root Mean Square Error= %.3f' %RMSE)\n",
    "\n",
    "print('Variance score = %.2f' % r2_score(y_test, y_pred))"
   ]
  },
  {
   "cell_type": "code",
   "execution_count": 13,
   "metadata": {},
   "outputs": [
    {
     "data": {
      "text/plain": [
       "<matplotlib.axes._subplots.AxesSubplot at 0x1878aa26088>"
      ]
     },
     "execution_count": 13,
     "metadata": {},
     "output_type": "execute_result"
    },
    {
     "data": {
      "image/png": "[encoded data removed]",
      "text/plain": [
       "<Figure size 432x288 with 1 Axes>"
      ]
     },
     "metadata": {
      "needs_background": "light"
     },
     "output_type": "display_data"
    }
   ],
   "source": [
    "#displaying the training data in blue\n",
    "sns.scatterplot(X_train.flatten(),y_train.flatten(),color='blue')\n",
    "\n",
    "#displaying the test data in red\n",
    "sns.scatterplot(X_test.flatten(),y_test.flatten(),color='red')\n",
    "\n",
    "#displaying the predicted data in green\n",
    "sns.scatterplot(X_test.flatten(),y_pred.flatten(),color='green')\n",
    "\n",
    "#displaying the regression line in yellow\n",
    "sns.lineplot(X_test.flatten(),y_pred.flatten(),color='yellow')\n",
    "\n"
   ]
  },
  {
   "cell_type": "markdown",
   "metadata": {},
   "source": [
    "# Using standard model getting the coefficent, Intercept and error(MSE)"
   ]
  },
  {
   "cell_type": "markdown",
   "metadata": {},
   "source": [
    "<b>Calculation of Variance</b><br>\n",
    "variance = sum( (x - mean(x))^2 )\n",
    "\n",
    "<b>Calculation of Covariance</b><br>\n",
    "covariance = sum((x(i) - mean(x)) * (y(i) - mean(y)))\n",
    "\n",
    "<b>Calculating coefficient</b><br>\n",
    "Theta1 = covariance(x, y) / variance(x)<br>\n",
    "\n",
    "\n",
    "<b>Calculating Intercept</b><br>\n",
    "Theta0 = mean(y) - Theta0 * mean(x)\n",
    "\n",
    "<b>Calculating the Theta0 and Theta1</b><br>\n",
    "Theta1 = sum((x(i) - mean(x)) * (y(i) - mean(y))) / sum( (x(i) - mean(x))^2 )<br>\n",
    "Theta0 = mean(y) - B1 * mean(x)\n",
    "\n",
    "<b>Root Mean Squared Error or RMSE</b><br>\n",
    "RMSE = sqrt( sum( (pi – yi)^2 )/n )"
   ]
  },
  {
   "cell_type": "code",
   "execution_count": 14,
   "metadata": {},
   "outputs": [],
   "source": [
    "# Estimate Mean and Variance\n",
    "#Creating functions for Means and Variance and Covariance\n",
    "# Calculate the mean value of a list of numbers\n",
    "def mean(values):\n",
    "    return sum(values) / float(len(values))\n",
    " \n",
    "# Calculate the variance of a list of numbers\n",
    "def variance(values, mean):\n",
    "    return sum([(x-mean)**2 for x in values])\n",
    "\n",
    "# Calculate covariance between x and y\n",
    "def covariance(x, mean_x, y, mean_y):\n",
    "    covar = 0.0\n",
    "    for i in range(len(x)):\n",
    "        covar += (x[i] - mean_x) * (y[i] - mean_y)\n",
    "    return covar"
   ]
  },
  {
   "cell_type": "code",
   "execution_count": 15,
   "metadata": {},
   "outputs": [
    {
     "name": "stdout",
     "output_type": "stream",
     "text": [
      "x stats: mean=4.881 variance=137.652\n",
      "y stats: mean=72464.381 variance=12797780024.952\n",
      "Covariance: 1288462.252\n"
     ]
    }
   ],
   "source": [
    "#Calculating Means,Variance and Covariance\n",
    "mean_x, mean_y = mean(X_train), mean(y_train)\n",
    "var_x, var_y = variance(X_train, mean_x), variance(y_train, mean_y)\n",
    "covar = covariance(X_train, mean_x, y_train, mean_y)\n",
    "print('x stats: mean=%.3f variance=%.3f' % (mean_x, var_x))\n",
    "print('y stats: mean=%.3f variance=%.3f' % (mean_y, var_y))\n",
    "print('Covariance: %.3f' % (covar))"
   ]
  },
  {
   "cell_type": "code",
   "execution_count": 16,
   "metadata": {},
   "outputs": [
    {
     "name": "stdout",
     "output_type": "stream",
     "text": [
      "Coefficient = Theta1 =9360.261\n",
      "Intercept = Theta0 =26777.391\n"
     ]
    }
   ],
   "source": [
    "#Calculating coefficent\n",
    "b1=covar/var_x\n",
    "# print the parameter theta1\n",
    "print('Coefficient = Theta1 =%.3f' %b1)\n",
    "\n",
    "#Calculating Intecept\n",
    "b0=mean_y-b1*mean_x\n",
    "# print the parameter theta0\n",
    "print('Intercept = Theta0 =%.3f' %b0)\n"
   ]
  },
  {
   "cell_type": "code",
   "execution_count": 17,
   "metadata": {},
   "outputs": [
    {
     "name": "stdout",
     "output_type": "stream",
     "text": [
      "The Mean Square Error is: = 23370078.801 \n",
      "The Root Mean Square Error is: = 4834.261 \n"
     ]
    }
   ],
   "source": [
    "#prediction of Y\n",
    "Y_Prediction = b0 + b1*X_test\n",
    "\n",
    "#calculation of Mean Suqre Error\n",
    "prediction_error = Y_Prediction - y_test\n",
    "sum_error = 0.0\n",
    "for i in range(len(y_test)):\n",
    "    prediction_error = Y_Prediction[i] - y_test[i]\n",
    "    sum_error += (prediction_error ** 2)\n",
    "mean_error = sum_error / float(len(y_test))\n",
    "\n",
    "print(\"The Mean Square Error is: = %.3f \" % mean_error)\n",
    "\n",
    "root_mean_error = math.sqrt(mean_error)\n",
    "print(\"The Root Mean Square Error is: = %.3f \" % root_mean_error)"
   ]
  },
  {
   "cell_type": "code",
   "execution_count": 18,
   "metadata": {},
   "outputs": [
    {
     "data": {
      "text/plain": [
       "<matplotlib.axes._subplots.AxesSubplot at 0x1878aad4e88>"
      ]
     },
     "execution_count": 18,
     "metadata": {},
     "output_type": "execute_result"
    },
    {
     "data": {
      "image/png": "[encoded data removed]",
      "text/plain": [
       "<Figure size 432x288 with 1 Axes>"
      ]
     },
     "metadata": {
      "needs_background": "light"
     },
     "output_type": "display_data"
    }
   ],
   "source": [
    "#displaying the training data in blue\n",
    "sns.scatterplot(X_train.flatten(),y_train.flatten(),color='blue')\n",
    "\n",
    "#displaying the test data in red\n",
    "sns.scatterplot(X_test.flatten(),y_test.flatten(),color='red')\n",
    "\n",
    "#displaying the predicted data in green\n",
    "sns.scatterplot(X_test.flatten(),y_pred.flatten(),color='green')\n",
    "\n",
    "#displaying the regression line in yellow\n",
    "sns.lineplot(X_test.flatten(),y_pred.flatten(),color='yellow')"
   ]
  },
  {
   "cell_type": "code",
   "execution_count": null,
   "metadata": {},
   "outputs": [],
   "source": []
  }
 ],
 "metadata": {
  "kernelspec": {
   "display_name": "Python 3",
   "language": "python",
   "name": "python3"
  },
  "language_info": {
   "codemirror_mode": {
    "name": "ipython",
    "version": 3
   },
   "file_extension": ".py",
   "mimetype": "text/x-python",
   "name": "python",
   "nbconvert_exporter": "python",
   "pygments_lexer": "ipython3",
   "version": "3.7.4"
  }
 },
 "nbformat": 4,
 "nbformat_minor": 2
}
