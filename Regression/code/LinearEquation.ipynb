{
 "cells": [
  {
   "cell_type": "markdown",
   "metadata": {},
   "source": [
    "# Solving simultaneous equations using python"
   ]
  },
  {
   "cell_type": "markdown",
   "metadata": {},
   "source": [
    "Given simultanious equations <br>\n",
    "x + y + z = 6 <br>\n",
    "2y + 5z = -4<br>\n",
    "2x + 5y -z = 27<br> "
   ]
  },
  {
   "cell_type": "code",
   "execution_count": 1,
   "metadata": {},
   "outputs": [],
   "source": [
    "#import numpy for linear algebra\n",
    "import numpy as np"
   ]
  },
  {
   "cell_type": "markdown",
   "metadata": {},
   "source": [
    "Converting to Arrays <br>\n",
    "Array 1  :[ [1,1,1], [0,2,5], [2,5,-1] ]\n",
    "\n",
    "Array 2 : [6,-4,27]"
   ]
  },
  {
   "cell_type": "code",
   "execution_count": 2,
   "metadata": {},
   "outputs": [
    {
     "name": "stdout",
     "output_type": "stream",
     "text": [
      "[[1, 1, 1], [0, 2, 5], [2, 5, -1]]\n",
      "[6, -4, 27]\n"
     ]
    }
   ],
   "source": [
    "#Converting to arrays and Assigning the simultanious equation to 3x3 array and 1x3 array.\n",
    "A = [[1,1,1],[0,2,5],[2,5,-1]]\n",
    "Y = [6,-4,27]\n",
    "print(A)\n",
    "print(Y)"
   ]
  },
  {
   "cell_type": "code",
   "execution_count": 3,
   "metadata": {},
   "outputs": [
    {
     "name": "stdout",
     "output_type": "stream",
     "text": [
      "INVERSE MATRIX OF ARRAY 1\n",
      "[[ 1.28571429 -0.28571429 -0.14285714]\n",
      " [-0.47619048  0.14285714  0.23809524]\n",
      " [ 0.19047619  0.14285714 -0.0952381 ]]\n",
      "\n",
      "X, Y, Z VALUES\n",
      "[ 5.  3. -2.]\n"
     ]
    }
   ],
   "source": [
    "#Compute the (multiplicative) inverse of a matrix of A  (Array 1)\n",
    "res = np.linalg.inv(A)\n",
    "print(\"INVERSE MATRIX OF ARRAY 1\")\n",
    "print(res)\n",
    "#Compute the inverse matrix of A (Array 1)) with Array 2 (Y)\n",
    "xyz=res.dot(Y)\n",
    "print(\"\\nX, Y, Z VALUES\")\n",
    "print(xyz)#Compute the inverse matrix of A (Array 1)) with Array 2 (Y)\n",
    "xyz=res.dot(Y)\n",
    "print(\"\\nX, Y, Z VALUES\")\n",
    "print(xyz)"
   ]
  },
  {
   "cell_type": "code",
   "execution_count": 4,
   "metadata": {},
   "outputs": [
    {
     "name": "stdout",
     "output_type": "stream",
     "text": [
      "5.0 3.0 -2.0\n"
     ]
    }
   ],
   "source": [
    "# assigning the outout array to the the respective variables x, y, z\n",
    "x=round(xyz[0])\n",
    "y=round(xyz[1])\n",
    "z=round(xyz[2])\n",
    "print(x,y,z)"
   ]
  },
  {
   "cell_type": "code",
   "execution_count": 5,
   "metadata": {},
   "outputs": [
    {
     "data": {
      "text/plain": [
       "6.0"
      ]
     },
     "execution_count": 5,
     "metadata": {},
     "output_type": "execute_result"
    }
   ],
   "source": [
    "#validating the first equation with the output\n",
    "1*x+1*y+1*z"
   ]
  },
  {
   "cell_type": "code",
   "execution_count": 6,
   "metadata": {},
   "outputs": [
    {
     "data": {
      "text/plain": [
       "-4.0"
      ]
     },
     "execution_count": 6,
     "metadata": {},
     "output_type": "execute_result"
    }
   ],
   "source": [
    "#validating the second equation with output\n",
    "2*y + 5*z"
   ]
  },
  {
   "cell_type": "code",
   "execution_count": 7,
   "metadata": {},
   "outputs": [
    {
     "data": {
      "text/plain": [
       "27.0"
      ]
     },
     "execution_count": 7,
     "metadata": {},
     "output_type": "execute_result"
    }
   ],
   "source": [
    "#validating the third equation with output\n",
    "2*x + 5*y -1*z"
   ]
  },
  {
   "cell_type": "code",
   "execution_count": null,
   "metadata": {},
   "outputs": [],
   "source": []
  }
 ],
 "metadata": {
  "kernelspec": {
   "display_name": "Python 3",
   "language": "python",
   "name": "python3"
  },
  "language_info": {
   "codemirror_mode": {
    "name": "ipython",
    "version": 3
   },
   "file_extension": ".py",
   "mimetype": "text/x-python",
   "name": "python",
   "nbconvert_exporter": "python",
   "pygments_lexer": "ipython3",
   "version": "3.7.4"
  }
 },
 "nbformat": 4,
 "nbformat_minor": 2
}
